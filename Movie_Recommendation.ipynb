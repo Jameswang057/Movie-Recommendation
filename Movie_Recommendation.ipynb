{
  "cells": [
    {
      "cell_type": "markdown",
      "metadata": {
        "id": "6alEbKjqG9zD"
      },
      "source": [
        "# **Moive Recommendation**\n",
        "In this notebook, we use Alternating Least Squares (ALS) algorithm with Spark APIs to predict the ratings for the movies in [MovieLens small dataset](https://grouplens.org/datasets/movielens/latest/)"
      ]
    },
    {
      "cell_type": "markdown",
      "metadata": {
        "id": "QWldNX36HHoc"
      },
      "source": [
        "# Set Up Environments"
      ]
    },
    {
      "cell_type": "code",
      "execution_count": 1,
      "metadata": {
        "id": "ToEYXtzby5vI"
      },
      "outputs": [],
      "source": [
        "# Download Java Virtual Machine (JVM)\n",
        "!apt-get install openjdk-8-jdk-headless -qq > /dev/null"
      ]
    },
    {
      "cell_type": "code",
      "execution_count": 2,
      "metadata": {
        "id": "3JcaoR0jy534"
      },
      "outputs": [],
      "source": [
        "# Download Spark\n",
        "!wget -q https://dlcdn.apache.org/spark/spark-3.3.1/spark-3.3.1-bin-hadoop3.tgz\n",
        "# Unzip the file\n",
        "!tar xf spark-3.3.1-bin-hadoop3.tgz"
      ]
    },
    {
      "cell_type": "code",
      "execution_count": 3,
      "metadata": {
        "id": "9CWq99bJy589"
      },
      "outputs": [],
      "source": [
        "import os\n",
        "os.environ[\"JAVA_HOME\"] = \"/usr/lib/jvm/java-8-openjdk-amd64\"\n",
        "os.environ[\"SPARK_HOME\"] = '/content/spark-3.3.1-bin-hadoop3'"
      ]
    },
    {
      "cell_type": "code",
      "execution_count": 4,
      "metadata": {
        "colab": {
          "base_uri": "https://localhost:8080/",
          "height": 35
        },
        "id": "lunhthQny6Bz",
        "outputId": "933194fc-340e-4809-fa7c-912f36b52fd9"
      },
      "outputs": [
        {
          "output_type": "execute_result",
          "data": {
            "text/plain": [
              "'/content/spark-3.3.1-bin-hadoop3'"
            ],
            "application/vnd.google.colaboratory.intrinsic+json": {
              "type": "string"
            }
          },
          "metadata": {},
          "execution_count": 4
        }
      ],
      "source": [
        "# Install library for finding Spark\n",
        "!pip install -q findspark\n",
        "# Import the libary\n",
        "import findspark\n",
        "# Initiate findspark\n",
        "findspark.init()\n",
        "# Check the location for Spark\n",
        "findspark.find()"
      ]
    },
    {
      "cell_type": "code",
      "execution_count": 5,
      "metadata": {
        "colab": {
          "base_uri": "https://localhost:8080/",
          "height": 219
        },
        "id": "eU6FPBig0a-S",
        "outputId": "88a51813-6751-4e32-aadb-0a4520e0bb31"
      },
      "outputs": [
        {
          "output_type": "execute_result",
          "data": {
            "text/plain": [
              "<pyspark.sql.session.SparkSession at 0x7f6ba5f90b80>"
            ],
            "text/html": [
              "\n",
              "            <div>\n",
              "                <p><b>SparkSession - in-memory</b></p>\n",
              "                \n",
              "        <div>\n",
              "            <p><b>SparkContext</b></p>\n",
              "\n",
              "            <p><a href=\"http://116af8b879ce:4040\">Spark UI</a></p>\n",
              "\n",
              "            <dl>\n",
              "              <dt>Version</dt>\n",
              "                <dd><code>v3.3.1</code></dd>\n",
              "              <dt>Master</dt>\n",
              "                <dd><code>local[*]</code></dd>\n",
              "              <dt>AppName</dt>\n",
              "                <dd><code>pyspark-shell</code></dd>\n",
              "            </dl>\n",
              "        </div>\n",
              "        \n",
              "            </div>\n",
              "        "
            ]
          },
          "metadata": {},
          "execution_count": 5
        }
      ],
      "source": [
        "# Import SparkSession\n",
        "from pyspark.sql import SparkSession\n",
        "# Create a Spark Session\n",
        "spark = SparkSession.builder.master(\"local[*]\").getOrCreate()\n",
        "# Check Spark Session Information\n",
        "spark"
      ]
    },
    {
      "cell_type": "code",
      "execution_count": 6,
      "metadata": {
        "id": "YVB_GOSv0bJv"
      },
      "outputs": [],
      "source": [
        "# Import a Spark function from library\n",
        "from pyspark.sql.functions import col"
      ]
    },
    {
      "cell_type": "markdown",
      "metadata": {
        "id": "jUWvE0HsQfEA"
      },
      "source": [
        "## Libraries "
      ]
    },
    {
      "cell_type": "code",
      "execution_count": 7,
      "metadata": {
        "id": "pZ2oYkBsFrty"
      },
      "outputs": [],
      "source": [
        "import numpy as np\n",
        "import pandas as pd\n",
        "import seaborn as sns\n",
        "import matplotlib.pyplot as plt\n",
        "import math\n",
        "%matplotlib inline"
      ]
    },
    {
      "cell_type": "code",
      "execution_count": 8,
      "metadata": {
        "colab": {
          "base_uri": "https://localhost:8080/"
        },
        "id": "tIjOLh3vFrmf",
        "outputId": "5e82cdfc-98cd-4ffa-b45b-dc1f902eb123"
      },
      "outputs": [
        {
          "output_type": "stream",
          "name": "stdout",
          "text": [
            "Mounted at /content/drive\n"
          ]
        }
      ],
      "source": [
        "from google.colab import drive\n",
        "drive.mount('/content/drive')"
      ]
    },
    {
      "cell_type": "markdown",
      "metadata": {
        "id": "pJWrl1Ay2qFA"
      },
      "source": [
        "## Datasets"
      ]
    },
    {
      "cell_type": "code",
      "execution_count": 9,
      "metadata": {
        "id": "r8-mXr-RFrfu"
      },
      "outputs": [],
      "source": [
        "movies_df = spark.read.load(\"/content/drive/MyDrive/Colab Notebooks/Movies/movies.csv\", format='csv', header = True)\n",
        "ratings_df = spark.read.load(\"/content/drive/MyDrive/Colab Notebooks/Movies/ratings.csv\", format='csv', header = True)\n",
        "links_df = spark.read.load(\"/content/drive/MyDrive/Colab Notebooks/Movies/links.csv\", format='csv', header = True)\n",
        "tags_df = spark.read.load(\"/content/drive/MyDrive/Colab Notebooks/Movies/tags.csv\", format='csv', header = True)"
      ]
    },
    {
      "cell_type": "code",
      "execution_count": 10,
      "metadata": {
        "id": "K8OdsQ5RFrWV",
        "colab": {
          "base_uri": "https://localhost:8080/"
        },
        "outputId": "0da3b74f-fe63-4162-ad7b-c1a601e3ad4a"
      },
      "outputs": [
        {
          "output_type": "stream",
          "name": "stdout",
          "text": [
            "+-------+--------------------+--------------------+\n",
            "|movieId|               title|              genres|\n",
            "+-------+--------------------+--------------------+\n",
            "|      1|    Toy Story (1995)|Adventure|Animati...|\n",
            "|      2|      Jumanji (1995)|Adventure|Childre...|\n",
            "|      3|Grumpier Old Men ...|      Comedy|Romance|\n",
            "|      4|Waiting to Exhale...|Comedy|Drama|Romance|\n",
            "|      5|Father of the Bri...|              Comedy|\n",
            "+-------+--------------------+--------------------+\n",
            "only showing top 5 rows\n",
            "\n"
          ]
        }
      ],
      "source": [
        "movies_df.show(5)"
      ]
    },
    {
      "cell_type": "code",
      "execution_count": 11,
      "metadata": {
        "id": "REWeAir1zErR",
        "colab": {
          "base_uri": "https://localhost:8080/"
        },
        "outputId": "8e3cd765-60bd-4943-b564-f227333a2cc2"
      },
      "outputs": [
        {
          "output_type": "stream",
          "name": "stdout",
          "text": [
            "+------+-------+------+---------+\n",
            "|userId|movieId|rating|timestamp|\n",
            "+------+-------+------+---------+\n",
            "|     1|      1|   4.0|964982703|\n",
            "|     1|      3|   4.0|964981247|\n",
            "|     1|      6|   4.0|964982224|\n",
            "|     1|     47|   5.0|964983815|\n",
            "|     1|     50|   5.0|964982931|\n",
            "+------+-------+------+---------+\n",
            "only showing top 5 rows\n",
            "\n"
          ]
        }
      ],
      "source": [
        "ratings_df.show(5)"
      ]
    },
    {
      "cell_type": "code",
      "execution_count": 12,
      "metadata": {
        "colab": {
          "base_uri": "https://localhost:8080/"
        },
        "id": "TLEqnyWgzFzj",
        "outputId": "2dfba3c2-6579-42c0-8036-edfe1b239d9c"
      },
      "outputs": [
        {
          "output_type": "stream",
          "name": "stdout",
          "text": [
            "+-------+-------+------+\n",
            "|movieId| imdbId|tmdbId|\n",
            "+-------+-------+------+\n",
            "|      1|0114709|   862|\n",
            "|      2|0113497|  8844|\n",
            "|      3|0113228| 15602|\n",
            "|      4|0114885| 31357|\n",
            "|      5|0113041| 11862|\n",
            "+-------+-------+------+\n",
            "only showing top 5 rows\n",
            "\n"
          ]
        }
      ],
      "source": [
        "links_df.show(5)"
      ]
    },
    {
      "cell_type": "code",
      "execution_count": 13,
      "metadata": {
        "id": "kkCiJtjazHiG",
        "colab": {
          "base_uri": "https://localhost:8080/"
        },
        "outputId": "59e373ac-d49b-4702-b439-8bae2ace3d4c"
      },
      "outputs": [
        {
          "output_type": "stream",
          "name": "stdout",
          "text": [
            "+------+-------+---------------+----------+\n",
            "|userId|movieId|            tag| timestamp|\n",
            "+------+-------+---------------+----------+\n",
            "|     2|  60756|          funny|1445714994|\n",
            "|     2|  60756|Highly quotable|1445714996|\n",
            "|     2|  60756|   will ferrell|1445714992|\n",
            "|     2|  89774|   Boxing story|1445715207|\n",
            "|     2|  89774|            MMA|1445715200|\n",
            "+------+-------+---------------+----------+\n",
            "only showing top 5 rows\n",
            "\n"
          ]
        }
      ],
      "source": [
        "tags_df.show(5)"
      ]
    },
    {
      "cell_type": "markdown",
      "metadata": {
        "id": "4t2cH5rw08D-"
      },
      "source": [
        "# Part 1: Data Exploration "
      ]
    },
    {
      "cell_type": "code",
      "execution_count": 14,
      "metadata": {
        "id": "oZ7Sy3VpMh53"
      },
      "outputs": [],
      "source": [
        "ratings_df = ratings_df.drop_duplicates(['userId', 'movieId'])"
      ]
    },
    {
      "cell_type": "code",
      "execution_count": 15,
      "metadata": {
        "id": "VeUxQZx1zW51",
        "colab": {
          "base_uri": "https://localhost:8080/"
        },
        "outputId": "26e44197-717e-4ec9-a6d7-b25dc7e2b46e"
      },
      "outputs": [
        {
          "output_type": "stream",
          "name": "stdout",
          "text": [
            "For the users that rated movies and the movies that were rated:\n",
            "Minimum number of ratings per user is 20\n",
            "Minimum number of ratings per movie is 1\n"
          ]
        }
      ],
      "source": [
        "tmp1 = ratings_df.groupBy(\"userID\").count().toPandas()['count'].min()\n",
        "tmp2 = ratings_df.groupBy(\"movieId\").count().toPandas()['count'].min()\n",
        "print('For the users that rated movies and the movies that were rated:')\n",
        "print('Minimum number of ratings per user is {}'.format(tmp1))\n",
        "print('Minimum number of ratings per movie is {}'.format(tmp2))"
      ]
    },
    {
      "cell_type": "code",
      "execution_count": 16,
      "metadata": {
        "id": "6mrhUm9Zzh6G",
        "colab": {
          "base_uri": "https://localhost:8080/"
        },
        "outputId": "99c57864-8f1e-4c1c-aa62-c9f7120690af"
      },
      "outputs": [
        {
          "output_type": "stream",
          "name": "stdout",
          "text": [
            "3446 out of 9724 movies are rated by only one user\n"
          ]
        }
      ],
      "source": [
        "tmp1 = sum(ratings_df.groupBy(\"movieId\").count().toPandas()['count'] == 1) \n",
        "tmp2 = ratings_df.select('movieId').distinct().count() \n",
        "print('{} out of {} movies are rated by only one user'.format(tmp1, tmp2)) "
      ]
    },
    {
      "cell_type": "code",
      "execution_count": 17,
      "metadata": {
        "id": "HiH40ORB1Rr9",
        "colab": {
          "base_uri": "https://localhost:8080/"
        },
        "outputId": "23d20cf2-13d5-42bd-a307-ef4f9adbab5d"
      },
      "outputs": [
        {
          "output_type": "stream",
          "name": "stderr",
          "text": [
            "/content/spark-3.3.1-bin-hadoop3/python/pyspark/sql/dataframe.py:229: FutureWarning: Deprecated in 2.0, use createOrReplaceTempView instead.\n",
            "  warnings.warn(\"Deprecated in 2.0, use createOrReplaceTempView instead.\", FutureWarning)\n"
          ]
        }
      ],
      "source": [
        "ratings_df.registerTempTable(\"ratings\")\n",
        "movies_df.registerTempTable(\"movies\") \n",
        "links_df.registerTempTable(\"links\")\n",
        "tags_df.registerTempTable(\"tags\")"
      ]
    },
    {
      "cell_type": "markdown",
      "metadata": {
        "id": "EeKYhPR01IHr"
      },
      "source": [
        "### Q1: The number of Users"
      ]
    },
    {
      "cell_type": "code",
      "execution_count": 18,
      "metadata": {
        "id": "mGnoh18w1F0W",
        "colab": {
          "base_uri": "https://localhost:8080/"
        },
        "outputId": "982990c5-577d-455c-9563-a98df70b8f59"
      },
      "outputs": [
        {
          "output_type": "stream",
          "name": "stdout",
          "text": [
            "+---------------+\n",
            "|Number_of_Users|\n",
            "+---------------+\n",
            "|            610|\n",
            "+---------------+\n",
            "\n"
          ]
        }
      ],
      "source": [
        "q1_result=spark.sql(\"Select Count(Distinct userId) as Number_of_Users from ratings\")\n",
        "q1_result.show()"
      ]
    },
    {
      "cell_type": "markdown",
      "metadata": {
        "id": "DJsAsrIs4ifx"
      },
      "source": [
        "### Q2: The number of Movies"
      ]
    },
    {
      "cell_type": "code",
      "execution_count": 19,
      "metadata": {
        "id": "Y7GHP20_4N-5",
        "colab": {
          "base_uri": "https://localhost:8080/"
        },
        "outputId": "8a526397-bcd9-40bc-8741-bffe38fdc46a"
      },
      "outputs": [
        {
          "output_type": "stream",
          "name": "stdout",
          "text": [
            "+----------------+\n",
            "|Number_of_Moives|\n",
            "+----------------+\n",
            "|            9742|\n",
            "+----------------+\n",
            "\n"
          ]
        }
      ],
      "source": [
        "q2_result=spark.sql(\"Select Count(movieId) as Number_of_Moives from movies\") \n",
        "q2_result.show()"
      ]
    },
    {
      "cell_type": "markdown",
      "metadata": {
        "id": "axRsLKg85DhS"
      },
      "source": [
        "### Q3:  How many movies are rated by users? List movies not rated before"
      ]
    },
    {
      "cell_type": "code",
      "execution_count": 20,
      "metadata": {
        "id": "ad0jPghWqBBm",
        "colab": {
          "base_uri": "https://localhost:8080/"
        },
        "outputId": "a3200cb3-e753-4a7a-e456-5b15a5fe1b11"
      },
      "outputs": [
        {
          "output_type": "stream",
          "name": "stdout",
          "text": [
            "+----------------------+\n",
            "|Number_of_Rated_Moives|\n",
            "+----------------------+\n",
            "|                  9724|\n",
            "+----------------------+\n",
            "\n"
          ]
        }
      ],
      "source": [
        "q3_result_1 = spark.sql(\"select count(distinct movieId) as Number_of_Rated_Moives from ratings\") \n",
        "q3_result_1.show()"
      ]
    },
    {
      "cell_type": "code",
      "execution_count": 21,
      "metadata": {
        "id": "oGKwmS8J7y1b",
        "colab": {
          "base_uri": "https://localhost:8080/"
        },
        "outputId": "657d4fa9-a1aa-49a5-ce54-55c3c5db6431"
      },
      "outputs": [
        {
          "output_type": "stream",
          "name": "stdout",
          "text": [
            "50 movies that have not been rated by users:\n",
            "+-------+--------------------+--------------------+\n",
            "|movieId|               title|              genres|\n",
            "+-------+--------------------+--------------------+\n",
            "|   1076|Innocents, The (1...|Drama|Horror|Thri...|\n",
            "|   2939|      Niagara (1953)|      Drama|Thriller|\n",
            "|   3338|For All Mankind (...|         Documentary|\n",
            "|   3456|Color of Paradise...|               Drama|\n",
            "|   4194|I Know Where I'm ...|   Drama|Romance|War|\n",
            "|   5721|  Chosen, The (1981)|               Drama|\n",
            "|   6668|Road Home, The (W...|       Drama|Romance|\n",
            "|   6849|      Scrooge (1970)|Drama|Fantasy|Mus...|\n",
            "|   7020|        Proof (1991)|Comedy|Drama|Romance|\n",
            "|   7792|Parallax View, Th...|            Thriller|\n",
            "|   8765|This Gun for Hire...|Crime|Film-Noir|T...|\n",
            "|  25855|Roaring Twenties,...|Crime|Drama|Thriller|\n",
            "|  26085|Mutiny on the Bou...|Adventure|Drama|R...|\n",
            "|  30892|In the Realms of ...|Animation|Documen...|\n",
            "|  32160|Twentieth Century...|              Comedy|\n",
            "|  32371|Call Northside 77...|Crime|Drama|Film-...|\n",
            "|  34482|Browning Version,...|               Drama|\n",
            "|  85565|  Chalet Girl (2011)|      Comedy|Romance|\n",
            "+-------+--------------------+--------------------+\n",
            "\n"
          ]
        }
      ],
      "source": [
        "# movies that have not been rated before: 50 movies as an example\n",
        "unrated_list=spark.sql(\"SELECT * FROM movies WHERE movieId NOT IN (SELECT movieId FROM ratings) LIMIT 50\")\n",
        "print('50 movies that have not been rated by users:')\n",
        "unrated_list.show()"
      ]
    },
    {
      "cell_type": "markdown",
      "metadata": {
        "id": "hDrUzAEA8j3R"
      },
      "source": [
        "### Q4: List Movie Genres "
      ]
    },
    {
      "cell_type": "code",
      "execution_count": 22,
      "metadata": {
        "id": "uL7ftqfBwEgh",
        "colab": {
          "base_uri": "https://localhost:8080/"
        },
        "outputId": "9b1aa2c0-065b-4855-b922-2efd84025a77"
      },
      "outputs": [
        {
          "output_type": "stream",
          "name": "stdout",
          "text": [
            "+--------------------+\n",
            "|              genres|\n",
            "+--------------------+\n",
            "|Comedy|Horror|Thr...|\n",
            "|Adventure|Sci-Fi|...|\n",
            "|Action|Adventure|...|\n",
            "| Action|Drama|Horror|\n",
            "|Action|Animation|...|\n",
            "|Animation|Childre...|\n",
            "|Action|Adventure|...|\n",
            "|    Adventure|Sci-Fi|\n",
            "|Documentary|Music...|\n",
            "|Adventure|Childre...|\n",
            "| Adventure|Animation|\n",
            "| Musical|Romance|War|\n",
            "|Action|Adventure|...|\n",
            "|Adventure|Childre...|\n",
            "|Comedy|Crime|Horr...|\n",
            "|Crime|Drama|Fanta...|\n",
            "|Comedy|Mystery|Th...|\n",
            "|   Adventure|Fantasy|\n",
            "|Horror|Romance|Sc...|\n",
            "|Drama|Film-Noir|R...|\n",
            "+--------------------+\n",
            "only showing top 20 rows\n",
            "\n"
          ]
        }
      ],
      "source": [
        "spark.sql('select distinct genres from movies').show()"
      ]
    },
    {
      "cell_type": "code",
      "execution_count": 23,
      "metadata": {
        "id": "quueW6Jl8hBW",
        "colab": {
          "base_uri": "https://localhost:8080/"
        },
        "outputId": "4261c65d-a60e-4587-8f1f-9cb0ef52d6d3"
      },
      "outputs": [
        {
          "output_type": "stream",
          "name": "stdout",
          "text": [
            "+------------------+\n",
            "|            genres|\n",
            "+------------------+\n",
            "|(no genres listed)|\n",
            "|            Action|\n",
            "|         Adventure|\n",
            "|         Animation|\n",
            "|          Children|\n",
            "|            Comedy|\n",
            "|             Crime|\n",
            "|       Documentary|\n",
            "|             Drama|\n",
            "|           Fantasy|\n",
            "|         Film-Noir|\n",
            "|            Horror|\n",
            "|              IMAX|\n",
            "|           Musical|\n",
            "|           Mystery|\n",
            "|           Romance|\n",
            "|            Sci-Fi|\n",
            "|          Thriller|\n",
            "|               War|\n",
            "|           Western|\n",
            "+------------------+\n",
            "\n"
          ]
        }
      ],
      "source": [
        "q4_result=spark.sql(\"Select Distinct explode(split(genres,'[|]')) as genres From movies Order by 1\")\n",
        "q4_result.show()"
      ]
    },
    {
      "cell_type": "markdown",
      "metadata": {
        "id": "z3OUmAESLY__"
      },
      "source": [
        "### Q5: The number of movies for Each Category "
      ]
    },
    {
      "cell_type": "code",
      "execution_count": 24,
      "metadata": {
        "id": "t53GMhTrLYcy",
        "colab": {
          "base_uri": "https://localhost:8080/"
        },
        "outputId": "9dbf628d-713f-4d20-bb72-4fb6d33b3675"
      },
      "outputs": [
        {
          "output_type": "stream",
          "name": "stdout",
          "text": [
            "+------------------+----------------+\n",
            "|            genres|Number_of_Moives|\n",
            "+------------------+----------------+\n",
            "|             Drama|            4361|\n",
            "|            Comedy|            3756|\n",
            "|          Thriller|            1894|\n",
            "|            Action|            1828|\n",
            "|           Romance|            1596|\n",
            "|         Adventure|            1263|\n",
            "|             Crime|            1199|\n",
            "|            Sci-Fi|             980|\n",
            "|            Horror|             978|\n",
            "|           Fantasy|             779|\n",
            "|          Children|             664|\n",
            "|         Animation|             611|\n",
            "|           Mystery|             573|\n",
            "|       Documentary|             440|\n",
            "|               War|             382|\n",
            "|           Musical|             334|\n",
            "|           Western|             167|\n",
            "|              IMAX|             158|\n",
            "|         Film-Noir|              87|\n",
            "|(no genres listed)|              34|\n",
            "+------------------+----------------+\n",
            "\n"
          ]
        }
      ],
      "source": [
        "# size of each category \n",
        "q5_result_1=spark.sql(\"Select genres,Count(movieId) as Number_of_Moives From(Select explode(split(genres,'[|]')) as genres, movieId From movies) Group By 1 Order by 2 DESC\")\n",
        "q5_result_1.show()"
      ]
    },
    {
      "cell_type": "code",
      "execution_count": 25,
      "metadata": {
        "id": "HwPq3juBXk9L",
        "colab": {
          "base_uri": "https://localhost:8080/"
        },
        "outputId": "545e2a6a-f327-4ac3-f138-c292bd4f7a48"
      },
      "outputs": [
        {
          "output_type": "stream",
          "name": "stdout",
          "text": [
            "+------------------+--------------------+\n",
            "|            genres|      list_of_movies|\n",
            "+------------------+--------------------+\n",
            "|             Crime|Stealing Rembrand...|\n",
            "|           Romance|Vampire in Brookl...|\n",
            "|          Thriller|Element of Crime,...|\n",
            "|         Adventure|Ice Age: Collisio...|\n",
            "|             Drama|Airport '77 (1977...|\n",
            "|               War|General, The (192...|\n",
            "|       Documentary|The Barkley Marat...|\n",
            "|           Fantasy|Masters of the Un...|\n",
            "|           Mystery|Before and After ...|\n",
            "|           Musical|U2: Rattle and Hu...|\n",
            "|         Animation|Ice Age: Collisio...|\n",
            "|         Film-Noir|Rififi (Du rififi...|\n",
            "|(no genres listed)|T2 3-D: Battle Ac...|\n",
            "|              IMAX|Harry Potter and ...|\n",
            "|            Horror|Underworld: Rise ...|\n",
            "|           Western|Man Who Shot Libe...|\n",
            "|            Comedy|Hysteria (2011),H...|\n",
            "|          Children|Ice Age: Collisio...|\n",
            "|            Action|Stealing Rembrand...|\n",
            "|            Sci-Fi|Push (2009),SORI:...|\n",
            "+------------------+--------------------+\n",
            "\n"
          ]
        }
      ],
      "source": [
        "# list all movie for each category \n",
        "q5_result_2=spark.sql(\"Select genres, concat_ws(',',collect_set(title)) as list_of_movies From(Select explode(split(genres,'[|]')) as genres, title From movies) Group By 1\")\n",
        "q5_result_2.show()"
      ]
    },
    {
      "cell_type": "markdown",
      "metadata": {
        "id": "aS11BgUKN8nZ"
      },
      "source": [
        "# Part2: Spark ALS based approach for training model\n"
      ]
    },
    {
      "cell_type": "code",
      "execution_count": 26,
      "metadata": {
        "id": "nuoD2YfyQfVq",
        "colab": {
          "base_uri": "https://localhost:8080/"
        },
        "outputId": "ad08faf2-4e39-4ed3-f946-2afedb79e9c2"
      },
      "outputs": [
        {
          "output_type": "stream",
          "name": "stdout",
          "text": [
            "+------+-------+------+---------+\n",
            "|userId|movieId|rating|timestamp|\n",
            "+------+-------+------+---------+\n",
            "|     1|      1|   4.0|964982703|\n",
            "|     1|   1024|   5.0|964982876|\n",
            "|     1|   1030|   3.0|964982903|\n",
            "|     1|   1031|   5.0|964982653|\n",
            "|     1|   1089|   5.0|964982951|\n",
            "|     1|    110|   4.0|964982176|\n",
            "|     1|   1206|   5.0|964983737|\n",
            "|     1|   1219|   2.0|964983393|\n",
            "|     1|   1220|   5.0|964981909|\n",
            "|     1|   1226|   5.0|964983618|\n",
            "|     1|   1240|   5.0|964983723|\n",
            "|     1|   1270|   5.0|964983705|\n",
            "|     1|   1275|   5.0|964982290|\n",
            "|     1|   1282|   5.0|964982703|\n",
            "|     1|   1291|   5.0|964981909|\n",
            "|     1|   1396|   3.0|964983017|\n",
            "|     1|   1473|   4.0|964980875|\n",
            "|     1|   1552|   4.0|964982620|\n",
            "|     1|    157|   5.0|964984100|\n",
            "|     1|   1573|   5.0|964982290|\n",
            "+------+-------+------+---------+\n",
            "only showing top 20 rows\n",
            "\n"
          ]
        }
      ],
      "source": [
        "ratings_df.show()"
      ]
    },
    {
      "cell_type": "code",
      "execution_count": 27,
      "metadata": {
        "id": "-6p0nDibQhKl"
      },
      "outputs": [],
      "source": [
        "movie_ratings=ratings_df.drop('timestamp')"
      ]
    },
    {
      "cell_type": "code",
      "execution_count": 28,
      "metadata": {
        "id": "Db_Mg8FnQs4y"
      },
      "outputs": [],
      "source": [
        "from pyspark.sql.types import IntegerType, FloatType\n",
        "movie_ratings = movie_ratings.withColumn(\"userId\", movie_ratings[\"userId\"].cast(IntegerType()))\n",
        "movie_ratings = movie_ratings.withColumn(\"movieId\", movie_ratings[\"movieId\"].cast(IntegerType()))\n",
        "movie_ratings = movie_ratings.withColumn(\"rating\", movie_ratings[\"rating\"].cast(FloatType()))"
      ]
    },
    {
      "cell_type": "code",
      "execution_count": 29,
      "metadata": {
        "id": "q7QagKRAQv49",
        "colab": {
          "base_uri": "https://localhost:8080/"
        },
        "outputId": "1fce810e-9a5d-4bc4-cfde-6cd67c9c5df7"
      },
      "outputs": [
        {
          "output_type": "stream",
          "name": "stdout",
          "text": [
            "+------+-------+------+\n",
            "|userId|movieId|rating|\n",
            "+------+-------+------+\n",
            "|     1|      1|   4.0|\n",
            "|     1|   1009|   3.0|\n",
            "|     1|    101|   5.0|\n",
            "|     1|   1023|   5.0|\n",
            "|     1|   1024|   5.0|\n",
            "|     1|   1025|   5.0|\n",
            "|     1|   1029|   5.0|\n",
            "|     1|   1030|   3.0|\n",
            "|     1|   1031|   5.0|\n",
            "|     1|   1032|   5.0|\n",
            "|     1|   1042|   4.0|\n",
            "|     1|   1049|   5.0|\n",
            "|     1|   1060|   4.0|\n",
            "|     1|   1073|   5.0|\n",
            "|     1|   1080|   5.0|\n",
            "|     1|   1089|   5.0|\n",
            "|     1|   1090|   4.0|\n",
            "|     1|   1092|   5.0|\n",
            "|     1|   1097|   5.0|\n",
            "|     1|    110|   4.0|\n",
            "+------+-------+------+\n",
            "only showing top 20 rows\n",
            "\n"
          ]
        }
      ],
      "source": [
        "movie_ratings.show()"
      ]
    },
    {
      "cell_type": "code",
      "execution_count": 30,
      "metadata": {
        "id": "jcBBrr8tJ_TD",
        "colab": {
          "base_uri": "https://localhost:8080/",
          "height": 390
        },
        "outputId": "3306fbf1-ee26-4a75-9719-08f8ea2d5c77"
      },
      "outputs": [
        {
          "output_type": "display_data",
          "data": {
            "text/plain": [
              "<Figure size 864x432 with 1 Axes>"
            ],
            "image/png": "[encoded data removed]"
          },
          "metadata": {
            "needs_background": "light"
          }
        }
      ],
      "source": [
        "# bar chart of ratings\n",
        "rating_count=movie_ratings.select('rating').groupBy('rating').count().toPandas() \n",
        "plt.figure(figsize=[12,6])  \n",
        "plt.bar(x='rating',height='count',data=rating_count,width=0.5) \n",
        "plt.title('Ratings Distribution')\n",
        "plt.xticks(np.arange(0.5,5.5,0.5)) \n",
        "plt.show()"
      ]
    },
    {
      "cell_type": "code",
      "execution_count": 31,
      "metadata": {
        "id": "ibxfaiGXMZbM",
        "colab": {
          "base_uri": "https://localhost:8080/",
          "height": 206
        },
        "outputId": "8696acc8-081f-40ba-a5a4-b5a2349bf4f5"
      },
      "outputs": [
        {
          "output_type": "execute_result",
          "data": {
            "text/plain": [
              "   rating  count\n",
              "0     5.0  13211\n",
              "1     2.5   5550\n",
              "2     2.0   7551\n",
              "3     3.0  20047\n",
              "4     1.5   1791"
            ],
            "text/html": [
              "\n",
              "  <div id=\"df-bd8329f0-c6d4-4faf-b579-e377f5de2ee5\">\n",
              "    <div class=\"colab-df-container\">\n",
              "      <div>\n",
              "<style scoped>\n",
              "    .dataframe tbody tr th:only-of-type {\n",
              "        vertical-align: middle;\n",
              "    }\n",
              "\n",
              "    .dataframe tbody tr th {\n",
              "        vertical-align: top;\n",
              "    }\n",
              "\n",
              "    .dataframe thead th {\n",
              "        text-align: right;\n",
              "    }\n",
              "</style>\n",
              "<table border=\"1\" class=\"dataframe\">\n",
              "  <thead>\n",
              "    <tr style=\"text-align: right;\">\n",
              "      <th></th>\n",
              "      <th>rating</th>\n",
              "      <th>count</th>\n",
              "    </tr>\n",
              "  </thead>\n",
              "  <tbody>\n",
              "    <tr>\n",
              "      <th>0</th>\n",
              "      <td>5.0</td>\n",
              "      <td>13211</td>\n",
              "    </tr>\n",
              "    <tr>\n",
              "      <th>1</th>\n",
              "      <td>2.5</td>\n",
              "      <td>5550</td>\n",
              "    </tr>\n",
              "    <tr>\n",
              "      <th>2</th>\n",
              "      <td>2.0</td>\n",
              "      <td>7551</td>\n",
              "    </tr>\n",
              "    <tr>\n",
              "      <th>3</th>\n",
              "      <td>3.0</td>\n",
              "      <td>20047</td>\n",
              "    </tr>\n",
              "    <tr>\n",
              "      <th>4</th>\n",
              "      <td>1.5</td>\n",
              "      <td>1791</td>\n",
              "    </tr>\n",
              "  </tbody>\n",
              "</table>\n",
              "</div>\n",
              "      <button class=\"colab-df-convert\" onclick=\"convertToInteractive('df-bd8329f0-c6d4-4faf-b579-e377f5de2ee5')\"\n",
              "              title=\"Convert this dataframe to an interactive table.\"\n",
              "              style=\"display:none;\">\n",
              "        \n",
              "  <svg xmlns=\"http://www.w3.org/2000/svg\" height=\"24px\"viewBox=\"0 0 24 24\"\n",
              "       width=\"24px\">\n",
              "    <path d=\"M0 0h24v24H0V0z\" fill=\"none\"/>\n",
              "    <path d=\"M18.56 5.44l.94 2.06.94-2.06 2.06-.94-2.06-.94-.94-2.06-.94 2.06-2.06.94zm-11 1L8.5 8.5l.94-2.06 2.06-.94-2.06-.94L8.5 2.5l-.94 2.06-2.06.94zm10 10l.94 2.06.94-2.06 2.06-.94-2.06-.94-.94-2.06-.94 2.06-2.06.94z\"/><path d=\"M17.41 7.96l-1.37-1.37c-.4-.4-.92-.59-1.43-.59-.52 0-1.04.2-1.43.59L10.3 9.45l-7.72 7.72c-.78.78-.78 2.05 0 2.83L4 21.41c.39.39.9.59 1.41.59.51 0 1.02-.2 1.41-.59l7.78-7.78 2.81-2.81c.8-.78.8-2.07 0-2.86zM5.41 20L4 18.59l7.72-7.72 1.47 1.35L5.41 20z\"/>\n",
              "  </svg>\n",
              "      </button>\n",
              "      \n",
              "  <style>\n",
              "    .colab-df-container {\n",
              "      display:flex;\n",
              "      flex-wrap:wrap;\n",
              "      gap: 12px;\n",
              "    }\n",
              "\n",
              "    .colab-df-convert {\n",
              "      background-color: #E8F0FE;\n",
              "      border: none;\n",
              "      border-radius: 50%;\n",
              "      cursor: pointer;\n",
              "      display: none;\n",
              "      fill: #1967D2;\n",
              "      height: 32px;\n",
              "      padding: 0 0 0 0;\n",
              "      width: 32px;\n",
              "    }\n",
              "\n",
              "    .colab-df-convert:hover {\n",
              "      background-color: #E2EBFA;\n",
              "      box-shadow: 0px 1px 2px rgba(60, 64, 67, 0.3), 0px 1px 3px 1px rgba(60, 64, 67, 0.15);\n",
              "      fill: #174EA6;\n",
              "    }\n",
              "\n",
              "    [theme=dark] .colab-df-convert {\n",
              "      background-color: #3B4455;\n",
              "      fill: #D2E3FC;\n",
              "    }\n",
              "\n",
              "    [theme=dark] .colab-df-convert:hover {\n",
              "      background-color: #434B5C;\n",
              "      box-shadow: 0px 1px 3px 1px rgba(0, 0, 0, 0.15);\n",
              "      filter: drop-shadow(0px 1px 2px rgba(0, 0, 0, 0.3));\n",
              "      fill: #FFFFFF;\n",
              "    }\n",
              "  </style>\n",
              "\n",
              "      <script>\n",
              "        const buttonEl =\n",
              "          document.querySelector('#df-bd8329f0-c6d4-4faf-b579-e377f5de2ee5 button.colab-df-convert');\n",
              "        buttonEl.style.display =\n",
              "          google.colab.kernel.accessAllowed ? 'block' : 'none';\n",
              "\n",
              "        async function convertToInteractive(key) {\n",
              "          const element = document.querySelector('#df-bd8329f0-c6d4-4faf-b579-e377f5de2ee5');\n",
              "          const dataTable =\n",
              "            await google.colab.kernel.invokeFunction('convertToInteractive',\n",
              "                                                     [key], {});\n",
              "          if (!dataTable) return;\n",
              "\n",
              "          const docLinkHtml = 'Like what you see? Visit the ' +\n",
              "            '<a target=\"_blank\" href=https://colab.research.google.com/notebooks/data_table.ipynb>data table notebook</a>'\n",
              "            + ' to learn more about interactive tables.';\n",
              "          element.innerHTML = '';\n",
              "          dataTable['output_type'] = 'display_data';\n",
              "          await google.colab.output.renderOutput(dataTable, element);\n",
              "          const docLink = document.createElement('div');\n",
              "          docLink.innerHTML = docLinkHtml;\n",
              "          element.appendChild(docLink);\n",
              "        }\n",
              "      </script>\n",
              "    </div>\n",
              "  </div>\n",
              "  "
            ]
          },
          "metadata": {},
          "execution_count": 31
        }
      ],
      "source": [
        "rating_count.head()"
      ]
    },
    {
      "cell_type": "markdown",
      "metadata": {
        "id": "IBfAd44cQ0aj"
      },
      "source": [
        "## ALS Model Selection and Evaluation (Tune hyperparameters)\n"
      ]
    },
    {
      "cell_type": "markdown",
      "metadata": {
        "id": "frLv3rXj1Vu_"
      },
      "source": [
        "Tune hyperparameters via hold-out validation or cross-validation by grid search.\n",
        "The most important hyperparameters: \n",
        "1. maxIter: the maximum number of iterations to run (defaults to 10);\n",
        "2. rank: the number of latent factors in the model (defaults to 10);\n",
        "3. regParam: the regularization parameter in ALS (defaults to 1.0);\n",
        "https://spark.apache.org/docs/2.2.0/ml-collaborative-filtering.html\n"
      ]
    },
    {
      "cell_type": "code",
      "execution_count": 32,
      "metadata": {
        "id": "Wc9CF4YhQ5fq"
      },
      "outputs": [],
      "source": [
        "# Import package\n",
        "from pyspark.ml.evaluation import RegressionEvaluator \n",
        "from pyspark.ml.recommendation import ALS  \n",
        "from pyspark.ml.tuning import CrossValidator,ParamGridBuilder"
      ]
    },
    {
      "cell_type": "code",
      "execution_count": 33,
      "metadata": {
        "id": "rGAdsCyeQ9Tk"
      },
      "outputs": [],
      "source": [
        "#Create test and train set \n",
        "(training,test) = movie_ratings.randomSplit([0.8,0.2]) "
      ]
    },
    {
      "cell_type": "code",
      "execution_count": 34,
      "metadata": {
        "id": "zF7ee7xnQ-kX"
      },
      "outputs": [],
      "source": [
        "#Create ALS model\n",
        "model_als = ALS(maxIter=5, rank=10, regParam=0.01, userCol=\"userId\", itemCol=\"movieId\", ratingCol=\"rating\",\n",
        "          coldStartStrategy=\"drop\", seed=6) "
      ]
    },
    {
      "cell_type": "code",
      "execution_count": 35,
      "metadata": {
        "id": "_RGK-DMt1pzr"
      },
      "outputs": [],
      "source": [
        "params = ParamGridBuilder()\\\n",
        "            .addGrid(model_als.maxIter, [3, 5, 10])\\\n",
        "            .addGrid(model_als.regParam, [0.1, 0.01, 0.001])\\\n",
        "            .addGrid(model_als.rank, [5, 10, 15, 20, 25])\\\n",
        "            .addGrid(model_als.alpha, [0.1, 0.01, 0.001])\\\n",
        "            .build()\n",
        "\n",
        "# Define evaluator as RMSE\n",
        "evaluator = RegressionEvaluator(metricName=\"rmse\", labelCol=\"rating\",\n",
        "                                predictionCol=\"prediction\")\n",
        "\n",
        "\n",
        "# Build Cross validation \n",
        "cv = CrossValidator(estimator=model_als, estimatorParamMaps=params, evaluator=evaluator, numFolds=5, seed=6)\n",
        "\n",
        "\n",
        "#Fit ALS model to training data\n",
        "cvModel = cv.fit(training)\n",
        "\n",
        "\n",
        "#Extract best model from the tuning exercise using ParamGridBuilder\n",
        "bestModel=cvModel.bestModel"
      ]
    },
    {
      "cell_type": "markdown",
      "metadata": {
        "id": "kn-qKhWQ_Jda"
      },
      "source": [
        "Check the best parameters"
      ]
    },
    {
      "cell_type": "code",
      "execution_count": 36,
      "metadata": {
        "id": "6Oyy5LLQLcdP",
        "colab": {
          "base_uri": "https://localhost:8080/"
        },
        "outputId": "61a973e8-5418-4c96-c41c-7ed6551d305e"
      },
      "outputs": [
        {
          "output_type": "stream",
          "name": "stdout",
          "text": [
            "Best ALS model parameters by CV:\n",
            "-> maxIter: 10\n",
            "-> regParam: 0.1\n",
            "-> rank: 25\n",
            "-> alpha: 0.1\n"
          ]
        }
      ],
      "source": [
        "best_params = cvModel.getEstimatorParamMaps()[np.argmin(cvModel.avgMetrics)]\n",
        "print('Best ALS model parameters by CV:')\n",
        "for i,j in best_params.items():\n",
        "  print('-> '+i.name+': '+str(j))"
      ]
    },
    {
      "cell_type": "markdown",
      "metadata": {
        "id": "iM5dofXS_VJT"
      },
      "source": [
        "Extract best model from the tuning exercise using ParamGridBuilder."
      ]
    },
    {
      "cell_type": "code",
      "execution_count": 37,
      "metadata": {
        "id": "Lio3yNzvL4iv",
        "colab": {
          "base_uri": "https://localhost:8080/"
        },
        "outputId": "2f309fbc-a023-43e4-f96e-c057d566c1bb"
      },
      "outputs": [
        {
          "output_type": "stream",
          "name": "stdout",
          "text": [
            "Root-mean-square error for training data is 0.48519850177804\n"
          ]
        }
      ],
      "source": [
        "prediction_train=cvModel.transform(training)\n",
        "rmse_train = evaluator.evaluate(prediction_train)\n",
        "print(\"Root-mean-square error for training data is \" + str(rmse_train))"
      ]
    },
    {
      "cell_type": "markdown",
      "metadata": {
        "id": "XsL-ufvNz_oP"
      },
      "source": [
        "## Model testing\n",
        "And finally, make a prediction and check the testing error."
      ]
    },
    {
      "cell_type": "code",
      "execution_count": 38,
      "metadata": {
        "id": "1DSbaAr_0Jc3"
      },
      "outputs": [],
      "source": [
        "#Generate predictions and evaluate using RMSE\n",
        "predictions=bestModel.transform(test)\n",
        "rmse = evaluator.evaluate(predictions)"
      ]
    },
    {
      "cell_type": "code",
      "execution_count": 39,
      "metadata": {
        "id": "i6F_F4br0OpL",
        "colab": {
          "base_uri": "https://localhost:8080/"
        },
        "outputId": "34e105b7-c6cc-4691-aedb-dd2091e1bc68"
      },
      "outputs": [
        {
          "output_type": "stream",
          "name": "stdout",
          "text": [
            "RMSE = 0.8804295287474494\n",
            "**Best Model**\n",
            " Rank:  25\n",
            " MaxIter:  10\n",
            " RegParam:  0.1\n"
          ]
        }
      ],
      "source": [
        "#Print evaluation metrics and model parameters\n",
        "print (\"RMSE = \"+str(rmse))\n",
        "print (\"**Best Model**\")\n",
        "print (\" Rank: \", str(bestModel._java_obj.parent().getRank())),\n",
        "print (\" MaxIter: \", str(bestModel._java_obj.parent().getMaxIter())), \n",
        "print (\" RegParam: \", str(bestModel._java_obj.parent().getRegParam()))"
      ]
    },
    {
      "cell_type": "code",
      "execution_count": 40,
      "metadata": {
        "id": "QLjY6-OC5HIP",
        "colab": {
          "base_uri": "https://localhost:8080/"
        },
        "outputId": "bc783a72-3c9e-4066-b5cf-1cb7795fe345"
      },
      "outputs": [
        {
          "output_type": "stream",
          "name": "stdout",
          "text": [
            "+------+-------+------+----------+\n",
            "|userId|movieId|rating|prediction|\n",
            "+------+-------+------+----------+\n",
            "|     1|      3|   4.0|   3.69731|\n",
            "|     1|     70|   3.0|  3.819016|\n",
            "|     1|    101|   5.0| 3.7991996|\n",
            "|     1|    110|   4.0| 4.5887394|\n",
            "|     1|    316|   3.0| 3.5162554|\n",
            "|     1|    333|   5.0| 4.2564487|\n",
            "|     1|    349|   4.0| 3.7588208|\n",
            "|     1|    527|   5.0| 4.5716906|\n",
            "|     1|    648|   3.0|  4.177069|\n",
            "|     1|    780|   3.0|  3.885841|\n",
            "|     1|    919|   5.0| 4.2108927|\n",
            "|     1|    943|   4.0|  4.546649|\n",
            "|     1|   1030|   3.0| 3.1075165|\n",
            "|     1|   1042|   4.0| 4.0907316|\n",
            "|     1|   1073|   5.0| 4.5381303|\n",
            "|     1|   1092|   5.0| 3.8377094|\n",
            "|     1|   1198|   5.0|  4.660285|\n",
            "|     1|   1270|   5.0|  4.792702|\n",
            "|     1|   1377|   3.0|  3.551931|\n",
            "|     1|   1552|   4.0| 3.4490285|\n",
            "+------+-------+------+----------+\n",
            "only showing top 20 rows\n",
            "\n"
          ]
        }
      ],
      "source": [
        "predictions.show()"
      ]
    },
    {
      "cell_type": "markdown",
      "metadata": {
        "id": "rD63B3RE5JdX"
      },
      "source": [
        "## Model apply and see the performance "
      ]
    },
    {
      "cell_type": "code",
      "execution_count": 41,
      "metadata": {
        "id": "-ma-QzXv5KQ1",
        "colab": {
          "base_uri": "https://localhost:8080/"
        },
        "outputId": "a305d574-1eca-4693-acc1-ef831f504309"
      },
      "outputs": [
        {
          "output_type": "stream",
          "name": "stdout",
          "text": [
            "RMSE = 0.5833217038566241\n"
          ]
        }
      ],
      "source": [
        "alldata = bestModel.transform(movie_ratings)\n",
        "rmse = evaluator.evaluate(alldata)\n",
        "print (\"RMSE = \"+str(rmse))"
      ]
    },
    {
      "cell_type": "code",
      "execution_count": 42,
      "metadata": {
        "id": "glJ7XjAk5P--",
        "colab": {
          "base_uri": "https://localhost:8080/"
        },
        "outputId": "1d4ac8e1-09a5-4bd7-ad73-656d63be4ba5"
      },
      "outputs": [
        {
          "output_type": "stream",
          "name": "stderr",
          "text": [
            "/content/spark-3.3.1-bin-hadoop3/python/pyspark/sql/dataframe.py:229: FutureWarning: Deprecated in 2.0, use createOrReplaceTempView instead.\n",
            "  warnings.warn(\"Deprecated in 2.0, use createOrReplaceTempView instead.\", FutureWarning)\n"
          ]
        }
      ],
      "source": [
        "alldata.registerTempTable(\"alldata\")"
      ]
    },
    {
      "cell_type": "code",
      "execution_count": 43,
      "metadata": {
        "id": "BW0908ad5R42",
        "colab": {
          "base_uri": "https://localhost:8080/"
        },
        "outputId": "120e4744-4a15-4361-dc1b-d1cefbfa8531"
      },
      "outputs": [
        {
          "output_type": "stream",
          "name": "stdout",
          "text": [
            "+------+-------+------+----------+\n",
            "|userId|movieId|rating|prediction|\n",
            "+------+-------+------+----------+\n",
            "|     1|      1|   4.0|  4.298361|\n",
            "|     1|   1009|   3.0|   2.90958|\n",
            "|     1|    101|   5.0| 3.7991996|\n",
            "|     1|   1023|   5.0| 4.8173013|\n",
            "|     1|   1024|   5.0|  4.654805|\n",
            "|     1|   1025|   5.0|  4.592202|\n",
            "|     1|   1029|   5.0| 4.5656595|\n",
            "|     1|   1030|   3.0| 3.1075165|\n",
            "|     1|   1031|   5.0| 4.7130055|\n",
            "|     1|   1032|   5.0| 4.3596745|\n",
            "|     1|   1042|   4.0| 4.0907316|\n",
            "|     1|   1049|   5.0|  4.332242|\n",
            "|     1|   1060|   4.0|  4.230328|\n",
            "|     1|   1073|   5.0| 4.5381303|\n",
            "|     1|   1080|   5.0|  4.693545|\n",
            "|     1|   1089|   5.0| 4.5833077|\n",
            "|     1|   1090|   4.0| 4.2683077|\n",
            "|     1|   1092|   5.0| 3.8377094|\n",
            "|     1|   1097|   5.0|  4.506488|\n",
            "|     1|    110|   4.0| 4.5887394|\n",
            "+------+-------+------+----------+\n",
            "only showing top 20 rows\n",
            "\n"
          ]
        }
      ],
      "source": [
        "spark.sql(\"Select * From alldata\").show()"
      ]
    },
    {
      "cell_type": "code",
      "execution_count": 44,
      "metadata": {
        "id": "hmVDrwsD5TYY",
        "colab": {
          "base_uri": "https://localhost:8080/"
        },
        "outputId": "b61a7a19-9328-4500-c5b8-c3afbbd81501"
      },
      "outputs": [
        {
          "output_type": "stream",
          "name": "stdout",
          "text": [
            "+-------+--------------------+--------------------+------+-------+------+----------+\n",
            "|movieId|               title|              genres|userId|movieId|rating|prediction|\n",
            "+-------+--------------------+--------------------+------+-------+------+----------+\n",
            "|      1|    Toy Story (1995)|Adventure|Animati...|     1|      1|   4.0|  4.298361|\n",
            "|   1009|Escape to Witch M...|Adventure|Childre...|     1|   1009|   3.0|   2.90958|\n",
            "|    101|Bottle Rocket (1996)|Adventure|Comedy|...|     1|    101|   5.0| 3.7991996|\n",
            "|   1023|Winnie the Pooh a...|Animation|Childre...|     1|   1023|   5.0| 4.8173013|\n",
            "|   1024|Three Caballeros,...|Animation|Childre...|     1|   1024|   5.0|  4.654805|\n",
            "|   1025|Sword in the Ston...|Animation|Childre...|     1|   1025|   5.0|  4.592202|\n",
            "|   1029|        Dumbo (1941)|Animation|Childre...|     1|   1029|   5.0| 4.5656595|\n",
            "|   1030|Pete's Dragon (1977)|Adventure|Animati...|     1|   1030|   3.0| 3.1075165|\n",
            "|   1031|Bedknobs and Broo...|Adventure|Childre...|     1|   1031|   5.0| 4.7130055|\n",
            "|   1032|Alice in Wonderla...|Adventure|Animati...|     1|   1032|   5.0| 4.3596745|\n",
            "|   1042|That Thing You Do...|        Comedy|Drama|     1|   1042|   4.0| 4.0907316|\n",
            "|   1049|Ghost and the Dar...|    Action|Adventure|     1|   1049|   5.0|  4.332242|\n",
            "|   1060|     Swingers (1996)|        Comedy|Drama|     1|   1060|   4.0|  4.230328|\n",
            "|   1073|Willy Wonka & the...|Children|Comedy|F...|     1|   1073|   5.0| 4.5381303|\n",
            "|   1080|Monty Python's Li...|              Comedy|     1|   1080|   5.0|  4.693545|\n",
            "|   1089|Reservoir Dogs (1...|Crime|Mystery|Thr...|     1|   1089|   5.0| 4.5833077|\n",
            "|   1090|      Platoon (1986)|           Drama|War|     1|   1090|   4.0| 4.2683077|\n",
            "|   1092|Basic Instinct (1...|Crime|Mystery|Thr...|     1|   1092|   5.0| 3.8377094|\n",
            "|   1097|E.T. the Extra-Te...|Children|Drama|Sc...|     1|   1097|   5.0|  4.506488|\n",
            "|    110|   Braveheart (1995)|    Action|Drama|War|     1|    110|   4.0| 4.5887394|\n",
            "+-------+--------------------+--------------------+------+-------+------+----------+\n",
            "only showing top 20 rows\n",
            "\n"
          ]
        }
      ],
      "source": [
        "spark.sql('SELECT * ' +\\\n",
        "          'FROM movies ' +\\\n",
        "\t          'JOIN alldata ON movies.movieId = alldata.movieId').show()"
      ]
    },
    {
      "cell_type": "markdown",
      "metadata": {
        "id": "UGITMi8k5uOx"
      },
      "source": [
        "## Recommend moive to users with id: 575, 232. \n"
      ]
    },
    {
      "cell_type": "code",
      "execution_count": 45,
      "metadata": {
        "id": "QjBgEltJ5rYw",
        "colab": {
          "base_uri": "https://localhost:8080/",
          "height": 363
        },
        "outputId": "a4a4bb5b-d383-4f74-b338-8c7cc6745cb7"
      },
      "outputs": [
        {
          "output_type": "execute_result",
          "data": {
            "text/plain": [
              "   movieId                                              title  \\\n",
              "1     4973  Amelie (Fabuleux destin d'Amélie Poulain, Le) ...   \n",
              "2   177593   Three Billboards Outside Ebbing, Missouri (2017)   \n",
              "3     3949                         Requiem for a Dream (2000)   \n",
              "4    55820                      No Country for Old Men (2007)   \n",
              "5      778                               Trainspotting (1996)   \n",
              "6     2959                                  Fight Club (1999)   \n",
              "7     7361       Eternal Sunshine of the Spotless Mind (2004)   \n",
              "8      296                                Pulp Fiction (1994)   \n",
              "9     4226                                     Memento (2000)   \n",
              "10    2324         Life Is Beautiful (La Vita è bella) (1997)   \n",
              "\n",
              "                         genres  predicted_ratings  \n",
              "1                Comedy|Romance           4.931437  \n",
              "2                   Crime|Drama           4.864207  \n",
              "3                         Drama           4.823549  \n",
              "4                   Crime|Drama           4.803369  \n",
              "5            Comedy|Crime|Drama           4.762487  \n",
              "6   Action|Crime|Drama|Thriller           4.760187  \n",
              "7          Drama|Romance|Sci-Fi           4.729884  \n",
              "8   Comedy|Crime|Drama|Thriller           4.710854  \n",
              "9              Mystery|Thriller           4.694266  \n",
              "10     Comedy|Drama|Romance|War           4.685217  "
            ],
            "text/html": [
              "\n",
              "  <div id=\"df-58138d08-6a81-4f44-af09-827dba374458\">\n",
              "    <div class=\"colab-df-container\">\n",
              "      <div>\n",
              "<style scoped>\n",
              "    .dataframe tbody tr th:only-of-type {\n",
              "        vertical-align: middle;\n",
              "    }\n",
              "\n",
              "    .dataframe tbody tr th {\n",
              "        vertical-align: top;\n",
              "    }\n",
              "\n",
              "    .dataframe thead th {\n",
              "        text-align: right;\n",
              "    }\n",
              "</style>\n",
              "<table border=\"1\" class=\"dataframe\">\n",
              "  <thead>\n",
              "    <tr style=\"text-align: right;\">\n",
              "      <th></th>\n",
              "      <th>movieId</th>\n",
              "      <th>title</th>\n",
              "      <th>genres</th>\n",
              "      <th>predicted_ratings</th>\n",
              "    </tr>\n",
              "  </thead>\n",
              "  <tbody>\n",
              "    <tr>\n",
              "      <th>1</th>\n",
              "      <td>4973</td>\n",
              "      <td>Amelie (Fabuleux destin d'Amélie Poulain, Le) ...</td>\n",
              "      <td>Comedy|Romance</td>\n",
              "      <td>4.931437</td>\n",
              "    </tr>\n",
              "    <tr>\n",
              "      <th>2</th>\n",
              "      <td>177593</td>\n",
              "      <td>Three Billboards Outside Ebbing, Missouri (2017)</td>\n",
              "      <td>Crime|Drama</td>\n",
              "      <td>4.864207</td>\n",
              "    </tr>\n",
              "    <tr>\n",
              "      <th>3</th>\n",
              "      <td>3949</td>\n",
              "      <td>Requiem for a Dream (2000)</td>\n",
              "      <td>Drama</td>\n",
              "      <td>4.823549</td>\n",
              "    </tr>\n",
              "    <tr>\n",
              "      <th>4</th>\n",
              "      <td>55820</td>\n",
              "      <td>No Country for Old Men (2007)</td>\n",
              "      <td>Crime|Drama</td>\n",
              "      <td>4.803369</td>\n",
              "    </tr>\n",
              "    <tr>\n",
              "      <th>5</th>\n",
              "      <td>778</td>\n",
              "      <td>Trainspotting (1996)</td>\n",
              "      <td>Comedy|Crime|Drama</td>\n",
              "      <td>4.762487</td>\n",
              "    </tr>\n",
              "    <tr>\n",
              "      <th>6</th>\n",
              "      <td>2959</td>\n",
              "      <td>Fight Club (1999)</td>\n",
              "      <td>Action|Crime|Drama|Thriller</td>\n",
              "      <td>4.760187</td>\n",
              "    </tr>\n",
              "    <tr>\n",
              "      <th>7</th>\n",
              "      <td>7361</td>\n",
              "      <td>Eternal Sunshine of the Spotless Mind (2004)</td>\n",
              "      <td>Drama|Romance|Sci-Fi</td>\n",
              "      <td>4.729884</td>\n",
              "    </tr>\n",
              "    <tr>\n",
              "      <th>8</th>\n",
              "      <td>296</td>\n",
              "      <td>Pulp Fiction (1994)</td>\n",
              "      <td>Comedy|Crime|Drama|Thriller</td>\n",
              "      <td>4.710854</td>\n",
              "    </tr>\n",
              "    <tr>\n",
              "      <th>9</th>\n",
              "      <td>4226</td>\n",
              "      <td>Memento (2000)</td>\n",
              "      <td>Mystery|Thriller</td>\n",
              "      <td>4.694266</td>\n",
              "    </tr>\n",
              "    <tr>\n",
              "      <th>10</th>\n",
              "      <td>2324</td>\n",
              "      <td>Life Is Beautiful (La Vita è bella) (1997)</td>\n",
              "      <td>Comedy|Drama|Romance|War</td>\n",
              "      <td>4.685217</td>\n",
              "    </tr>\n",
              "  </tbody>\n",
              "</table>\n",
              "</div>\n",
              "      <button class=\"colab-df-convert\" onclick=\"convertToInteractive('df-58138d08-6a81-4f44-af09-827dba374458')\"\n",
              "              title=\"Convert this dataframe to an interactive table.\"\n",
              "              style=\"display:none;\">\n",
              "        \n",
              "  <svg xmlns=\"http://www.w3.org/2000/svg\" height=\"24px\"viewBox=\"0 0 24 24\"\n",
              "       width=\"24px\">\n",
              "    <path d=\"M0 0h24v24H0V0z\" fill=\"none\"/>\n",
              "    <path d=\"M18.56 5.44l.94 2.06.94-2.06 2.06-.94-2.06-.94-.94-2.06-.94 2.06-2.06.94zm-11 1L8.5 8.5l.94-2.06 2.06-.94-2.06-.94L8.5 2.5l-.94 2.06-2.06.94zm10 10l.94 2.06.94-2.06 2.06-.94-2.06-.94-.94-2.06-.94 2.06-2.06.94z\"/><path d=\"M17.41 7.96l-1.37-1.37c-.4-.4-.92-.59-1.43-.59-.52 0-1.04.2-1.43.59L10.3 9.45l-7.72 7.72c-.78.78-.78 2.05 0 2.83L4 21.41c.39.39.9.59 1.41.59.51 0 1.02-.2 1.41-.59l7.78-7.78 2.81-2.81c.8-.78.8-2.07 0-2.86zM5.41 20L4 18.59l7.72-7.72 1.47 1.35L5.41 20z\"/>\n",
              "  </svg>\n",
              "      </button>\n",
              "      \n",
              "  <style>\n",
              "    .colab-df-container {\n",
              "      display:flex;\n",
              "      flex-wrap:wrap;\n",
              "      gap: 12px;\n",
              "    }\n",
              "\n",
              "    .colab-df-convert {\n",
              "      background-color: #E8F0FE;\n",
              "      border: none;\n",
              "      border-radius: 50%;\n",
              "      cursor: pointer;\n",
              "      display: none;\n",
              "      fill: #1967D2;\n",
              "      height: 32px;\n",
              "      padding: 0 0 0 0;\n",
              "      width: 32px;\n",
              "    }\n",
              "\n",
              "    .colab-df-convert:hover {\n",
              "      background-color: #E2EBFA;\n",
              "      box-shadow: 0px 1px 2px rgba(60, 64, 67, 0.3), 0px 1px 3px 1px rgba(60, 64, 67, 0.15);\n",
              "      fill: #174EA6;\n",
              "    }\n",
              "\n",
              "    [theme=dark] .colab-df-convert {\n",
              "      background-color: #3B4455;\n",
              "      fill: #D2E3FC;\n",
              "    }\n",
              "\n",
              "    [theme=dark] .colab-df-convert:hover {\n",
              "      background-color: #434B5C;\n",
              "      box-shadow: 0px 1px 3px 1px rgba(0, 0, 0, 0.15);\n",
              "      filter: drop-shadow(0px 1px 2px rgba(0, 0, 0, 0.3));\n",
              "      fill: #FFFFFF;\n",
              "    }\n",
              "  </style>\n",
              "\n",
              "      <script>\n",
              "        const buttonEl =\n",
              "          document.querySelector('#df-58138d08-6a81-4f44-af09-827dba374458 button.colab-df-convert');\n",
              "        buttonEl.style.display =\n",
              "          google.colab.kernel.accessAllowed ? 'block' : 'none';\n",
              "\n",
              "        async function convertToInteractive(key) {\n",
              "          const element = document.querySelector('#df-58138d08-6a81-4f44-af09-827dba374458');\n",
              "          const dataTable =\n",
              "            await google.colab.kernel.invokeFunction('convertToInteractive',\n",
              "                                                     [key], {});\n",
              "          if (!dataTable) return;\n",
              "\n",
              "          const docLinkHtml = 'Like what you see? Visit the ' +\n",
              "            '<a target=\"_blank\" href=https://colab.research.google.com/notebooks/data_table.ipynb>data table notebook</a>'\n",
              "            + ' to learn more about interactive tables.';\n",
              "          element.innerHTML = '';\n",
              "          dataTable['output_type'] = 'display_data';\n",
              "          await google.colab.output.renderOutput(dataTable, element);\n",
              "          const docLink = document.createElement('div');\n",
              "          docLink.innerHTML = docLinkHtml;\n",
              "          element.appendChild(docLink);\n",
              "        }\n",
              "      </script>\n",
              "    </div>\n",
              "  </div>\n",
              "  "
            ]
          },
          "metadata": {},
          "execution_count": 45
        }
      ],
      "source": [
        "# define a function to package the recommendation\n",
        "def topKRecommend(k,id,model):\n",
        "  '''\n",
        "  k: the number of movies to recommend\n",
        "  id: the id of the user to give recommendations\n",
        "  model: the trained model for recommendation\n",
        "  '''\n",
        "  # the table for all top10 recommendations\n",
        "  all_recommd=model.recommendForAllUsers(k)\n",
        "  user_recommd=all_recommd.where(all_recommd.userId==id).toPandas()\n",
        "  if user_recommd.shape[0]==0:\n",
        "    print('No user with id '+str(id)+' is found in the data.')\n",
        "    return None\n",
        "  user_recommd=user_recommd.iloc[0,1]\n",
        "  user_recommd=pd.DataFrame(user_recommd,columns=['movieId','predicted_ratings'])\n",
        "  temp=None\n",
        "  for i in user_recommd['movieId']:\n",
        "    if not temp:\n",
        "      temp=movies_df.where(movies_df.movieId==str(i))\n",
        "    else:\n",
        "      temp=temp.union(movies_df.where(movies_df.movieId==str(i)))\n",
        "  out=pd.concat([temp.toPandas(),user_recommd['predicted_ratings']],axis=1)\n",
        "  out.index=range(1,k+1)\n",
        "  return out\n",
        "\n",
        "\n",
        "\n",
        "# top 10 for user 575\n",
        "topKRecommend(10,575,bestModel)"
      ]
    },
    {
      "cell_type": "code",
      "execution_count": 46,
      "metadata": {
        "id": "B02U1F43uzBt",
        "colab": {
          "base_uri": "https://localhost:8080/",
          "height": 519
        },
        "outputId": "63b045c6-fa1e-48d4-91ca-2d5172dd6b10"
      },
      "outputs": [
        {
          "output_type": "execute_result",
          "data": {
            "text/plain": [
              "   movieId                                              title  \\\n",
              "1   177593   Three Billboards Outside Ebbing, Missouri (2017)   \n",
              "2   170705                            Band of Brothers (2001)   \n",
              "3     2131                 Autumn Sonata (Höstsonaten) (1978)   \n",
              "4     2495  Fantastic Planet, The (Planète sauvage, La) (1...   \n",
              "5    95311                                      Presto (2008)   \n",
              "6   147250  The Adventures of Sherlock Holmes and Doctor W...   \n",
              "7   163112               Winnie the Pooh Goes Visiting (1971)   \n",
              "8   130970         George Carlin: Life Is Worth Losing (2005)   \n",
              "9   173351                        Wow! A Talking Fish! (1983)   \n",
              "10  175431                       Bobik Visiting Barbos (1977)   \n",
              "11  163072                                 Winnie Pooh (1969)   \n",
              "12  147300  Adventures Of Sherlock Holmes And Dr. Watson: ...   \n",
              "13  147330  Sherlock Holmes and Dr. Watson: Acquaintance (...   \n",
              "14  104780  Mystery of the Third Planet, The (Tayna tretey...   \n",
              "15  142020                                       Oscar (1967)   \n",
              "\n",
              "                               genres  predicted_ratings  \n",
              "1                         Crime|Drama           4.397979  \n",
              "2                    Action|Drama|War           4.388718  \n",
              "3                               Drama           4.383027  \n",
              "4                    Animation|Sci-Fi           4.382761  \n",
              "5   Animation|Children|Comedy|Fantasy           4.353849  \n",
              "6                  (no genres listed)           4.353849  \n",
              "7                           Animation           4.353849  \n",
              "8                              Comedy           4.353849  \n",
              "9   Animation|Children|Comedy|Fantasy           4.353849  \n",
              "10                   Animation|Comedy           4.353849  \n",
              "11                 Animation|Children           4.353849  \n",
              "12                      Crime|Mystery           4.353849  \n",
              "13                              Crime           4.353849  \n",
              "14         Adventure|Animation|Sci-Fi           4.353849  \n",
              "15                             Comedy           4.353849  "
            ],
            "text/html": [
              "\n",
              "  <div id=\"df-703c89ca-73a1-46fb-b569-9c5a44811b3d\">\n",
              "    <div class=\"colab-df-container\">\n",
              "      <div>\n",
              "<style scoped>\n",
              "    .dataframe tbody tr th:only-of-type {\n",
              "        vertical-align: middle;\n",
              "    }\n",
              "\n",
              "    .dataframe tbody tr th {\n",
              "        vertical-align: top;\n",
              "    }\n",
              "\n",
              "    .dataframe thead th {\n",
              "        text-align: right;\n",
              "    }\n",
              "</style>\n",
              "<table border=\"1\" class=\"dataframe\">\n",
              "  <thead>\n",
              "    <tr style=\"text-align: right;\">\n",
              "      <th></th>\n",
              "      <th>movieId</th>\n",
              "      <th>title</th>\n",
              "      <th>genres</th>\n",
              "      <th>predicted_ratings</th>\n",
              "    </tr>\n",
              "  </thead>\n",
              "  <tbody>\n",
              "    <tr>\n",
              "      <th>1</th>\n",
              "      <td>177593</td>\n",
              "      <td>Three Billboards Outside Ebbing, Missouri (2017)</td>\n",
              "      <td>Crime|Drama</td>\n",
              "      <td>4.397979</td>\n",
              "    </tr>\n",
              "    <tr>\n",
              "      <th>2</th>\n",
              "      <td>170705</td>\n",
              "      <td>Band of Brothers (2001)</td>\n",
              "      <td>Action|Drama|War</td>\n",
              "      <td>4.388718</td>\n",
              "    </tr>\n",
              "    <tr>\n",
              "      <th>3</th>\n",
              "      <td>2131</td>\n",
              "      <td>Autumn Sonata (Höstsonaten) (1978)</td>\n",
              "      <td>Drama</td>\n",
              "      <td>4.383027</td>\n",
              "    </tr>\n",
              "    <tr>\n",
              "      <th>4</th>\n",
              "      <td>2495</td>\n",
              "      <td>Fantastic Planet, The (Planète sauvage, La) (1...</td>\n",
              "      <td>Animation|Sci-Fi</td>\n",
              "      <td>4.382761</td>\n",
              "    </tr>\n",
              "    <tr>\n",
              "      <th>5</th>\n",
              "      <td>95311</td>\n",
              "      <td>Presto (2008)</td>\n",
              "      <td>Animation|Children|Comedy|Fantasy</td>\n",
              "      <td>4.353849</td>\n",
              "    </tr>\n",
              "    <tr>\n",
              "      <th>6</th>\n",
              "      <td>147250</td>\n",
              "      <td>The Adventures of Sherlock Holmes and Doctor W...</td>\n",
              "      <td>(no genres listed)</td>\n",
              "      <td>4.353849</td>\n",
              "    </tr>\n",
              "    <tr>\n",
              "      <th>7</th>\n",
              "      <td>163112</td>\n",
              "      <td>Winnie the Pooh Goes Visiting (1971)</td>\n",
              "      <td>Animation</td>\n",
              "      <td>4.353849</td>\n",
              "    </tr>\n",
              "    <tr>\n",
              "      <th>8</th>\n",
              "      <td>130970</td>\n",
              "      <td>George Carlin: Life Is Worth Losing (2005)</td>\n",
              "      <td>Comedy</td>\n",
              "      <td>4.353849</td>\n",
              "    </tr>\n",
              "    <tr>\n",
              "      <th>9</th>\n",
              "      <td>173351</td>\n",
              "      <td>Wow! A Talking Fish! (1983)</td>\n",
              "      <td>Animation|Children|Comedy|Fantasy</td>\n",
              "      <td>4.353849</td>\n",
              "    </tr>\n",
              "    <tr>\n",
              "      <th>10</th>\n",
              "      <td>175431</td>\n",
              "      <td>Bobik Visiting Barbos (1977)</td>\n",
              "      <td>Animation|Comedy</td>\n",
              "      <td>4.353849</td>\n",
              "    </tr>\n",
              "    <tr>\n",
              "      <th>11</th>\n",
              "      <td>163072</td>\n",
              "      <td>Winnie Pooh (1969)</td>\n",
              "      <td>Animation|Children</td>\n",
              "      <td>4.353849</td>\n",
              "    </tr>\n",
              "    <tr>\n",
              "      <th>12</th>\n",
              "      <td>147300</td>\n",
              "      <td>Adventures Of Sherlock Holmes And Dr. Watson: ...</td>\n",
              "      <td>Crime|Mystery</td>\n",
              "      <td>4.353849</td>\n",
              "    </tr>\n",
              "    <tr>\n",
              "      <th>13</th>\n",
              "      <td>147330</td>\n",
              "      <td>Sherlock Holmes and Dr. Watson: Acquaintance (...</td>\n",
              "      <td>Crime</td>\n",
              "      <td>4.353849</td>\n",
              "    </tr>\n",
              "    <tr>\n",
              "      <th>14</th>\n",
              "      <td>104780</td>\n",
              "      <td>Mystery of the Third Planet, The (Tayna tretey...</td>\n",
              "      <td>Adventure|Animation|Sci-Fi</td>\n",
              "      <td>4.353849</td>\n",
              "    </tr>\n",
              "    <tr>\n",
              "      <th>15</th>\n",
              "      <td>142020</td>\n",
              "      <td>Oscar (1967)</td>\n",
              "      <td>Comedy</td>\n",
              "      <td>4.353849</td>\n",
              "    </tr>\n",
              "  </tbody>\n",
              "</table>\n",
              "</div>\n",
              "      <button class=\"colab-df-convert\" onclick=\"convertToInteractive('df-703c89ca-73a1-46fb-b569-9c5a44811b3d')\"\n",
              "              title=\"Convert this dataframe to an interactive table.\"\n",
              "              style=\"display:none;\">\n",
              "        \n",
              "  <svg xmlns=\"http://www.w3.org/2000/svg\" height=\"24px\"viewBox=\"0 0 24 24\"\n",
              "       width=\"24px\">\n",
              "    <path d=\"M0 0h24v24H0V0z\" fill=\"none\"/>\n",
              "    <path d=\"M18.56 5.44l.94 2.06.94-2.06 2.06-.94-2.06-.94-.94-2.06-.94 2.06-2.06.94zm-11 1L8.5 8.5l.94-2.06 2.06-.94-2.06-.94L8.5 2.5l-.94 2.06-2.06.94zm10 10l.94 2.06.94-2.06 2.06-.94-2.06-.94-.94-2.06-.94 2.06-2.06.94z\"/><path d=\"M17.41 7.96l-1.37-1.37c-.4-.4-.92-.59-1.43-.59-.52 0-1.04.2-1.43.59L10.3 9.45l-7.72 7.72c-.78.78-.78 2.05 0 2.83L4 21.41c.39.39.9.59 1.41.59.51 0 1.02-.2 1.41-.59l7.78-7.78 2.81-2.81c.8-.78.8-2.07 0-2.86zM5.41 20L4 18.59l7.72-7.72 1.47 1.35L5.41 20z\"/>\n",
              "  </svg>\n",
              "      </button>\n",
              "      \n",
              "  <style>\n",
              "    .colab-df-container {\n",
              "      display:flex;\n",
              "      flex-wrap:wrap;\n",
              "      gap: 12px;\n",
              "    }\n",
              "\n",
              "    .colab-df-convert {\n",
              "      background-color: #E8F0FE;\n",
              "      border: none;\n",
              "      border-radius: 50%;\n",
              "      cursor: pointer;\n",
              "      display: none;\n",
              "      fill: #1967D2;\n",
              "      height: 32px;\n",
              "      padding: 0 0 0 0;\n",
              "      width: 32px;\n",
              "    }\n",
              "\n",
              "    .colab-df-convert:hover {\n",
              "      background-color: #E2EBFA;\n",
              "      box-shadow: 0px 1px 2px rgba(60, 64, 67, 0.3), 0px 1px 3px 1px rgba(60, 64, 67, 0.15);\n",
              "      fill: #174EA6;\n",
              "    }\n",
              "\n",
              "    [theme=dark] .colab-df-convert {\n",
              "      background-color: #3B4455;\n",
              "      fill: #D2E3FC;\n",
              "    }\n",
              "\n",
              "    [theme=dark] .colab-df-convert:hover {\n",
              "      background-color: #434B5C;\n",
              "      box-shadow: 0px 1px 3px 1px rgba(0, 0, 0, 0.15);\n",
              "      filter: drop-shadow(0px 1px 2px rgba(0, 0, 0, 0.3));\n",
              "      fill: #FFFFFF;\n",
              "    }\n",
              "  </style>\n",
              "\n",
              "      <script>\n",
              "        const buttonEl =\n",
              "          document.querySelector('#df-703c89ca-73a1-46fb-b569-9c5a44811b3d button.colab-df-convert');\n",
              "        buttonEl.style.display =\n",
              "          google.colab.kernel.accessAllowed ? 'block' : 'none';\n",
              "\n",
              "        async function convertToInteractive(key) {\n",
              "          const element = document.querySelector('#df-703c89ca-73a1-46fb-b569-9c5a44811b3d');\n",
              "          const dataTable =\n",
              "            await google.colab.kernel.invokeFunction('convertToInteractive',\n",
              "                                                     [key], {});\n",
              "          if (!dataTable) return;\n",
              "\n",
              "          const docLinkHtml = 'Like what you see? Visit the ' +\n",
              "            '<a target=\"_blank\" href=https://colab.research.google.com/notebooks/data_table.ipynb>data table notebook</a>'\n",
              "            + ' to learn more about interactive tables.';\n",
              "          element.innerHTML = '';\n",
              "          dataTable['output_type'] = 'display_data';\n",
              "          await google.colab.output.renderOutput(dataTable, element);\n",
              "          const docLink = document.createElement('div');\n",
              "          docLink.innerHTML = docLinkHtml;\n",
              "          element.appendChild(docLink);\n",
              "        }\n",
              "      </script>\n",
              "    </div>\n",
              "  </div>\n",
              "  "
            ]
          },
          "metadata": {},
          "execution_count": 46
        }
      ],
      "source": [
        "# top 15 for user 232\n",
        "topKRecommend(15,232,bestModel)"
      ]
    },
    {
      "cell_type": "markdown",
      "metadata": {
        "id": "61xZKXPt56iN"
      },
      "source": [
        "## Find the similar moives for moive with id: 463, 471\n",
        "\n"
      ]
    },
    {
      "cell_type": "code",
      "execution_count": 47,
      "metadata": {
        "id": "NOjlGTU55ul3",
        "colab": {
          "base_uri": "https://localhost:8080/"
        },
        "outputId": "def51c4c-f634-446d-c578-33717e7b18de"
      },
      "outputs": [
        {
          "output_type": "stream",
          "name": "stdout",
          "text": [
            "root\n",
            " |-- id: integer (nullable = false)\n",
            " |-- features: array (nullable = true)\n",
            " |    |-- element: float (containsNull = false)\n",
            "\n",
            "+-------+------------+-----------+----------+------------+------------+------------+----------+------------+-----------+------------+-----------+------------+-------------+------------+------------+-----------+------------+------------+------------+------------+------------+------------+------------+-----------+----------+\n",
            "|movieId|    feature0|   feature1|  feature2|    feature3|    feature4|    feature5|  feature6|    feature7|   feature8|    feature9|  feature10|   feature11|    feature12|   feature13|   feature14|  feature15|   feature16|   feature17|   feature18|   feature19|   feature20|   feature21|   feature22|  feature23| feature24|\n",
            "+-------+------------+-----------+----------+------------+------------+------------+----------+------------+-----------+------------+-----------+------------+-------------+------------+------------+-----------+------------+------------+------------+------------+------------+------------+------------+-----------+----------+\n",
            "|     10|  0.41987598|-0.44232208| 0.7725613|   -0.768788|   0.3863156|  0.12832129|0.29032332| -0.41460255| -0.6237125|-0.045530833| 0.38987324|   0.1716643|   0.07060331|-0.087383375| -0.20162116| 0.43790781|   0.3441963|  0.17193103|    0.249376|  -0.3948834|  0.37010524|   0.6077845| -0.05122474|-0.43553433|0.96076196|\n",
            "|     20| -0.21582657|-0.43924516| 0.5069062| -0.70063996|  0.44092986| -0.08467027| 0.6056233|  -0.2262954| -0.1737529|   0.5537922|  0.5788321| 0.018590799|  -0.09490004|  0.06826568|  -0.3576492| 0.12953918| -0.19255604|  0.06870271|-0.006842079| -0.43670765| -0.18540627|   0.2361434|  0.24607737|-0.50816035|0.63196313|\n",
            "|     30|-0.015014675|-0.13619708|0.19046524| -0.08493304| -0.07574303|  0.06866815| 0.0908495| -0.06491221|-0.02121469| 0.012735473|0.101466335|  0.10751087|-0.0061465283| 0.059901636|-0.022562074|0.012464194| 0.057757482|-0.034324754|-0.012658468|-0.009990572| 0.093651205|  0.13617375| 0.066383034|-0.12818056|0.14300449|\n",
            "|     40| 0.035830807|-0.38895974| 0.8777174|-0.004347707|-0.052893266|   0.8073693| 0.1464316| -0.19837943|-0.15362217|  -0.1708801| 0.50713307|  -0.4265367|   0.19023167|  0.06238378| -0.23865253|  0.4321428|-0.060764346|  -0.3742425|  0.23877205| -0.09613824| -0.08863445|   0.8112662|  0.20417239|   -0.31531| 1.1483041|\n",
            "|     50|  0.14390478| -1.0051149|0.68185925|   -1.048368| -0.06342666|  0.08914215| 0.5243496| -0.32952583| -0.6488763|  0.12514125|  0.7733798|  0.48504022|   0.29891887|  -0.2706074| -0.33227792|  0.3163902| -0.13554725| -0.32158023|  0.31840125| -0.03041815|  0.14671548|  0.20907599| -0.12736708|-0.66077816|0.95731974|\n",
            "|     60| -0.28416973|-0.51331836| 0.8524165| -0.45403665| 0.046818037|  0.16438045|0.26430303|  -0.2381827| -0.7639503|  0.27848747| -0.0801099|  0.17158917|  0.036758993|  0.15367016| -0.76129615|-0.27504942|  0.32011756|   0.2848863|  0.06307338| -0.10476337|  0.29805222|  0.17147516|-0.023301896| -0.9178018|0.85172874|\n",
            "|     70| -0.19964476|-0.82206994|0.39512718|  -0.6399935|  0.36856356|   0.3428404|0.37745336|  0.05966657|  -0.627787| 0.067892276| 0.91930974|    0.064235|  -0.07380139|   0.1129176| -0.15888356| 0.20439577|  0.31528822|  -0.2617947|  0.14721715| -0.19840649|   0.4786711|  0.12788771|  0.35609314| -0.6028918| 1.1400167|\n",
            "|    100| -0.03351467| -0.6694879| 0.7033023| -0.54141045| -0.27712023|-0.035107058|0.20283434| -0.39276433| -0.3973191| 0.102109045| 0.26884153|-0.032847904|    0.2869212|-0.056383077| -0.24812907| 0.21936399|  -0.0761106|  0.15617193|  0.18444782| 0.009253116|-0.004889575|-0.056033917|   0.2153317|-0.78699166|0.66458976|\n",
            "|    110| -0.22464906| -0.5116212| 0.7508592|  -1.0155149| -0.09059029|  0.07665943| 0.8087978|  -0.7137606| -0.5832531| -0.01692821| 0.46557996|  0.30854595|  -0.06923366| -0.20843986| -0.30026546| 0.27806702| 0.040937044|  0.18667838|  0.34956577|  -0.1627616| -0.29987645|  0.69527704|   0.4571997|-0.79535043| 0.6356414|\n",
            "|    140| 0.004135668| -0.5487813|0.46485987|  -0.9272068|   0.1384852| 0.023369936| 0.5242986| -0.30380148|-0.17339745|-0.056891005| 0.28627768|   0.0875184|   0.24503444|-0.034272775| -0.22931586| 0.30249208| 0.015913563|  0.53602755|-0.083724104|  0.21937928|  0.09360587|  0.47748515|  0.15054932|  -0.828534| 0.7210083|\n",
            "|    150| 0.064908855|-0.47199664| 0.9787989| -0.96892077|  0.10713011|  0.29998654|0.46708408| -0.30754635|-0.60449976| -0.13039032|  0.4376814|  0.19663645|   0.20563076| -0.17448299| -0.36620027| 0.14641042| -0.33134952|  0.32640845| 0.031687483| -0.14227448| -0.38740304|  0.45731312|   0.3142463|-0.61317354|0.93007374|\n",
            "|    160|  0.27532974|-0.15273742|0.47703984| -0.53050214|  0.08645832| -0.09244599|0.33884135| -0.27193967|-0.45966578|  0.22446963| 0.21548143|  0.20349616|   -0.1856474|  0.17036998| -0.23894604| 0.27604684|   0.4183424|   0.4742718|-0.021190776|  -0.2992551|  0.13785289|  0.36921284|  0.40522116| -1.0232545| 0.6947749|\n",
            "|    170| -0.05342439|-0.35261694| 0.8403835|  -0.6420236|  0.26558772| -0.17884341| 0.7093046| -0.30139667|-0.17249408|0.0012095803|  0.9257485|  0.39352515| -0.016055891|0.0156192165|  -0.3085781| 0.42682448| 0.018512342| -0.15174764|-0.014570564|-0.023314364|  0.21620752|  0.31516203|  0.18052992| -0.6021022| 0.7946771|\n",
            "|    180|   0.2065569| -0.5821498|0.46791893|  -1.1172773| -0.43209994|    0.319479|0.63278145| -0.47066596| -0.4160468| -0.16685925|  0.3142306|  0.57367593| -0.073433615|-0.013710828|-0.118201815|  0.6884693|  0.20038903| -0.57607543|  0.19634847|  -0.2687817| 0.046618924|   0.0892624| -0.20546606|-0.40370533| 0.7509708|\n",
            "|    190|  -0.4310047|-0.62336946|0.58496475| -0.80821437| 0.070639074|     1.07838| 0.4285497| -0.10990559| -0.2766579| -0.35612506| 0.32099265|-0.030092789|  0.045675043|  0.23552032|  0.61043495|-0.75390154|  0.17687869| -0.19818531|  0.38511363|  0.10138675|-0.108802386|  -0.4850405|   -0.497355|  -0.696298|0.42157245|\n",
            "|    210| -0.13703969|-0.20569919| 0.9465462|  -0.3123837|-0.023670962|   0.1669357|0.32336426|  -0.5748421|-0.22980285| 0.101604685| 0.20102297|  0.30391407|    0.1726152| 0.032266542| -0.19437876|-0.13259418| 0.012290816|  0.30113965| -0.18854453| -0.19719829|-0.031121906|  0.45620966|  0.30184194| -0.7413583| 0.5708813|\n",
            "|    220|  -0.1600114| -0.3762453|0.37014124| -0.18822315| -0.23120217| 0.057347383|0.39135775| -0.24218656|-0.42589805|  0.17971942| 0.48957682|  0.12745655| 0.0052626254|  0.36428759| 0.045389105|0.026782801|  0.17419697|  0.21121751| 0.092094876|  -0.0542831|  0.08511306|  0.11976446|  0.17823534|-0.40473145|0.68491703|\n",
            "|    230|  -0.4061481| -0.2424355|  0.952417|  -0.6872185|  -0.1505384|  0.41822195|0.21960513| -0.43636295|-0.66651005|  0.25257814|  0.5573692|      0.2622|   0.46171153| -0.18163717| 0.020039931|  0.0696437| -0.16373184|  0.07965215|-0.023716278|-0.083473675| -0.19756444|  0.49461338|  0.19990003|-0.88469696|0.60091734|\n",
            "|    240| -0.18579167|-0.16763407| 0.6891843| -0.27463663| 0.119299136|  0.17003687|0.26126567| -0.37729377|-0.08079514|  0.12644796|  0.2978818|  0.41780213|  -0.38572118|  0.09094194|  -0.2542548|-0.11483277|-0.040790975|  0.16678245|-0.111962385| -0.32104188|  0.30756214|   0.3214432|  0.37077013| -0.4267194|0.37351707|\n",
            "|    250| -0.22272922|-0.19041258|0.20629993| -0.22625148|  0.19448769|0.0021065709|0.45704925|-0.034862734|0.007874359|  0.44033316|  0.3879897|-0.054143555|  -0.16358647|   0.1801415| -0.10799252| 0.20401049|  0.28604084| -0.23877434|  -0.2368156| -0.36874908|  0.13124381|  0.18816262|  0.17037837|-0.63782555|0.83829266|\n",
            "+-------+------------+-----------+----------+------------+------------+------------+----------+------------+-----------+------------+-----------+------------+-------------+------------+------------+-----------+------------+------------+------------+------------+------------+------------+------------+-----------+----------+\n",
            "only showing top 20 rows\n",
            "\n"
          ]
        }
      ],
      "source": [
        "# access the movie factor matrix\n",
        "movie_factors=bestModel.itemFactors\n",
        "movie_factors.printSchema()\n",
        "comd=[\"movie_factors.selectExpr('id as movieId',\"]\n",
        "for i in range(bestModel.rank):\n",
        "  if i<bestModel.rank-1:\n",
        "    comd.append(\"'features[\"+str(i)+\"] as feature\"+str(i)+\"',\")\n",
        "  else:\n",
        "    comd.append(\"'features[\"+str(i)+\"] as feature\"+str(i)+\"'\")\n",
        "comd.append(')')\n",
        "movie_factors=eval(''.join(comd))\n",
        "movie_factors.createOrReplaceTempView('movie_factors')\n",
        "movie_factors.show()"
      ]
    },
    {
      "cell_type": "code",
      "execution_count": 48,
      "metadata": {
        "id": "Ylxmk4b6FrLI"
      },
      "outputs": [],
      "source": [
        "# method 1: Euclidean distance based similarity\n",
        "# the smaller the euclidean distance between the factors, the similar the movies\n",
        "# this similarity considers the actual strength,\n",
        "# e.g. movie 1 with factor [1,2,3] and movie 2 with factor [2,4,6] are considered not similar enough\n",
        "def dist_similar(k,mid):\n",
        "  '''\n",
        "  k: number of similar movies to find\n",
        "  mid: id of the movie to find similarities\n",
        "  '''\n",
        "  movie_info=spark.sql('select * from movie_factors where movieId='+str(mid)).toPandas()\n",
        "  if movie_info.shape[0]<=0:\n",
        "    print('No movie with id '+str(mid)+' is found in the data.')\n",
        "    return None, None\n",
        "  temp=['select movieId,']\n",
        "  for i in range(bestModel.rank):\n",
        "    val=movie_info.iloc[0,i+1]\n",
        "    if val>0:\n",
        "      comd='feature'+str(i)+'-'+str(val)\n",
        "    else:\n",
        "      comd='feature'+str(i)+'+'+str(-val)\n",
        "    if i<bestModel.rank-1:\n",
        "      temp.append('('+comd+')*('+comd+') as sd'+str(i)+',')\n",
        "    else:\n",
        "      temp.append('('+comd+')*('+comd+') as sd'+str(i))\n",
        "  temp.append('from movie_factors where movieId!='+str(mid))  \n",
        "  ssd=spark.sql(' '.join(temp))\n",
        "  ssd=ssd.selectExpr('movieId','sd0+sd1+sd2+sd2+sd4 as ssd').orderBy('ssd').limit(k).toPandas()\n",
        "  out=None\n",
        "  for i in ssd['movieId']:\n",
        "    if not out:\n",
        "      out=movies_df.where(movies_df.movieId==str(i))\n",
        "    else:\n",
        "      out=out.union(movies_df.where(movies_df.movieId==str(i)))\n",
        "  out=out.toPandas()\n",
        "  out.index=range(1,k+1)\n",
        "  return out, ssd"
      ]
    },
    {
      "cell_type": "code",
      "execution_count": 49,
      "metadata": {
        "id": "nHYFkZbNrHsd"
      },
      "outputs": [],
      "source": [
        "# method 2: cosine similarity\n",
        "# the larger the cosine value, the smaller the two feature vectors' angle, the similar the movies\n",
        "# this similarity considers the direction only,\n",
        "# e.g. movie 1 with factor [1,2,3] and movie 2 with factor [2,4,6] are considered the same\n",
        "def cos_similar(k,mid):\n",
        "  '''\n",
        "  k: number of similar movies to find\n",
        "  mid: id of the movie to find similarities\n",
        "  '''\n",
        "  movie_info=spark.sql('select * from movie_factors where movieId='+str(mid)).toPandas()\n",
        "  if movie_info.shape[0]<=0:\n",
        "    print('No movie with id '+str(mid)+' is found in the data.')\n",
        "    return None, None\n",
        "  norm_m=sum(movie_info.iloc[0,1:].values**2)**0.5\n",
        "  temp=['select movieId,']\n",
        "  norm_str=['sqrt(']\n",
        "  for i in range(bestModel.rank):\n",
        "    comd='feature'+str(i)+'*'+str(movie_info.iloc[0,i+1])\n",
        "    temp.append(comd+' as inner'+str(i)+',')\n",
        "    if i<bestModel.rank-1:      \n",
        "      norm_str.append('feature'+str(i)+'*feature'+str(i)+'+')\n",
        "    else:\n",
        "      norm_str.append('feature'+str(i)+'*feature'+str(i))\n",
        "  norm_str.append(') as norm')\n",
        "  temp.append(''.join(norm_str))\n",
        "  temp.append(' from movie_factors where movieId!='+str(mid))  \n",
        "  inner=spark.sql(' '.join(temp))\n",
        "  inner=inner.selectExpr('movieId',\\\n",
        "                         '(inner0+inner1+inner2+inner3+inner4)/norm/'+str(norm_m)+' as innerP').\\\n",
        "                         orderBy('innerP',ascending=False).limit(k).toPandas()\n",
        "  out=None\n",
        "  for i in inner['movieId']:\n",
        "    if not out:\n",
        "      out=movies_df.where(movies_df.movieId==str(i))\n",
        "    else:\n",
        "      out=out.union(movies_df.where(movies_df.movieId==str(i)))\n",
        "  out=out.toPandas()\n",
        "  out.index=range(1,k+1)\n",
        "  return out, inner"
      ]
    },
    {
      "cell_type": "code",
      "execution_count": 50,
      "metadata": {
        "id": "AvAbYL2IrHpm",
        "colab": {
          "base_uri": "https://localhost:8080/"
        },
        "outputId": "0b7b2ff7-c4cd-45f2-d54f-7f521a428938"
      },
      "outputs": [
        {
          "output_type": "stream",
          "name": "stdout",
          "text": [
            "No movie with id 463 is found in the data.\n"
          ]
        }
      ],
      "source": [
        "# movie id 463, method 1, top 10 similar\n",
        "out11,ssd1=dist_similar(10,463)"
      ]
    },
    {
      "cell_type": "code",
      "execution_count": 51,
      "metadata": {
        "id": "y-WLoCUxrHmv",
        "colab": {
          "base_uri": "https://localhost:8080/"
        },
        "outputId": "d9249778-861d-46e7-fe1e-b8d9f0980418"
      },
      "outputs": [
        {
          "output_type": "stream",
          "name": "stdout",
          "text": [
            "No movie with id 463 is found in the data.\n"
          ]
        }
      ],
      "source": [
        "# movie id 463, method 2, top 10 similar\n",
        "out12,inner1=cos_similar(10,463)"
      ]
    },
    {
      "cell_type": "code",
      "execution_count": 52,
      "metadata": {
        "id": "MU1_ngYvrHjm",
        "colab": {
          "base_uri": "https://localhost:8080/",
          "height": 363
        },
        "outputId": "8180136f-0f19-4a0d-bb07-025b99633afc"
      },
      "outputs": [
        {
          "output_type": "execute_result",
          "data": {
            "text/plain": [
              "   movieId                                title  \\\n",
              "1     1562                Batman & Robin (1997)   \n",
              "2     3906               Under Suspicion (2000)   \n",
              "3      458  Geronimo: An American Legend (1993)   \n",
              "4     1603                         Mimic (1997)   \n",
              "5      500                Mrs. Doubtfire (1993)   \n",
              "6     2597                  Lost & Found (1999)   \n",
              "7     2890                   Three Kings (1999)   \n",
              "8      104                 Happy Gilmore (1996)   \n",
              "9      294             Perez Family, The (1995)   \n",
              "10    4025             Miss Congeniality (2000)   \n",
              "\n",
              "                               genres  \n",
              "1   Action|Adventure|Fantasy|Thriller  \n",
              "2                      Crime|Thriller  \n",
              "3                       Drama|Western  \n",
              "4              Horror|Sci-Fi|Thriller  \n",
              "5                        Comedy|Drama  \n",
              "6                      Comedy|Romance  \n",
              "7   Action|Adventure|Comedy|Drama|War  \n",
              "8                              Comedy  \n",
              "9                      Comedy|Romance  \n",
              "10                       Comedy|Crime  "
            ],
            "text/html": [
              "\n",
              "  <div id=\"df-72b267c6-9403-4406-b510-7b8e3de0abd4\">\n",
              "    <div class=\"colab-df-container\">\n",
              "      <div>\n",
              "<style scoped>\n",
              "    .dataframe tbody tr th:only-of-type {\n",
              "        vertical-align: middle;\n",
              "    }\n",
              "\n",
              "    .dataframe tbody tr th {\n",
              "        vertical-align: top;\n",
              "    }\n",
              "\n",
              "    .dataframe thead th {\n",
              "        text-align: right;\n",
              "    }\n",
              "</style>\n",
              "<table border=\"1\" class=\"dataframe\">\n",
              "  <thead>\n",
              "    <tr style=\"text-align: right;\">\n",
              "      <th></th>\n",
              "      <th>movieId</th>\n",
              "      <th>title</th>\n",
              "      <th>genres</th>\n",
              "    </tr>\n",
              "  </thead>\n",
              "  <tbody>\n",
              "    <tr>\n",
              "      <th>1</th>\n",
              "      <td>1562</td>\n",
              "      <td>Batman &amp; Robin (1997)</td>\n",
              "      <td>Action|Adventure|Fantasy|Thriller</td>\n",
              "    </tr>\n",
              "    <tr>\n",
              "      <th>2</th>\n",
              "      <td>3906</td>\n",
              "      <td>Under Suspicion (2000)</td>\n",
              "      <td>Crime|Thriller</td>\n",
              "    </tr>\n",
              "    <tr>\n",
              "      <th>3</th>\n",
              "      <td>458</td>\n",
              "      <td>Geronimo: An American Legend (1993)</td>\n",
              "      <td>Drama|Western</td>\n",
              "    </tr>\n",
              "    <tr>\n",
              "      <th>4</th>\n",
              "      <td>1603</td>\n",
              "      <td>Mimic (1997)</td>\n",
              "      <td>Horror|Sci-Fi|Thriller</td>\n",
              "    </tr>\n",
              "    <tr>\n",
              "      <th>5</th>\n",
              "      <td>500</td>\n",
              "      <td>Mrs. Doubtfire (1993)</td>\n",
              "      <td>Comedy|Drama</td>\n",
              "    </tr>\n",
              "    <tr>\n",
              "      <th>6</th>\n",
              "      <td>2597</td>\n",
              "      <td>Lost &amp; Found (1999)</td>\n",
              "      <td>Comedy|Romance</td>\n",
              "    </tr>\n",
              "    <tr>\n",
              "      <th>7</th>\n",
              "      <td>2890</td>\n",
              "      <td>Three Kings (1999)</td>\n",
              "      <td>Action|Adventure|Comedy|Drama|War</td>\n",
              "    </tr>\n",
              "    <tr>\n",
              "      <th>8</th>\n",
              "      <td>104</td>\n",
              "      <td>Happy Gilmore (1996)</td>\n",
              "      <td>Comedy</td>\n",
              "    </tr>\n",
              "    <tr>\n",
              "      <th>9</th>\n",
              "      <td>294</td>\n",
              "      <td>Perez Family, The (1995)</td>\n",
              "      <td>Comedy|Romance</td>\n",
              "    </tr>\n",
              "    <tr>\n",
              "      <th>10</th>\n",
              "      <td>4025</td>\n",
              "      <td>Miss Congeniality (2000)</td>\n",
              "      <td>Comedy|Crime</td>\n",
              "    </tr>\n",
              "  </tbody>\n",
              "</table>\n",
              "</div>\n",
              "      <button class=\"colab-df-convert\" onclick=\"convertToInteractive('df-72b267c6-9403-4406-b510-7b8e3de0abd4')\"\n",
              "              title=\"Convert this dataframe to an interactive table.\"\n",
              "              style=\"display:none;\">\n",
              "        \n",
              "  <svg xmlns=\"http://www.w3.org/2000/svg\" height=\"24px\"viewBox=\"0 0 24 24\"\n",
              "       width=\"24px\">\n",
              "    <path d=\"M0 0h24v24H0V0z\" fill=\"none\"/>\n",
              "    <path d=\"M18.56 5.44l.94 2.06.94-2.06 2.06-.94-2.06-.94-.94-2.06-.94 2.06-2.06.94zm-11 1L8.5 8.5l.94-2.06 2.06-.94-2.06-.94L8.5 2.5l-.94 2.06-2.06.94zm10 10l.94 2.06.94-2.06 2.06-.94-2.06-.94-.94-2.06-.94 2.06-2.06.94z\"/><path d=\"M17.41 7.96l-1.37-1.37c-.4-.4-.92-.59-1.43-.59-.52 0-1.04.2-1.43.59L10.3 9.45l-7.72 7.72c-.78.78-.78 2.05 0 2.83L4 21.41c.39.39.9.59 1.41.59.51 0 1.02-.2 1.41-.59l7.78-7.78 2.81-2.81c.8-.78.8-2.07 0-2.86zM5.41 20L4 18.59l7.72-7.72 1.47 1.35L5.41 20z\"/>\n",
              "  </svg>\n",
              "      </button>\n",
              "      \n",
              "  <style>\n",
              "    .colab-df-container {\n",
              "      display:flex;\n",
              "      flex-wrap:wrap;\n",
              "      gap: 12px;\n",
              "    }\n",
              "\n",
              "    .colab-df-convert {\n",
              "      background-color: #E8F0FE;\n",
              "      border: none;\n",
              "      border-radius: 50%;\n",
              "      cursor: pointer;\n",
              "      display: none;\n",
              "      fill: #1967D2;\n",
              "      height: 32px;\n",
              "      padding: 0 0 0 0;\n",
              "      width: 32px;\n",
              "    }\n",
              "\n",
              "    .colab-df-convert:hover {\n",
              "      background-color: #E2EBFA;\n",
              "      box-shadow: 0px 1px 2px rgba(60, 64, 67, 0.3), 0px 1px 3px 1px rgba(60, 64, 67, 0.15);\n",
              "      fill: #174EA6;\n",
              "    }\n",
              "\n",
              "    [theme=dark] .colab-df-convert {\n",
              "      background-color: #3B4455;\n",
              "      fill: #D2E3FC;\n",
              "    }\n",
              "\n",
              "    [theme=dark] .colab-df-convert:hover {\n",
              "      background-color: #434B5C;\n",
              "      box-shadow: 0px 1px 3px 1px rgba(0, 0, 0, 0.15);\n",
              "      filter: drop-shadow(0px 1px 2px rgba(0, 0, 0, 0.3));\n",
              "      fill: #FFFFFF;\n",
              "    }\n",
              "  </style>\n",
              "\n",
              "      <script>\n",
              "        const buttonEl =\n",
              "          document.querySelector('#df-72b267c6-9403-4406-b510-7b8e3de0abd4 button.colab-df-convert');\n",
              "        buttonEl.style.display =\n",
              "          google.colab.kernel.accessAllowed ? 'block' : 'none';\n",
              "\n",
              "        async function convertToInteractive(key) {\n",
              "          const element = document.querySelector('#df-72b267c6-9403-4406-b510-7b8e3de0abd4');\n",
              "          const dataTable =\n",
              "            await google.colab.kernel.invokeFunction('convertToInteractive',\n",
              "                                                     [key], {});\n",
              "          if (!dataTable) return;\n",
              "\n",
              "          const docLinkHtml = 'Like what you see? Visit the ' +\n",
              "            '<a target=\"_blank\" href=https://colab.research.google.com/notebooks/data_table.ipynb>data table notebook</a>'\n",
              "            + ' to learn more about interactive tables.';\n",
              "          element.innerHTML = '';\n",
              "          dataTable['output_type'] = 'display_data';\n",
              "          await google.colab.output.renderOutput(dataTable, element);\n",
              "          const docLink = document.createElement('div');\n",
              "          docLink.innerHTML = docLinkHtml;\n",
              "          element.appendChild(docLink);\n",
              "        }\n",
              "      </script>\n",
              "    </div>\n",
              "  </div>\n",
              "  "
            ]
          },
          "metadata": {},
          "execution_count": 52
        }
      ],
      "source": [
        "# movie id 471, method 1, top 10 similar\n",
        "out21,ssd2=dist_similar(10,471)\n",
        "out21"
      ]
    },
    {
      "cell_type": "code",
      "execution_count": 53,
      "metadata": {
        "id": "s6SvYz7-rHgt",
        "colab": {
          "base_uri": "https://localhost:8080/",
          "height": 363
        },
        "outputId": "7cbd1c1a-c1a9-4373-af93-833d4ff41806"
      },
      "outputs": [
        {
          "output_type": "execute_result",
          "data": {
            "text/plain": [
              "   movieId                                       title  \\\n",
              "1     1097           E.T. the Extra-Terrestrial (1982)   \n",
              "2      372                        Reality Bites (1994)   \n",
              "3    40339                       Chicken Little (2005)   \n",
              "4     1875                        Clockwatchers (1997)   \n",
              "5     1225                              Amadeus (1984)   \n",
              "6     4605      How to Get Ahead in Advertising (1989)   \n",
              "7     8864                             Mr. 3000 (2004)   \n",
              "8     3564  Flintstones in Viva Rock Vegas, The (2000)   \n",
              "9     1003                     Extreme Measures (1996)   \n",
              "10    2259                      Blame It on Rio (1984)   \n",
              "\n",
              "                                               genres  \n",
              "1                               Children|Drama|Sci-Fi  \n",
              "2                                Comedy|Drama|Romance  \n",
              "3   Action|Adventure|Animation|Children|Comedy|Sci-Fi  \n",
              "4                                              Comedy  \n",
              "5                                               Drama  \n",
              "6                                      Comedy|Fantasy  \n",
              "7                                        Comedy|Drama  \n",
              "8                                     Children|Comedy  \n",
              "9                                      Drama|Thriller  \n",
              "10                                     Comedy|Romance  "
            ],
            "text/html": [
              "\n",
              "  <div id=\"df-2a470c87-dbd3-4854-94d7-5f766806c6dc\">\n",
              "    <div class=\"colab-df-container\">\n",
              "      <div>\n",
              "<style scoped>\n",
              "    .dataframe tbody tr th:only-of-type {\n",
              "        vertical-align: middle;\n",
              "    }\n",
              "\n",
              "    .dataframe tbody tr th {\n",
              "        vertical-align: top;\n",
              "    }\n",
              "\n",
              "    .dataframe thead th {\n",
              "        text-align: right;\n",
              "    }\n",
              "</style>\n",
              "<table border=\"1\" class=\"dataframe\">\n",
              "  <thead>\n",
              "    <tr style=\"text-align: right;\">\n",
              "      <th></th>\n",
              "      <th>movieId</th>\n",
              "      <th>title</th>\n",
              "      <th>genres</th>\n",
              "    </tr>\n",
              "  </thead>\n",
              "  <tbody>\n",
              "    <tr>\n",
              "      <th>1</th>\n",
              "      <td>1097</td>\n",
              "      <td>E.T. the Extra-Terrestrial (1982)</td>\n",
              "      <td>Children|Drama|Sci-Fi</td>\n",
              "    </tr>\n",
              "    <tr>\n",
              "      <th>2</th>\n",
              "      <td>372</td>\n",
              "      <td>Reality Bites (1994)</td>\n",
              "      <td>Comedy|Drama|Romance</td>\n",
              "    </tr>\n",
              "    <tr>\n",
              "      <th>3</th>\n",
              "      <td>40339</td>\n",
              "      <td>Chicken Little (2005)</td>\n",
              "      <td>Action|Adventure|Animation|Children|Comedy|Sci-Fi</td>\n",
              "    </tr>\n",
              "    <tr>\n",
              "      <th>4</th>\n",
              "      <td>1875</td>\n",
              "      <td>Clockwatchers (1997)</td>\n",
              "      <td>Comedy</td>\n",
              "    </tr>\n",
              "    <tr>\n",
              "      <th>5</th>\n",
              "      <td>1225</td>\n",
              "      <td>Amadeus (1984)</td>\n",
              "      <td>Drama</td>\n",
              "    </tr>\n",
              "    <tr>\n",
              "      <th>6</th>\n",
              "      <td>4605</td>\n",
              "      <td>How to Get Ahead in Advertising (1989)</td>\n",
              "      <td>Comedy|Fantasy</td>\n",
              "    </tr>\n",
              "    <tr>\n",
              "      <th>7</th>\n",
              "      <td>8864</td>\n",
              "      <td>Mr. 3000 (2004)</td>\n",
              "      <td>Comedy|Drama</td>\n",
              "    </tr>\n",
              "    <tr>\n",
              "      <th>8</th>\n",
              "      <td>3564</td>\n",
              "      <td>Flintstones in Viva Rock Vegas, The (2000)</td>\n",
              "      <td>Children|Comedy</td>\n",
              "    </tr>\n",
              "    <tr>\n",
              "      <th>9</th>\n",
              "      <td>1003</td>\n",
              "      <td>Extreme Measures (1996)</td>\n",
              "      <td>Drama|Thriller</td>\n",
              "    </tr>\n",
              "    <tr>\n",
              "      <th>10</th>\n",
              "      <td>2259</td>\n",
              "      <td>Blame It on Rio (1984)</td>\n",
              "      <td>Comedy|Romance</td>\n",
              "    </tr>\n",
              "  </tbody>\n",
              "</table>\n",
              "</div>\n",
              "      <button class=\"colab-df-convert\" onclick=\"convertToInteractive('df-2a470c87-dbd3-4854-94d7-5f766806c6dc')\"\n",
              "              title=\"Convert this dataframe to an interactive table.\"\n",
              "              style=\"display:none;\">\n",
              "        \n",
              "  <svg xmlns=\"http://www.w3.org/2000/svg\" height=\"24px\"viewBox=\"0 0 24 24\"\n",
              "       width=\"24px\">\n",
              "    <path d=\"M0 0h24v24H0V0z\" fill=\"none\"/>\n",
              "    <path d=\"M18.56 5.44l.94 2.06.94-2.06 2.06-.94-2.06-.94-.94-2.06-.94 2.06-2.06.94zm-11 1L8.5 8.5l.94-2.06 2.06-.94-2.06-.94L8.5 2.5l-.94 2.06-2.06.94zm10 10l.94 2.06.94-2.06 2.06-.94-2.06-.94-.94-2.06-.94 2.06-2.06.94z\"/><path d=\"M17.41 7.96l-1.37-1.37c-.4-.4-.92-.59-1.43-.59-.52 0-1.04.2-1.43.59L10.3 9.45l-7.72 7.72c-.78.78-.78 2.05 0 2.83L4 21.41c.39.39.9.59 1.41.59.51 0 1.02-.2 1.41-.59l7.78-7.78 2.81-2.81c.8-.78.8-2.07 0-2.86zM5.41 20L4 18.59l7.72-7.72 1.47 1.35L5.41 20z\"/>\n",
              "  </svg>\n",
              "      </button>\n",
              "      \n",
              "  <style>\n",
              "    .colab-df-container {\n",
              "      display:flex;\n",
              "      flex-wrap:wrap;\n",
              "      gap: 12px;\n",
              "    }\n",
              "\n",
              "    .colab-df-convert {\n",
              "      background-color: #E8F0FE;\n",
              "      border: none;\n",
              "      border-radius: 50%;\n",
              "      cursor: pointer;\n",
              "      display: none;\n",
              "      fill: #1967D2;\n",
              "      height: 32px;\n",
              "      padding: 0 0 0 0;\n",
              "      width: 32px;\n",
              "    }\n",
              "\n",
              "    .colab-df-convert:hover {\n",
              "      background-color: #E2EBFA;\n",
              "      box-shadow: 0px 1px 2px rgba(60, 64, 67, 0.3), 0px 1px 3px 1px rgba(60, 64, 67, 0.15);\n",
              "      fill: #174EA6;\n",
              "    }\n",
              "\n",
              "    [theme=dark] .colab-df-convert {\n",
              "      background-color: #3B4455;\n",
              "      fill: #D2E3FC;\n",
              "    }\n",
              "\n",
              "    [theme=dark] .colab-df-convert:hover {\n",
              "      background-color: #434B5C;\n",
              "      box-shadow: 0px 1px 3px 1px rgba(0, 0, 0, 0.15);\n",
              "      filter: drop-shadow(0px 1px 2px rgba(0, 0, 0, 0.3));\n",
              "      fill: #FFFFFF;\n",
              "    }\n",
              "  </style>\n",
              "\n",
              "      <script>\n",
              "        const buttonEl =\n",
              "          document.querySelector('#df-2a470c87-dbd3-4854-94d7-5f766806c6dc button.colab-df-convert');\n",
              "        buttonEl.style.display =\n",
              "          google.colab.kernel.accessAllowed ? 'block' : 'none';\n",
              "\n",
              "        async function convertToInteractive(key) {\n",
              "          const element = document.querySelector('#df-2a470c87-dbd3-4854-94d7-5f766806c6dc');\n",
              "          const dataTable =\n",
              "            await google.colab.kernel.invokeFunction('convertToInteractive',\n",
              "                                                     [key], {});\n",
              "          if (!dataTable) return;\n",
              "\n",
              "          const docLinkHtml = 'Like what you see? Visit the ' +\n",
              "            '<a target=\"_blank\" href=https://colab.research.google.com/notebooks/data_table.ipynb>data table notebook</a>'\n",
              "            + ' to learn more about interactive tables.';\n",
              "          element.innerHTML = '';\n",
              "          dataTable['output_type'] = 'display_data';\n",
              "          await google.colab.output.renderOutput(dataTable, element);\n",
              "          const docLink = document.createElement('div');\n",
              "          docLink.innerHTML = docLinkHtml;\n",
              "          element.appendChild(docLink);\n",
              "        }\n",
              "      </script>\n",
              "    </div>\n",
              "  </div>\n",
              "  "
            ]
          },
          "metadata": {},
          "execution_count": 53
        }
      ],
      "source": [
        "# movie id 471, method 2, top 10 similar\n",
        "out22,inner2=cos_similar(10,471)\n",
        "out22"
      ]
    },
    {
      "cell_type": "code",
      "execution_count": 54,
      "metadata": {
        "id": "CV4w7ZuCrHd5",
        "colab": {
          "base_uri": "https://localhost:8080/",
          "height": 206
        },
        "outputId": "1036a5bc-7c68-45a3-eb67-c137078771d8"
      },
      "outputs": [
        {
          "output_type": "execute_result",
          "data": {
            "text/plain": [
              "  movieId                              title  \\\n",
              "1  159093            Now You See Me 2 (2016)   \n",
              "2    8605                      Taxi 3 (2003)   \n",
              "3   44665         Lucky Number Slevin (2006)   \n",
              "4   79139  Sorcerer's Apprentice, The (2010)   \n",
              "5    7454                 Van Helsing (2004)   \n",
              "\n",
              "                                     genres  \n",
              "1                    Action|Comedy|Thriller  \n",
              "2                             Action|Comedy  \n",
              "3                       Crime|Drama|Mystery  \n",
              "4  Action|Adventure|Children|Comedy|Fantasy  \n",
              "5           Action|Adventure|Fantasy|Horror  "
            ],
            "text/html": [
              "\n",
              "  <div id=\"df-818d13f7-3fde-4a83-9104-eca8983c8e7e\">\n",
              "    <div class=\"colab-df-container\">\n",
              "      <div>\n",
              "<style scoped>\n",
              "    .dataframe tbody tr th:only-of-type {\n",
              "        vertical-align: middle;\n",
              "    }\n",
              "\n",
              "    .dataframe tbody tr th {\n",
              "        vertical-align: top;\n",
              "    }\n",
              "\n",
              "    .dataframe thead th {\n",
              "        text-align: right;\n",
              "    }\n",
              "</style>\n",
              "<table border=\"1\" class=\"dataframe\">\n",
              "  <thead>\n",
              "    <tr style=\"text-align: right;\">\n",
              "      <th></th>\n",
              "      <th>movieId</th>\n",
              "      <th>title</th>\n",
              "      <th>genres</th>\n",
              "    </tr>\n",
              "  </thead>\n",
              "  <tbody>\n",
              "    <tr>\n",
              "      <th>1</th>\n",
              "      <td>159093</td>\n",
              "      <td>Now You See Me 2 (2016)</td>\n",
              "      <td>Action|Comedy|Thriller</td>\n",
              "    </tr>\n",
              "    <tr>\n",
              "      <th>2</th>\n",
              "      <td>8605</td>\n",
              "      <td>Taxi 3 (2003)</td>\n",
              "      <td>Action|Comedy</td>\n",
              "    </tr>\n",
              "    <tr>\n",
              "      <th>3</th>\n",
              "      <td>44665</td>\n",
              "      <td>Lucky Number Slevin (2006)</td>\n",
              "      <td>Crime|Drama|Mystery</td>\n",
              "    </tr>\n",
              "    <tr>\n",
              "      <th>4</th>\n",
              "      <td>79139</td>\n",
              "      <td>Sorcerer's Apprentice, The (2010)</td>\n",
              "      <td>Action|Adventure|Children|Comedy|Fantasy</td>\n",
              "    </tr>\n",
              "    <tr>\n",
              "      <th>5</th>\n",
              "      <td>7454</td>\n",
              "      <td>Van Helsing (2004)</td>\n",
              "      <td>Action|Adventure|Fantasy|Horror</td>\n",
              "    </tr>\n",
              "  </tbody>\n",
              "</table>\n",
              "</div>\n",
              "      <button class=\"colab-df-convert\" onclick=\"convertToInteractive('df-818d13f7-3fde-4a83-9104-eca8983c8e7e')\"\n",
              "              title=\"Convert this dataframe to an interactive table.\"\n",
              "              style=\"display:none;\">\n",
              "        \n",
              "  <svg xmlns=\"http://www.w3.org/2000/svg\" height=\"24px\"viewBox=\"0 0 24 24\"\n",
              "       width=\"24px\">\n",
              "    <path d=\"M0 0h24v24H0V0z\" fill=\"none\"/>\n",
              "    <path d=\"M18.56 5.44l.94 2.06.94-2.06 2.06-.94-2.06-.94-.94-2.06-.94 2.06-2.06.94zm-11 1L8.5 8.5l.94-2.06 2.06-.94-2.06-.94L8.5 2.5l-.94 2.06-2.06.94zm10 10l.94 2.06.94-2.06 2.06-.94-2.06-.94-.94-2.06-.94 2.06-2.06.94z\"/><path d=\"M17.41 7.96l-1.37-1.37c-.4-.4-.92-.59-1.43-.59-.52 0-1.04.2-1.43.59L10.3 9.45l-7.72 7.72c-.78.78-.78 2.05 0 2.83L4 21.41c.39.39.9.59 1.41.59.51 0 1.02-.2 1.41-.59l7.78-7.78 2.81-2.81c.8-.78.8-2.07 0-2.86zM5.41 20L4 18.59l7.72-7.72 1.47 1.35L5.41 20z\"/>\n",
              "  </svg>\n",
              "      </button>\n",
              "      \n",
              "  <style>\n",
              "    .colab-df-container {\n",
              "      display:flex;\n",
              "      flex-wrap:wrap;\n",
              "      gap: 12px;\n",
              "    }\n",
              "\n",
              "    .colab-df-convert {\n",
              "      background-color: #E8F0FE;\n",
              "      border: none;\n",
              "      border-radius: 50%;\n",
              "      cursor: pointer;\n",
              "      display: none;\n",
              "      fill: #1967D2;\n",
              "      height: 32px;\n",
              "      padding: 0 0 0 0;\n",
              "      width: 32px;\n",
              "    }\n",
              "\n",
              "    .colab-df-convert:hover {\n",
              "      background-color: #E2EBFA;\n",
              "      box-shadow: 0px 1px 2px rgba(60, 64, 67, 0.3), 0px 1px 3px 1px rgba(60, 64, 67, 0.15);\n",
              "      fill: #174EA6;\n",
              "    }\n",
              "\n",
              "    [theme=dark] .colab-df-convert {\n",
              "      background-color: #3B4455;\n",
              "      fill: #D2E3FC;\n",
              "    }\n",
              "\n",
              "    [theme=dark] .colab-df-convert:hover {\n",
              "      background-color: #434B5C;\n",
              "      box-shadow: 0px 1px 3px 1px rgba(0, 0, 0, 0.15);\n",
              "      filter: drop-shadow(0px 1px 2px rgba(0, 0, 0, 0.3));\n",
              "      fill: #FFFFFF;\n",
              "    }\n",
              "  </style>\n",
              "\n",
              "      <script>\n",
              "        const buttonEl =\n",
              "          document.querySelector('#df-818d13f7-3fde-4a83-9104-eca8983c8e7e button.colab-df-convert');\n",
              "        buttonEl.style.display =\n",
              "          google.colab.kernel.accessAllowed ? 'block' : 'none';\n",
              "\n",
              "        async function convertToInteractive(key) {\n",
              "          const element = document.querySelector('#df-818d13f7-3fde-4a83-9104-eca8983c8e7e');\n",
              "          const dataTable =\n",
              "            await google.colab.kernel.invokeFunction('convertToInteractive',\n",
              "                                                     [key], {});\n",
              "          if (!dataTable) return;\n",
              "\n",
              "          const docLinkHtml = 'Like what you see? Visit the ' +\n",
              "            '<a target=\"_blank\" href=https://colab.research.google.com/notebooks/data_table.ipynb>data table notebook</a>'\n",
              "            + ' to learn more about interactive tables.';\n",
              "          element.innerHTML = '';\n",
              "          dataTable['output_type'] = 'display_data';\n",
              "          await google.colab.output.renderOutput(dataTable, element);\n",
              "          const docLink = document.createElement('div');\n",
              "          docLink.innerHTML = docLinkHtml;\n",
              "          element.appendChild(docLink);\n",
              "        }\n",
              "      </script>\n",
              "    </div>\n",
              "  </div>\n",
              "  "
            ]
          },
          "metadata": {},
          "execution_count": 54
        }
      ],
      "source": [
        "# movie id 10, method 1, top 5 similar\n",
        "out31,ssd3=dist_similar(5,10)\n",
        "out31"
      ]
    },
    {
      "cell_type": "code",
      "execution_count": 55,
      "metadata": {
        "id": "GIC4i2hBrHbA",
        "colab": {
          "base_uri": "https://localhost:8080/",
          "height": 206
        },
        "outputId": "53ece219-e86b-4f50-cb7c-1ca20d9a1f5f"
      },
      "outputs": [
        {
          "output_type": "execute_result",
          "data": {
            "text/plain": [
              "  movieId                                title                    genres\n",
              "1    1962            Driving Miss Daisy (1989)                     Drama\n",
              "2  103253                       Elysium (2013)  Action|Drama|Sci-Fi|IMAX\n",
              "3    6753              Secondhand Lions (2003)     Children|Comedy|Drama\n",
              "4    1875                 Clockwatchers (1997)                    Comedy\n",
              "5     543  So I Married an Axe Murderer (1993)   Comedy|Romance|Thriller"
            ],
            "text/html": [
              "\n",
              "  <div id=\"df-e3e2da14-ebf2-49e8-97aa-32984e7cb3f5\">\n",
              "    <div class=\"colab-df-container\">\n",
              "      <div>\n",
              "<style scoped>\n",
              "    .dataframe tbody tr th:only-of-type {\n",
              "        vertical-align: middle;\n",
              "    }\n",
              "\n",
              "    .dataframe tbody tr th {\n",
              "        vertical-align: top;\n",
              "    }\n",
              "\n",
              "    .dataframe thead th {\n",
              "        text-align: right;\n",
              "    }\n",
              "</style>\n",
              "<table border=\"1\" class=\"dataframe\">\n",
              "  <thead>\n",
              "    <tr style=\"text-align: right;\">\n",
              "      <th></th>\n",
              "      <th>movieId</th>\n",
              "      <th>title</th>\n",
              "      <th>genres</th>\n",
              "    </tr>\n",
              "  </thead>\n",
              "  <tbody>\n",
              "    <tr>\n",
              "      <th>1</th>\n",
              "      <td>1962</td>\n",
              "      <td>Driving Miss Daisy (1989)</td>\n",
              "      <td>Drama</td>\n",
              "    </tr>\n",
              "    <tr>\n",
              "      <th>2</th>\n",
              "      <td>103253</td>\n",
              "      <td>Elysium (2013)</td>\n",
              "      <td>Action|Drama|Sci-Fi|IMAX</td>\n",
              "    </tr>\n",
              "    <tr>\n",
              "      <th>3</th>\n",
              "      <td>6753</td>\n",
              "      <td>Secondhand Lions (2003)</td>\n",
              "      <td>Children|Comedy|Drama</td>\n",
              "    </tr>\n",
              "    <tr>\n",
              "      <th>4</th>\n",
              "      <td>1875</td>\n",
              "      <td>Clockwatchers (1997)</td>\n",
              "      <td>Comedy</td>\n",
              "    </tr>\n",
              "    <tr>\n",
              "      <th>5</th>\n",
              "      <td>543</td>\n",
              "      <td>So I Married an Axe Murderer (1993)</td>\n",
              "      <td>Comedy|Romance|Thriller</td>\n",
              "    </tr>\n",
              "  </tbody>\n",
              "</table>\n",
              "</div>\n",
              "      <button class=\"colab-df-convert\" onclick=\"convertToInteractive('df-e3e2da14-ebf2-49e8-97aa-32984e7cb3f5')\"\n",
              "              title=\"Convert this dataframe to an interactive table.\"\n",
              "              style=\"display:none;\">\n",
              "        \n",
              "  <svg xmlns=\"http://www.w3.org/2000/svg\" height=\"24px\"viewBox=\"0 0 24 24\"\n",
              "       width=\"24px\">\n",
              "    <path d=\"M0 0h24v24H0V0z\" fill=\"none\"/>\n",
              "    <path d=\"M18.56 5.44l.94 2.06.94-2.06 2.06-.94-2.06-.94-.94-2.06-.94 2.06-2.06.94zm-11 1L8.5 8.5l.94-2.06 2.06-.94-2.06-.94L8.5 2.5l-.94 2.06-2.06.94zm10 10l.94 2.06.94-2.06 2.06-.94-2.06-.94-.94-2.06-.94 2.06-2.06.94z\"/><path d=\"M17.41 7.96l-1.37-1.37c-.4-.4-.92-.59-1.43-.59-.52 0-1.04.2-1.43.59L10.3 9.45l-7.72 7.72c-.78.78-.78 2.05 0 2.83L4 21.41c.39.39.9.59 1.41.59.51 0 1.02-.2 1.41-.59l7.78-7.78 2.81-2.81c.8-.78.8-2.07 0-2.86zM5.41 20L4 18.59l7.72-7.72 1.47 1.35L5.41 20z\"/>\n",
              "  </svg>\n",
              "      </button>\n",
              "      \n",
              "  <style>\n",
              "    .colab-df-container {\n",
              "      display:flex;\n",
              "      flex-wrap:wrap;\n",
              "      gap: 12px;\n",
              "    }\n",
              "\n",
              "    .colab-df-convert {\n",
              "      background-color: #E8F0FE;\n",
              "      border: none;\n",
              "      border-radius: 50%;\n",
              "      cursor: pointer;\n",
              "      display: none;\n",
              "      fill: #1967D2;\n",
              "      height: 32px;\n",
              "      padding: 0 0 0 0;\n",
              "      width: 32px;\n",
              "    }\n",
              "\n",
              "    .colab-df-convert:hover {\n",
              "      background-color: #E2EBFA;\n",
              "      box-shadow: 0px 1px 2px rgba(60, 64, 67, 0.3), 0px 1px 3px 1px rgba(60, 64, 67, 0.15);\n",
              "      fill: #174EA6;\n",
              "    }\n",
              "\n",
              "    [theme=dark] .colab-df-convert {\n",
              "      background-color: #3B4455;\n",
              "      fill: #D2E3FC;\n",
              "    }\n",
              "\n",
              "    [theme=dark] .colab-df-convert:hover {\n",
              "      background-color: #434B5C;\n",
              "      box-shadow: 0px 1px 3px 1px rgba(0, 0, 0, 0.15);\n",
              "      filter: drop-shadow(0px 1px 2px rgba(0, 0, 0, 0.3));\n",
              "      fill: #FFFFFF;\n",
              "    }\n",
              "  </style>\n",
              "\n",
              "      <script>\n",
              "        const buttonEl =\n",
              "          document.querySelector('#df-e3e2da14-ebf2-49e8-97aa-32984e7cb3f5 button.colab-df-convert');\n",
              "        buttonEl.style.display =\n",
              "          google.colab.kernel.accessAllowed ? 'block' : 'none';\n",
              "\n",
              "        async function convertToInteractive(key) {\n",
              "          const element = document.querySelector('#df-e3e2da14-ebf2-49e8-97aa-32984e7cb3f5');\n",
              "          const dataTable =\n",
              "            await google.colab.kernel.invokeFunction('convertToInteractive',\n",
              "                                                     [key], {});\n",
              "          if (!dataTable) return;\n",
              "\n",
              "          const docLinkHtml = 'Like what you see? Visit the ' +\n",
              "            '<a target=\"_blank\" href=https://colab.research.google.com/notebooks/data_table.ipynb>data table notebook</a>'\n",
              "            + ' to learn more about interactive tables.';\n",
              "          element.innerHTML = '';\n",
              "          dataTable['output_type'] = 'display_data';\n",
              "          await google.colab.output.renderOutput(dataTable, element);\n",
              "          const docLink = document.createElement('div');\n",
              "          docLink.innerHTML = docLinkHtml;\n",
              "          element.appendChild(docLink);\n",
              "        }\n",
              "      </script>\n",
              "    </div>\n",
              "  </div>\n",
              "  "
            ]
          },
          "metadata": {},
          "execution_count": 55
        }
      ],
      "source": [
        "# movie id 10, method 2, top 5 similar\n",
        "out42,inner3=cos_similar(5,10)\n",
        "out42"
      ]
    }
  ],
  "metadata": {
    "colab": {
      "provenance": [],
      "machine_shape": "hm"
    },
    "kernelspec": {
      "display_name": "Python 3",
      "name": "python3"
    },
    "language_info": {
      "name": "python"
    },
    "accelerator": "GPU",
    "gpuClass": "premium"
  },
  "nbformat": 4,
  "nbformat_minor": 0
}
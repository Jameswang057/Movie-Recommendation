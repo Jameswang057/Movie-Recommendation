{
  "nbformat": 4,
  "nbformat_minor": 0,
  "metadata": {
    "colab": {
      "provenance": []
    },
    "kernelspec": {
      "name": "python3",
      "display_name": "Python 3"
    },
    "language_info": {
      "name": "python"
    }
  },
  "cells": [
    {
      "cell_type": "markdown",
      "source": [
        "# **Moive Recommendation**\n",
        "In this notebook, we use Alternating Least Squares (ALS) algorithm with Spark APIs to predict the ratings for the movies in [MovieLens small dataset](https://grouplens.org/datasets/movielens/latest/)"
      ],
      "metadata": {
        "id": "6alEbKjqG9zD"
      }
    },
    {
      "cell_type": "markdown",
      "source": [
        "# Set Up Environments"
      ],
      "metadata": {
        "id": "QWldNX36HHoc"
      }
    },
    {
      "cell_type": "code",
      "source": [
        "# Download Java Virtual Machine (JVM)\n",
        "!apt-get install openjdk-8-jdk-headless -qq > /dev/null"
      ],
      "metadata": {
        "id": "ToEYXtzby5vI"
      },
      "execution_count": null,
      "outputs": []
    },
    {
      "cell_type": "code",
      "source": [
        "# Download Spark\n",
        "!wget -q https://dlcdn.apache.org/spark/spark-3.3.1/spark-3.3.1-bin-hadoop3.tgz\n",
        "# Unzip the file\n",
        "!tar xf spark-3.3.1-bin-hadoop3.tgz"
      ],
      "metadata": {
        "id": "3JcaoR0jy534"
      },
      "execution_count": null,
      "outputs": []
    },
    {
      "cell_type": "code",
      "source": [
        "import os\n",
        "os.environ[\"JAVA_HOME\"] = \"/usr/lib/jvm/java-8-openjdk-amd64\"\n",
        "os.environ[\"SPARK_HOME\"] = '/content/spark-3.3.1-bin-hadoop3'"
      ],
      "metadata": {
        "id": "9CWq99bJy589"
      },
      "execution_count": null,
      "outputs": []
    },
    {
      "cell_type": "code",
      "source": [
        "# Install library for finding Spark\n",
        "!pip install -q findspark\n",
        "# Import the libary\n",
        "import findspark\n",
        "# Initiate findspark\n",
        "findspark.init()\n",
        "# Check the location for Spark\n",
        "findspark.find()"
      ],
      "metadata": {
        "colab": {
          "base_uri": "https://localhost:8080/",
          "height": 35
        },
        "id": "lunhthQny6Bz",
        "outputId": "3a82cbf5-8567-4a06-f57e-840c45703064"
      },
      "execution_count": null,
      "outputs": [
        {
          "output_type": "execute_result",
          "data": {
            "text/plain": [
              "'/content/spark-3.3.1-bin-hadoop3'"
            ],
            "application/vnd.google.colaboratory.intrinsic+json": {
              "type": "string"
            }
          },
          "metadata": {},
          "execution_count": 4
        }
      ]
    },
    {
      "cell_type": "code",
      "source": [
        "# Import SparkSession\n",
        "from pyspark.sql import SparkSession\n",
        "# Create a Spark Session\n",
        "spark = SparkSession.builder.master(\"local[*]\").getOrCreate()\n",
        "# Check Spark Session Information\n",
        "spark"
      ],
      "metadata": {
        "colab": {
          "base_uri": "https://localhost:8080/",
          "height": 219
        },
        "id": "eU6FPBig0a-S",
        "outputId": "67dd79bc-a64b-4a39-de81-6fcf19337285"
      },
      "execution_count": null,
      "outputs": [
        {
          "output_type": "execute_result",
          "data": {
            "text/plain": [
              "<pyspark.sql.session.SparkSession at 0x7f384c319e80>"
            ],
            "text/html": [
              "\n",
              "            <div>\n",
              "                <p><b>SparkSession - in-memory</b></p>\n",
              "                \n",
              "        <div>\n",
              "            <p><b>SparkContext</b></p>\n",
              "\n",
              "            <p><a href=\"http://0115022e7c88:4040\">Spark UI</a></p>\n",
              "\n",
              "            <dl>\n",
              "              <dt>Version</dt>\n",
              "                <dd><code>v3.3.1</code></dd>\n",
              "              <dt>Master</dt>\n",
              "                <dd><code>local[*]</code></dd>\n",
              "              <dt>AppName</dt>\n",
              "                <dd><code>pyspark-shell</code></dd>\n",
              "            </dl>\n",
              "        </div>\n",
              "        \n",
              "            </div>\n",
              "        "
            ]
          },
          "metadata": {},
          "execution_count": 5
        }
      ]
    },
    {
      "cell_type": "code",
      "source": [
        "# Import a Spark function from library\n",
        "from pyspark.sql.functions import col"
      ],
      "metadata": {
        "id": "YVB_GOSv0bJv"
      },
      "execution_count": null,
      "outputs": []
    },
    {
      "cell_type": "markdown",
      "source": [
        "## Libraries "
      ],
      "metadata": {
        "id": "jUWvE0HsQfEA"
      }
    },
    {
      "cell_type": "code",
      "source": [
        "import numpy as np\n",
        "import pandas as pd\n",
        "import seaborn as sns\n",
        "import matplotlib.pyplot as plt\n",
        "import math\n",
        "%matplotlib inline"
      ],
      "metadata": {
        "id": "pZ2oYkBsFrty"
      },
      "execution_count": null,
      "outputs": []
    },
    {
      "cell_type": "code",
      "source": [
        "from google.colab import drive\n",
        "drive.mount('/content/drive')"
      ],
      "metadata": {
        "id": "tIjOLh3vFrmf",
        "colab": {
          "base_uri": "https://localhost:8080/"
        },
        "outputId": "1682a9b7-a786-480f-b59c-46404a14a7cd"
      },
      "execution_count": null,
      "outputs": [
        {
          "output_type": "stream",
          "name": "stdout",
          "text": [
            "Mounted at /content/drive\n"
          ]
        }
      ]
    },
    {
      "cell_type": "markdown",
      "source": [
        "## Datasets"
      ],
      "metadata": {
        "id": "pJWrl1Ay2qFA"
      }
    },
    {
      "cell_type": "code",
      "source": [
        "movies_df = spark.read.load(\"movies.csv\", format='csv', header = True)\n",
        "ratings_df = spark.read.load(\"ratings.csv\", format='csv', header = True)\n",
        "links_df = spark.read.load(\"links.csv\", format='csv', header = True)\n",
        "tags_df = spark.read.load(\"tags.csv\", format='csv', header = True)"
      ],
      "metadata": {
        "id": "r8-mXr-RFrfu"
      },
      "execution_count": null,
      "outputs": []
    },
    {
      "cell_type": "code",
      "source": [
        "movies_df.show(5)"
      ],
      "metadata": {
        "id": "K8OdsQ5RFrWV",
        "colab": {
          "base_uri": "https://localhost:8080/"
        },
        "outputId": "a5febdee-e1f0-4b30-fed7-9091cf03d69c"
      },
      "execution_count": null,
      "outputs": [
        {
          "output_type": "stream",
          "name": "stdout",
          "text": [
            "+-------+--------------------+--------------------+\n",
            "|movieId|               title|              genres|\n",
            "+-------+--------------------+--------------------+\n",
            "|      1|    Toy Story (1995)|Adventure|Animati...|\n",
            "|      2|      Jumanji (1995)|Adventure|Childre...|\n",
            "|      3|Grumpier Old Men ...|      Comedy|Romance|\n",
            "|      4|Waiting to Exhale...|Comedy|Drama|Romance|\n",
            "|      5|Father of the Bri...|              Comedy|\n",
            "+-------+--------------------+--------------------+\n",
            "only showing top 5 rows\n",
            "\n"
          ]
        }
      ]
    },
    {
      "cell_type": "code",
      "metadata": {
        "id": "REWeAir1zErR",
        "colab": {
          "base_uri": "https://localhost:8080/"
        },
        "outputId": "c9b475c6-26d2-4e07-a449-c90c981759de"
      },
      "source": [
        "ratings_df.show(5)"
      ],
      "execution_count": null,
      "outputs": [
        {
          "output_type": "stream",
          "name": "stdout",
          "text": [
            "+------+-------+------+---------+\n",
            "|userId|movieId|rating|timestamp|\n",
            "+------+-------+------+---------+\n",
            "|     1|      1|   4.0|964982703|\n",
            "|     1|      3|   4.0|964981247|\n",
            "|     1|      6|   4.0|964982224|\n",
            "|     1|     47|   5.0|964983815|\n",
            "|     1|     50|   5.0|964982931|\n",
            "+------+-------+------+---------+\n",
            "only showing top 5 rows\n",
            "\n"
          ]
        }
      ]
    },
    {
      "cell_type": "code",
      "metadata": {
        "id": "TLEqnyWgzFzj",
        "colab": {
          "base_uri": "https://localhost:8080/"
        },
        "outputId": "9e905674-f770-405e-dddc-f26413417fd5"
      },
      "source": [
        "links_df.show(5)"
      ],
      "execution_count": null,
      "outputs": [
        {
          "output_type": "stream",
          "name": "stdout",
          "text": [
            "+-------+-------+------+\n",
            "|movieId| imdbId|tmdbId|\n",
            "+-------+-------+------+\n",
            "|      1|0114709|   862|\n",
            "|      2|0113497|  8844|\n",
            "|      3|0113228| 15602|\n",
            "|      4|0114885| 31357|\n",
            "|      5|0113041| 11862|\n",
            "+-------+-------+------+\n",
            "only showing top 5 rows\n",
            "\n"
          ]
        }
      ]
    },
    {
      "cell_type": "code",
      "metadata": {
        "id": "kkCiJtjazHiG",
        "colab": {
          "base_uri": "https://localhost:8080/"
        },
        "outputId": "080c24f5-75ce-4873-c534-65a01fab155f"
      },
      "source": [
        "tags_df.show(5)"
      ],
      "execution_count": null,
      "outputs": [
        {
          "output_type": "stream",
          "name": "stdout",
          "text": [
            "+------+-------+---------------+----------+\n",
            "|userId|movieId|            tag| timestamp|\n",
            "+------+-------+---------------+----------+\n",
            "|     2|  60756|          funny|1445714994|\n",
            "|     2|  60756|Highly quotable|1445714996|\n",
            "|     2|  60756|   will ferrell|1445714992|\n",
            "|     2|  89774|   Boxing story|1445715207|\n",
            "|     2|  89774|            MMA|1445715200|\n",
            "+------+-------+---------------+----------+\n",
            "only showing top 5 rows\n",
            "\n"
          ]
        }
      ]
    },
    {
      "cell_type": "markdown",
      "metadata": {
        "id": "4t2cH5rw08D-"
      },
      "source": [
        "# Part 1: Data Exploration "
      ]
    },
    {
      "cell_type": "code",
      "source": [
        "ratings_df = ratings_df.drop_duplicates(['userId', 'movieId'])"
      ],
      "metadata": {
        "id": "oZ7Sy3VpMh53"
      },
      "execution_count": null,
      "outputs": []
    },
    {
      "cell_type": "code",
      "metadata": {
        "id": "VeUxQZx1zW51",
        "colab": {
          "base_uri": "https://localhost:8080/"
        },
        "outputId": "6082d303-0e77-4729-c8fe-0e328cb3b957"
      },
      "source": [
        "tmp1 = ratings_df.groupBy(\"userID\").count().toPandas()['count'].min()\n",
        "tmp2 = ratings_df.groupBy(\"movieId\").count().toPandas()['count'].min()\n",
        "print('For the users that rated movies and the movies that were rated:')\n",
        "print('Minimum number of ratings per user is {}'.format(tmp1))\n",
        "print('Minimum number of ratings per movie is {}'.format(tmp2))"
      ],
      "execution_count": null,
      "outputs": [
        {
          "output_type": "stream",
          "name": "stdout",
          "text": [
            "For the users that rated movies and the movies that were rated:\n",
            "Minimum number of ratings per user is 20\n",
            "Minimum number of ratings per movie is 1\n"
          ]
        }
      ]
    },
    {
      "cell_type": "code",
      "metadata": {
        "id": "6mrhUm9Zzh6G",
        "colab": {
          "base_uri": "https://localhost:8080/"
        },
        "outputId": "a5af457b-bd66-4056-f2c0-d2906859ee79"
      },
      "source": [
        "tmp1 = sum(ratings_df.groupBy(\"movieId\").count().toPandas()['count'] == 1) \n",
        "tmp2 = ratings_df.select('movieId').distinct().count() \n",
        "print('{} out of {} movies are rated by only one user'.format(tmp1, tmp2)) "
      ],
      "execution_count": null,
      "outputs": [
        {
          "output_type": "stream",
          "name": "stdout",
          "text": [
            "3446 out of 9724 movies are rated by only one user\n"
          ]
        }
      ]
    },
    {
      "cell_type": "code",
      "metadata": {
        "id": "HiH40ORB1Rr9",
        "colab": {
          "base_uri": "https://localhost:8080/"
        },
        "outputId": "6dcccaaf-b93e-4f02-e1cc-4b43c44d36bc"
      },
      "source": [
        "movies_df.registerTempTable(\"movies\") \n",
        "links_df.registerTempTable(\"links\")\n",
        "tags_df.registerTempTable(\"tags\")"
      ],
      "execution_count": null,
      "outputs": [
        {
          "output_type": "stream",
          "name": "stderr",
          "text": [
            "/content/spark-3.3.1-bin-hadoop3/python/pyspark/sql/dataframe.py:229: FutureWarning: Deprecated in 2.0, use createOrReplaceTempView instead.\n",
            "  warnings.warn(\"Deprecated in 2.0, use createOrReplaceTempView instead.\", FutureWarning)\n"
          ]
        }
      ]
    },
    {
      "cell_type": "markdown",
      "metadata": {
        "id": "EeKYhPR01IHr"
      },
      "source": [
        "### Q1: The number of Users"
      ]
    },
    {
      "cell_type": "code",
      "metadata": {
        "id": "mGnoh18w1F0W",
        "colab": {
          "base_uri": "https://localhost:8080/"
        },
        "outputId": "9c0aba18-667d-49ef-f88a-1d690ea7435d"
      },
      "source": [
        "q1_result=spark.sql(\"Select Count(Distinct userId) as Number_of_Users from ratings\")\n",
        "q1_result.show()"
      ],
      "execution_count": null,
      "outputs": [
        {
          "output_type": "stream",
          "name": "stdout",
          "text": [
            "+---------------+\n",
            "|Number_of_Users|\n",
            "+---------------+\n",
            "|            610|\n",
            "+---------------+\n",
            "\n"
          ]
        }
      ]
    },
    {
      "cell_type": "markdown",
      "metadata": {
        "id": "DJsAsrIs4ifx"
      },
      "source": [
        "### Q2: The number of Movies"
      ]
    },
    {
      "cell_type": "code",
      "metadata": {
        "id": "Y7GHP20_4N-5",
        "colab": {
          "base_uri": "https://localhost:8080/"
        },
        "outputId": "8c3cc51c-70e2-4908-c5c6-0c36240be1f2"
      },
      "source": [
        "q2_result=spark.sql(\"Select Count(movieId) as Number_of_Moives from movies\") \n",
        "q2_result.show()"
      ],
      "execution_count": null,
      "outputs": [
        {
          "output_type": "stream",
          "name": "stdout",
          "text": [
            "+----------------+\n",
            "|Number_of_Moives|\n",
            "+----------------+\n",
            "|            9742|\n",
            "+----------------+\n",
            "\n"
          ]
        }
      ]
    },
    {
      "cell_type": "markdown",
      "metadata": {
        "id": "axRsLKg85DhS"
      },
      "source": [
        "### Q3:  How many movies are rated by users? List movies not rated before"
      ]
    },
    {
      "cell_type": "code",
      "source": [
        "q3_result_1 = spark.sql(\"select count(distinct movieId) as Number_of_Rated_Moives from ratings\") \n",
        "q3_result_1.show()"
      ],
      "metadata": {
        "colab": {
          "base_uri": "https://localhost:8080/"
        },
        "id": "ad0jPghWqBBm",
        "outputId": "34f575c7-e06e-4cff-bbf2-7d4d12d6979a"
      },
      "execution_count": null,
      "outputs": [
        {
          "output_type": "stream",
          "name": "stdout",
          "text": [
            "+----------------+\n",
            "|Number_of_Moives|\n",
            "+----------------+\n",
            "|            9724|\n",
            "+----------------+\n",
            "\n"
          ]
        }
      ]
    },
    {
      "cell_type": "code",
      "metadata": {
        "id": "oGKwmS8J7y1b",
        "colab": {
          "base_uri": "https://localhost:8080/"
        },
        "outputId": "5f9cc455-65b3-4b0e-ad80-5113f8115c5d"
      },
      "source": [
        "# movies that have not been rated before: 50 movies as an example\n",
        "unrated_list=spark.sql(\"SELECT * FROM movies WHERE movieId NOT IN (SELECT movieId FROM ratings) LIMIT 50\")\n",
        "print('50 movies that have not been rated by users:')\n",
        "unrated_list.show()"
      ],
      "execution_count": null,
      "outputs": [
        {
          "output_type": "stream",
          "name": "stdout",
          "text": [
            "50 movies that have not been rated by users:\n",
            "+-------+--------------------+--------------------+\n",
            "|movieId|               title|              genres|\n",
            "+-------+--------------------+--------------------+\n",
            "|   1076|Innocents, The (1...|Drama|Horror|Thri...|\n",
            "|   2939|      Niagara (1953)|      Drama|Thriller|\n",
            "|   3338|For All Mankind (...|         Documentary|\n",
            "|   3456|Color of Paradise...|               Drama|\n",
            "|   4194|I Know Where I'm ...|   Drama|Romance|War|\n",
            "|   5721|  Chosen, The (1981)|               Drama|\n",
            "|   6668|Road Home, The (W...|       Drama|Romance|\n",
            "|   6849|      Scrooge (1970)|Drama|Fantasy|Mus...|\n",
            "|   7020|        Proof (1991)|Comedy|Drama|Romance|\n",
            "|   7792|Parallax View, Th...|            Thriller|\n",
            "|   8765|This Gun for Hire...|Crime|Film-Noir|T...|\n",
            "|  25855|Roaring Twenties,...|Crime|Drama|Thriller|\n",
            "|  26085|Mutiny on the Bou...|Adventure|Drama|R...|\n",
            "|  30892|In the Realms of ...|Animation|Documen...|\n",
            "|  32160|Twentieth Century...|              Comedy|\n",
            "|  32371|Call Northside 77...|Crime|Drama|Film-...|\n",
            "|  34482|Browning Version,...|               Drama|\n",
            "|  85565|  Chalet Girl (2011)|      Comedy|Romance|\n",
            "+-------+--------------------+--------------------+\n",
            "\n"
          ]
        }
      ]
    },
    {
      "cell_type": "markdown",
      "metadata": {
        "id": "hDrUzAEA8j3R"
      },
      "source": [
        "### Q4: List Movie Genres "
      ]
    },
    {
      "cell_type": "code",
      "source": [
        "spark.sql('select distinct genres from movies').show()"
      ],
      "metadata": {
        "colab": {
          "base_uri": "https://localhost:8080/"
        },
        "id": "uL7ftqfBwEgh",
        "outputId": "20580039-0198-4a8d-e3e6-0f16a01b83e7"
      },
      "execution_count": null,
      "outputs": [
        {
          "output_type": "stream",
          "name": "stdout",
          "text": [
            "+--------------------+\n",
            "|              genres|\n",
            "+--------------------+\n",
            "|Comedy|Horror|Thr...|\n",
            "|Adventure|Sci-Fi|...|\n",
            "|Action|Adventure|...|\n",
            "| Action|Drama|Horror|\n",
            "|Action|Animation|...|\n",
            "|Animation|Childre...|\n",
            "|Action|Adventure|...|\n",
            "|    Adventure|Sci-Fi|\n",
            "|Documentary|Music...|\n",
            "|Adventure|Childre...|\n",
            "| Adventure|Animation|\n",
            "| Musical|Romance|War|\n",
            "|Action|Adventure|...|\n",
            "|Adventure|Childre...|\n",
            "|Comedy|Crime|Horr...|\n",
            "|Crime|Drama|Fanta...|\n",
            "|Comedy|Mystery|Th...|\n",
            "|   Adventure|Fantasy|\n",
            "|Horror|Romance|Sc...|\n",
            "|Drama|Film-Noir|R...|\n",
            "+--------------------+\n",
            "only showing top 20 rows\n",
            "\n"
          ]
        }
      ]
    },
    {
      "cell_type": "code",
      "metadata": {
        "id": "quueW6Jl8hBW",
        "colab": {
          "base_uri": "https://localhost:8080/"
        },
        "outputId": "67a74379-a337-4ee3-e240-cf3afcbefd46"
      },
      "source": [
        "q4_result=spark.sql(\"Select Distinct explode(split(genres,'[|]')) as genres From movies Order by 1\")\n",
        "q4_result.show()"
      ],
      "execution_count": null,
      "outputs": [
        {
          "output_type": "stream",
          "name": "stdout",
          "text": [
            "+------------------+\n",
            "|            genres|\n",
            "+------------------+\n",
            "|(no genres listed)|\n",
            "|            Action|\n",
            "|         Adventure|\n",
            "|         Animation|\n",
            "|          Children|\n",
            "|            Comedy|\n",
            "|             Crime|\n",
            "|       Documentary|\n",
            "|             Drama|\n",
            "|           Fantasy|\n",
            "|         Film-Noir|\n",
            "|            Horror|\n",
            "|              IMAX|\n",
            "|           Musical|\n",
            "|           Mystery|\n",
            "|           Romance|\n",
            "|            Sci-Fi|\n",
            "|          Thriller|\n",
            "|               War|\n",
            "|           Western|\n",
            "+------------------+\n",
            "\n"
          ]
        }
      ]
    },
    {
      "cell_type": "markdown",
      "metadata": {
        "id": "z3OUmAESLY__"
      },
      "source": [
        "### Q5: The number of movies for Each Category "
      ]
    },
    {
      "cell_type": "code",
      "metadata": {
        "id": "t53GMhTrLYcy",
        "colab": {
          "base_uri": "https://localhost:8080/"
        },
        "outputId": "9cb50a4d-b771-462e-8591-a93839a42977"
      },
      "source": [
        "# size of each category \n",
        "q5_result_1=spark.sql(\"Select genres,Count(movieId) as Number_of_Moives From(Select explode(split(genres,'[|]')) as genres, movieId From movies) Group By 1 Order by 2 DESC\")\n",
        "q5_result_1.show()"
      ],
      "execution_count": null,
      "outputs": [
        {
          "output_type": "stream",
          "name": "stdout",
          "text": [
            "+------------------+----------------+\n",
            "|            genres|Number_of_Moives|\n",
            "+------------------+----------------+\n",
            "|             Drama|            4361|\n",
            "|            Comedy|            3756|\n",
            "|          Thriller|            1894|\n",
            "|            Action|            1828|\n",
            "|           Romance|            1596|\n",
            "|         Adventure|            1263|\n",
            "|             Crime|            1199|\n",
            "|            Sci-Fi|             980|\n",
            "|            Horror|             978|\n",
            "|           Fantasy|             779|\n",
            "|          Children|             664|\n",
            "|         Animation|             611|\n",
            "|           Mystery|             573|\n",
            "|       Documentary|             440|\n",
            "|               War|             382|\n",
            "|           Musical|             334|\n",
            "|           Western|             167|\n",
            "|              IMAX|             158|\n",
            "|         Film-Noir|              87|\n",
            "|(no genres listed)|              34|\n",
            "+------------------+----------------+\n",
            "\n"
          ]
        }
      ]
    },
    {
      "cell_type": "code",
      "metadata": {
        "id": "HwPq3juBXk9L",
        "colab": {
          "base_uri": "https://localhost:8080/"
        },
        "outputId": "a2b5861f-a062-40cb-fc33-9ca592a99dab"
      },
      "source": [
        "# list all movie for each category \n",
        "q5_result_2=spark.sql(\"Select genres, concat_ws(',',collect_set(title)) as list_of_movies From(Select explode(split(genres,'[|]')) as genres, title From movies) Group By 1\")\n",
        "q5_result_2.show()"
      ],
      "execution_count": null,
      "outputs": [
        {
          "output_type": "stream",
          "name": "stdout",
          "text": [
            "+------------------+--------------------+\n",
            "|            genres|      list_of_movies|\n",
            "+------------------+--------------------+\n",
            "|             Crime|Stealing Rembrand...|\n",
            "|           Romance|Vampire in Brookl...|\n",
            "|          Thriller|Element of Crime,...|\n",
            "|         Adventure|Ice Age: Collisio...|\n",
            "|             Drama|Airport '77 (1977...|\n",
            "|               War|General, The (192...|\n",
            "|       Documentary|The Barkley Marat...|\n",
            "|           Fantasy|Masters of the Un...|\n",
            "|           Mystery|Before and After ...|\n",
            "|           Musical|U2: Rattle and Hu...|\n",
            "|         Animation|Ice Age: Collisio...|\n",
            "|         Film-Noir|Rififi (Du rififi...|\n",
            "|(no genres listed)|T2 3-D: Battle Ac...|\n",
            "|              IMAX|Harry Potter and ...|\n",
            "|            Horror|Underworld: Rise ...|\n",
            "|           Western|Man Who Shot Libe...|\n",
            "|            Comedy|Hysteria (2011),H...|\n",
            "|          Children|Ice Age: Collisio...|\n",
            "|            Action|Stealing Rembrand...|\n",
            "|            Sci-Fi|Push (2009),SORI:...|\n",
            "+------------------+--------------------+\n",
            "\n"
          ]
        }
      ]
    },
    {
      "cell_type": "markdown",
      "metadata": {
        "id": "aS11BgUKN8nZ"
      },
      "source": [
        "# Part2: Spark ALS based approach for training model\n"
      ]
    },
    {
      "cell_type": "code",
      "metadata": {
        "id": "nuoD2YfyQfVq",
        "colab": {
          "base_uri": "https://localhost:8080/"
        },
        "outputId": "c9637b24-dcdd-40cd-a27a-8a11a223fe25"
      },
      "source": [
        "ratings_df.show()"
      ],
      "execution_count": null,
      "outputs": [
        {
          "output_type": "stream",
          "name": "stdout",
          "text": [
            "+------+-------+------+---------+\n",
            "|userId|movieId|rating|timestamp|\n",
            "+------+-------+------+---------+\n",
            "|     1|      1|   4.0|964982703|\n",
            "|     1|   1024|   5.0|964982876|\n",
            "|     1|   1030|   3.0|964982903|\n",
            "|     1|   1031|   5.0|964982653|\n",
            "|     1|   1073|   5.0|964981680|\n",
            "|     1|   1089|   5.0|964982951|\n",
            "|     1|   1092|   5.0|964983484|\n",
            "|     1|    110|   4.0|964982176|\n",
            "|     1|   1136|   5.0|964981327|\n",
            "|     1|   1206|   5.0|964983737|\n",
            "|     1|   1219|   2.0|964983393|\n",
            "|     1|   1220|   5.0|964981909|\n",
            "|     1|   1226|   5.0|964983618|\n",
            "|     1|   1240|   5.0|964983723|\n",
            "|     1|   1258|   3.0|964983414|\n",
            "|     1|   1270|   5.0|964983705|\n",
            "|     1|   1275|   5.0|964982290|\n",
            "|     1|   1282|   5.0|964982703|\n",
            "|     1|   1291|   5.0|964981909|\n",
            "|     1|   1298|   5.0|964984086|\n",
            "+------+-------+------+---------+\n",
            "only showing top 20 rows\n",
            "\n"
          ]
        }
      ]
    },
    {
      "cell_type": "code",
      "metadata": {
        "id": "-6p0nDibQhKl"
      },
      "source": [
        "movie_ratings=ratings_df.drop('timestamp')"
      ],
      "execution_count": null,
      "outputs": []
    },
    {
      "cell_type": "code",
      "metadata": {
        "id": "Db_Mg8FnQs4y"
      },
      "source": [
        "from pyspark.sql.types import IntegerType, FloatType\n",
        "movie_ratings = movie_ratings.withColumn(\"userId\", movie_ratings[\"userId\"].cast(IntegerType()))\n",
        "movie_ratings = movie_ratings.withColumn(\"movieId\", movie_ratings[\"movieId\"].cast(IntegerType()))\n",
        "movie_ratings = movie_ratings.withColumn(\"rating\", movie_ratings[\"rating\"].cast(FloatType()))"
      ],
      "execution_count": null,
      "outputs": []
    },
    {
      "cell_type": "code",
      "metadata": {
        "id": "q7QagKRAQv49",
        "colab": {
          "base_uri": "https://localhost:8080/"
        },
        "outputId": "92bcc0b0-0642-4378-d36a-6f1de84c6687"
      },
      "source": [
        "movie_ratings.show()"
      ],
      "execution_count": null,
      "outputs": [
        {
          "output_type": "stream",
          "name": "stdout",
          "text": [
            "+------+-------+------+\n",
            "|userId|movieId|rating|\n",
            "+------+-------+------+\n",
            "|     1|      1|   4.0|\n",
            "|     1|   1009|   3.0|\n",
            "|     1|    101|   5.0|\n",
            "|     1|   1023|   5.0|\n",
            "|     1|   1024|   5.0|\n",
            "|     1|   1025|   5.0|\n",
            "|     1|   1029|   5.0|\n",
            "|     1|   1030|   3.0|\n",
            "|     1|   1031|   5.0|\n",
            "|     1|   1032|   5.0|\n",
            "|     1|   1042|   4.0|\n",
            "|     1|   1049|   5.0|\n",
            "|     1|   1060|   4.0|\n",
            "|     1|   1073|   5.0|\n",
            "|     1|   1080|   5.0|\n",
            "|     1|   1089|   5.0|\n",
            "|     1|   1090|   4.0|\n",
            "|     1|   1092|   5.0|\n",
            "|     1|   1097|   5.0|\n",
            "|     1|    110|   4.0|\n",
            "+------+-------+------+\n",
            "only showing top 20 rows\n",
            "\n"
          ]
        }
      ]
    },
    {
      "cell_type": "code",
      "source": [
        "# bar chart of ratings\n",
        "rating_count=movie_ratings.select('rating').groupBy('rating').count().toPandas() \n",
        "plt.figure(figsize=[12,6])  \n",
        "plt.bar(x='rating',height='count',data=rating_count,width=0.5) \n",
        "plt.title('Ratings Distribution')\n",
        "plt.xticks(np.arange(0.5,5.5,0.5)) \n",
        "plt.show()"
      ],
      "metadata": {
        "id": "jcBBrr8tJ_TD",
        "colab": {
          "base_uri": "https://localhost:8080/",
          "height": 390
        },
        "outputId": "445ed8e5-65d7-4419-92b1-6464facc61c6"
      },
      "execution_count": null,
      "outputs": [
        {
          "output_type": "display_data",
          "data": {
            "text/plain": [
              "<Figure size 864x432 with 1 Axes>"
            ],
            "image/png": "[encoded data removed]"
          },
          "metadata": {
            "needs_background": "light"
          }
        }
      ]
    },
    {
      "cell_type": "code",
      "source": [
        "rating_count.head()"
      ],
      "metadata": {
        "colab": {
          "base_uri": "https://localhost:8080/",
          "height": 206
        },
        "id": "ibxfaiGXMZbM",
        "outputId": "3bd3cd0f-e6df-41be-db3c-e871bef39210"
      },
      "execution_count": null,
      "outputs": [
        {
          "output_type": "execute_result",
          "data": {
            "text/plain": [
              "   rating  count\n",
              "0     5.0  13211\n",
              "1     2.5   5550\n",
              "2     2.0   7551\n",
              "3     3.0  20047\n",
              "4     1.5   1791"
            ],
            "text/html": [
              "\n",
              "  <div id=\"df-8dee223c-ac87-46e1-bed3-6012eebab41b\">\n",
              "    <div class=\"colab-df-container\">\n",
              "      <div>\n",
              "<style scoped>\n",
              "    .dataframe tbody tr th:only-of-type {\n",
              "        vertical-align: middle;\n",
              "    }\n",
              "\n",
              "    .dataframe tbody tr th {\n",
              "        vertical-align: top;\n",
              "    }\n",
              "\n",
              "    .dataframe thead th {\n",
              "        text-align: right;\n",
              "    }\n",
              "</style>\n",
              "<table border=\"1\" class=\"dataframe\">\n",
              "  <thead>\n",
              "    <tr style=\"text-align: right;\">\n",
              "      <th></th>\n",
              "      <th>rating</th>\n",
              "      <th>count</th>\n",
              "    </tr>\n",
              "  </thead>\n",
              "  <tbody>\n",
              "    <tr>\n",
              "      <th>0</th>\n",
              "      <td>5.0</td>\n",
              "      <td>13211</td>\n",
              "    </tr>\n",
              "    <tr>\n",
              "      <th>1</th>\n",
              "      <td>2.5</td>\n",
              "      <td>5550</td>\n",
              "    </tr>\n",
              "    <tr>\n",
              "      <th>2</th>\n",
              "      <td>2.0</td>\n",
              "      <td>7551</td>\n",
              "    </tr>\n",
              "    <tr>\n",
              "      <th>3</th>\n",
              "      <td>3.0</td>\n",
              "      <td>20047</td>\n",
              "    </tr>\n",
              "    <tr>\n",
              "      <th>4</th>\n",
              "      <td>1.5</td>\n",
              "      <td>1791</td>\n",
              "    </tr>\n",
              "  </tbody>\n",
              "</table>\n",
              "</div>\n",
              "      <button class=\"colab-df-convert\" onclick=\"convertToInteractive('df-8dee223c-ac87-46e1-bed3-6012eebab41b')\"\n",
              "              title=\"Convert this dataframe to an interactive table.\"\n",
              "              style=\"display:none;\">\n",
              "        \n",
              "  <svg xmlns=\"http://www.w3.org/2000/svg\" height=\"24px\"viewBox=\"0 0 24 24\"\n",
              "       width=\"24px\">\n",
              "    <path d=\"M0 0h24v24H0V0z\" fill=\"none\"/>\n",
              "    <path d=\"M18.56 5.44l.94 2.06.94-2.06 2.06-.94-2.06-.94-.94-2.06-.94 2.06-2.06.94zm-11 1L8.5 8.5l.94-2.06 2.06-.94-2.06-.94L8.5 2.5l-.94 2.06-2.06.94zm10 10l.94 2.06.94-2.06 2.06-.94-2.06-.94-.94-2.06-.94 2.06-2.06.94z\"/><path d=\"M17.41 7.96l-1.37-1.37c-.4-.4-.92-.59-1.43-.59-.52 0-1.04.2-1.43.59L10.3 9.45l-7.72 7.72c-.78.78-.78 2.05 0 2.83L4 21.41c.39.39.9.59 1.41.59.51 0 1.02-.2 1.41-.59l7.78-7.78 2.81-2.81c.8-.78.8-2.07 0-2.86zM5.41 20L4 18.59l7.72-7.72 1.47 1.35L5.41 20z\"/>\n",
              "  </svg>\n",
              "      </button>\n",
              "      \n",
              "  <style>\n",
              "    .colab-df-container {\n",
              "      display:flex;\n",
              "      flex-wrap:wrap;\n",
              "      gap: 12px;\n",
              "    }\n",
              "\n",
              "    .colab-df-convert {\n",
              "      background-color: #E8F0FE;\n",
              "      border: none;\n",
              "      border-radius: 50%;\n",
              "      cursor: pointer;\n",
              "      display: none;\n",
              "      fill: #1967D2;\n",
              "      height: 32px;\n",
              "      padding: 0 0 0 0;\n",
              "      width: 32px;\n",
              "    }\n",
              "\n",
              "    .colab-df-convert:hover {\n",
              "      background-color: #E2EBFA;\n",
              "      box-shadow: 0px 1px 2px rgba(60, 64, 67, 0.3), 0px 1px 3px 1px rgba(60, 64, 67, 0.15);\n",
              "      fill: #174EA6;\n",
              "    }\n",
              "\n",
              "    [theme=dark] .colab-df-convert {\n",
              "      background-color: #3B4455;\n",
              "      fill: #D2E3FC;\n",
              "    }\n",
              "\n",
              "    [theme=dark] .colab-df-convert:hover {\n",
              "      background-color: #434B5C;\n",
              "      box-shadow: 0px 1px 3px 1px rgba(0, 0, 0, 0.15);\n",
              "      filter: drop-shadow(0px 1px 2px rgba(0, 0, 0, 0.3));\n",
              "      fill: #FFFFFF;\n",
              "    }\n",
              "  </style>\n",
              "\n",
              "      <script>\n",
              "        const buttonEl =\n",
              "          document.querySelector('#df-8dee223c-ac87-46e1-bed3-6012eebab41b button.colab-df-convert');\n",
              "        buttonEl.style.display =\n",
              "          google.colab.kernel.accessAllowed ? 'block' : 'none';\n",
              "\n",
              "        async function convertToInteractive(key) {\n",
              "          const element = document.querySelector('#df-8dee223c-ac87-46e1-bed3-6012eebab41b');\n",
              "          const dataTable =\n",
              "            await google.colab.kernel.invokeFunction('convertToInteractive',\n",
              "                                                     [key], {});\n",
              "          if (!dataTable) return;\n",
              "\n",
              "          const docLinkHtml = 'Like what you see? Visit the ' +\n",
              "            '<a target=\"_blank\" href=https://colab.research.google.com/notebooks/data_table.ipynb>data table notebook</a>'\n",
              "            + ' to learn more about interactive tables.';\n",
              "          element.innerHTML = '';\n",
              "          dataTable['output_type'] = 'display_data';\n",
              "          await google.colab.output.renderOutput(dataTable, element);\n",
              "          const docLink = document.createElement('div');\n",
              "          docLink.innerHTML = docLinkHtml;\n",
              "          element.appendChild(docLink);\n",
              "        }\n",
              "      </script>\n",
              "    </div>\n",
              "  </div>\n",
              "  "
            ]
          },
          "metadata": {},
          "execution_count": 38
        }
      ]
    },
    {
      "cell_type": "markdown",
      "metadata": {
        "id": "IBfAd44cQ0aj"
      },
      "source": [
        "## ALS Model Selection and Evaluation (Tune hyperparameters)\n"
      ]
    },
    {
      "cell_type": "markdown",
      "source": [
        "Tune hyperparameters via hold-out validation or cross-validation by grid search.\n",
        "The most important hyperparameters: \n",
        "1. maxIter: the maximum number of iterations to run (defaults to 10);\n",
        "2. rank: the number of latent factors in the model (defaults to 10);\n",
        "3. regParam: the regularization parameter in ALS (defaults to 1.0);\n",
        "https://spark.apache.org/docs/2.2.0/ml-collaborative-filtering.html\n"
      ],
      "metadata": {
        "id": "frLv3rXj1Vu_"
      }
    },
    {
      "cell_type": "code",
      "metadata": {
        "id": "Wc9CF4YhQ5fq"
      },
      "source": [
        "# Import package\n",
        "from pyspark.ml.evaluation import RegressionEvaluator \n",
        "from pyspark.ml.recommendation import ALS  \n",
        "from pyspark.ml.tuning import CrossValidator,ParamGridBuilder"
      ],
      "execution_count": null,
      "outputs": []
    },
    {
      "cell_type": "code",
      "metadata": {
        "id": "rGAdsCyeQ9Tk"
      },
      "source": [
        "#Create test and train set \n",
        "(training,test) = movie_ratings.randomSplit([0.8,0.2]) "
      ],
      "execution_count": null,
      "outputs": []
    },
    {
      "cell_type": "code",
      "metadata": {
        "id": "zF7ee7xnQ-kX"
      },
      "source": [
        "#Create ALS model\n",
        "model_als = ALS(maxIter=5, rank=10, regParam=0.01, userCol=\"userId\", itemCol=\"movieId\", ratingCol=\"rating\",\n",
        "          coldStartStrategy=\"drop\", seed=6) "
      ],
      "execution_count": null,
      "outputs": []
    },
    {
      "cell_type": "markdown",
      "source": [
        "It takes about one hour and fourty five minutes. "
      ],
      "metadata": {
        "id": "J8ayOnoJynH6"
      }
    },
    {
      "cell_type": "code",
      "metadata": {
        "id": "_RGK-DMt1pzr"
      },
      "source": [
        "params = ParamGridBuilder()\\\n",
        "            .addGrid(model_als.maxIter, [3, 5, 10])\\\n",
        "            .addGrid(model_als.regParam, [0.1, 0.01, 0.001])\\\n",
        "            .addGrid(model_als.rank, [5, 10, 15, 20, 25])\\\n",
        "            .addGrid(model_als.alpha, [0.1, 0.01, 0.001])\\\n",
        "            .build()\n",
        "\n",
        "# Define evaluator as RMSE\n",
        "evaluator = RegressionEvaluator(metricName=\"rmse\", labelCol=\"rating\",\n",
        "                                predictionCol=\"prediction\")\n",
        "\n",
        "\n",
        "# Build Cross validation \n",
        "cv = CrossValidator(estimator=model_als, estimatorParamMaps=params, evaluator=evaluator, numFolds=5, seed=6)\n",
        "\n",
        "\n",
        "#Fit ALS model to training data\n",
        "cvModel = cv.fit(training)\n",
        "\n",
        "\n",
        "#Extract best model from the tuning exercise using ParamGridBuilder\n",
        "bestModel=cvModel.bestModel"
      ],
      "execution_count": null,
      "outputs": []
    },
    {
      "cell_type": "markdown",
      "source": [
        "Check the best parameters"
      ],
      "metadata": {
        "id": "kn-qKhWQ_Jda"
      }
    },
    {
      "cell_type": "code",
      "source": [
        "best_params = cvModel.getEstimatorParamMaps()[np.argmin(cvModel.avgMetrics)]\n",
        "print('Best ALS model parameters by CV:')\n",
        "for i,j in best_params.items():\n",
        "  print('-> '+i.name+': '+str(j))"
      ],
      "metadata": {
        "colab": {
          "base_uri": "https://localhost:8080/"
        },
        "id": "6Oyy5LLQLcdP",
        "outputId": "b8b38979-cb6f-4b2a-80db-231608fa6890"
      },
      "execution_count": null,
      "outputs": [
        {
          "output_type": "stream",
          "name": "stdout",
          "text": [
            "Best ALS model parameters by CV:\n",
            "-> maxIter: 10\n",
            "-> regParam: 0.1\n",
            "-> rank: 5\n",
            "-> alpha: 0.001\n"
          ]
        }
      ]
    },
    {
      "cell_type": "markdown",
      "source": [
        "Extract best model from the tuning exercise using ParamGridBuilder。 "
      ],
      "metadata": {
        "id": "iM5dofXS_VJT"
      }
    },
    {
      "cell_type": "code",
      "source": [
        "prediction_train=cvModel.transform(training)\n",
        "rmse_train = evaluator.evaluate(prediction_train)\n",
        "print(\"Root-mean-square error for training data is \" + str(rmse_train))"
      ],
      "metadata": {
        "colab": {
          "base_uri": "https://localhost:8080/"
        },
        "id": "Lio3yNzvL4iv",
        "outputId": "59239e43-5e59-468b-cbd2-67b6e1053de3"
      },
      "execution_count": null,
      "outputs": [
        {
          "output_type": "stream",
          "name": "stdout",
          "text": [
            "Root-mean-square error for training data is 0.641094908708547\n"
          ]
        }
      ]
    },
    {
      "cell_type": "markdown",
      "metadata": {
        "id": "XsL-ufvNz_oP"
      },
      "source": [
        "## Model testing\n",
        "And finally, make a prediction and check the testing error."
      ]
    },
    {
      "cell_type": "code",
      "metadata": {
        "id": "1DSbaAr_0Jc3"
      },
      "source": [
        "#Generate predictions and evaluate using RMSE\n",
        "predictions=bestModel.transform(test)\n",
        "rmse = evaluator.evaluate(predictions)"
      ],
      "execution_count": null,
      "outputs": []
    },
    {
      "cell_type": "code",
      "metadata": {
        "id": "i6F_F4br0OpL",
        "colab": {
          "base_uri": "https://localhost:8080/"
        },
        "outputId": "2527fc00-500b-42b8-8281-42f6f7dac60d"
      },
      "source": [
        "#Print evaluation metrics and model parameters\n",
        "print (\"RMSE = \"+str(rmse))\n",
        "print (\"**Best Model**\")\n",
        "print (\" Rank: \", str(bestModel._java_obj.parent().getRank())),\n",
        "print (\" MaxIter: \", str(bestModel._java_obj.parent().getMaxIter())), \n",
        "print (\" RegParam: \", str(bestModel._java_obj.parent().getRegParam()))"
      ],
      "execution_count": null,
      "outputs": [
        {
          "output_type": "stream",
          "name": "stdout",
          "text": [
            "RMSE = 0.8837635685254133\n",
            "**Best Model**\n",
            " Rank:  5\n",
            " MaxIter:  10\n",
            " RegParam:  0.1\n"
          ]
        }
      ]
    },
    {
      "cell_type": "code",
      "metadata": {
        "id": "QLjY6-OC5HIP",
        "colab": {
          "base_uri": "https://localhost:8080/"
        },
        "outputId": "841b03cc-f2ee-4123-f2db-cec7e607991a"
      },
      "source": [
        "predictions.show()"
      ],
      "execution_count": null,
      "outputs": [
        {
          "output_type": "stream",
          "name": "stdout",
          "text": [
            "+------+-------+------+----------+\n",
            "|userId|movieId|rating|prediction|\n",
            "+------+-------+------+----------+\n",
            "|   580|   3175|   2.5|  3.275664|\n",
            "|   580|  44022|   3.5| 3.9143727|\n",
            "|   362|   1591|   4.0| 2.6367426|\n",
            "|   597|   2366|   5.0|  4.177921|\n",
            "|   108|   1959|   5.0| 3.8641186|\n",
            "|   368|   2122|   2.0| 1.6530845|\n",
            "|   101|   3175|   4.0| 3.2500834|\n",
            "|   115|   1580|   4.0| 3.3472953|\n",
            "|   332|   1645|   3.5| 3.1977396|\n",
            "|   577|   1959|   4.0| 3.5676427|\n",
            "|   384|   1959|   4.0|  3.325044|\n",
            "|   271|   6658|   2.0| 3.5124793|\n",
            "|   606|   1580|   2.5| 3.0638955|\n",
            "|   606|   1829|   3.5| 1.7880942|\n",
            "|   606|  44022|   4.0| 2.9149954|\n",
            "|    93|   1591|   4.0|  2.889623|\n",
            "|   232|  44022|   3.0| 3.3622675|\n",
            "|   232|  68135|   4.0| 3.6420696|\n",
            "|   233|   1580|   3.0|  2.760866|\n",
            "|   367|   3175|   4.0|  4.109376|\n",
            "+------+-------+------+----------+\n",
            "only showing top 20 rows\n",
            "\n"
          ]
        }
      ]
    },
    {
      "cell_type": "markdown",
      "metadata": {
        "id": "rD63B3RE5JdX"
      },
      "source": [
        "## Model apply and see the performance "
      ]
    },
    {
      "cell_type": "code",
      "metadata": {
        "id": "-ma-QzXv5KQ1",
        "colab": {
          "base_uri": "https://localhost:8080/"
        },
        "outputId": "e7928ec3-b422-475d-defc-0f940e0b7bff"
      },
      "source": [
        "alldata = bestModel.transform(movie_ratings)\n",
        "rmse = evaluator.evaluate(alldata)\n",
        "print (\"RMSE = \"+str(rmse))"
      ],
      "execution_count": null,
      "outputs": [
        {
          "output_type": "stream",
          "name": "stdout",
          "text": [
            "RMSE = 0.6947265542276162\n"
          ]
        }
      ]
    },
    {
      "cell_type": "code",
      "metadata": {
        "id": "glJ7XjAk5P--",
        "colab": {
          "base_uri": "https://localhost:8080/"
        },
        "outputId": "4003bdd3-9e63-4d6b-ef2d-2c5d4810ec1b"
      },
      "source": [
        "alldata.registerTempTable(\"alldata\")"
      ],
      "execution_count": null,
      "outputs": [
        {
          "output_type": "stream",
          "name": "stderr",
          "text": [
            "/content/spark-3.3.1-bin-hadoop3/python/pyspark/sql/dataframe.py:229: FutureWarning: Deprecated in 2.0, use createOrReplaceTempView instead.\n",
            "  warnings.warn(\"Deprecated in 2.0, use createOrReplaceTempView instead.\", FutureWarning)\n"
          ]
        }
      ]
    },
    {
      "cell_type": "code",
      "metadata": {
        "id": "BW0908ad5R42",
        "colab": {
          "base_uri": "https://localhost:8080/"
        },
        "outputId": "f646fcaa-df99-4962-b02f-d912650a1938"
      },
      "source": [
        "spark.sql(\"Select * From alldata\").show()"
      ],
      "execution_count": null,
      "outputs": [
        {
          "output_type": "stream",
          "name": "stdout",
          "text": [
            "+------+-------+------+----------+\n",
            "|userId|movieId|rating|prediction|\n",
            "+------+-------+------+----------+\n",
            "|   463|   1088|   3.5| 3.4343426|\n",
            "|   137|   1580|   3.5| 3.2755713|\n",
            "|   580|   1580|   4.0| 3.2451658|\n",
            "|   580|   3175|   2.5|  3.275664|\n",
            "|   580|  44022|   3.5| 3.9143727|\n",
            "|   133|    471|   4.0| 3.2932673|\n",
            "|   322|   1580|   3.5| 2.9739125|\n",
            "|   362|   1591|   4.0| 2.6367426|\n",
            "|   362|   1645|   5.0| 3.7023778|\n",
            "|   593|   1580|   1.5|  2.605293|\n",
            "|   597|    471|   2.0| 3.6825938|\n",
            "|   597|   1580|   3.0|  3.627946|\n",
            "|   597|   1959|   4.0| 4.0461516|\n",
            "|   597|   2366|   5.0|  4.177921|\n",
            "|   108|   1959|   5.0| 3.8641186|\n",
            "|   155|   1580|   4.0| 3.8595343|\n",
            "|   155|   3175|   4.0| 3.5699801|\n",
            "|    34|   1580|   2.5| 2.7287972|\n",
            "|    34|   3997|   2.0| 2.0161638|\n",
            "|   368|   1580|   3.0| 2.8459294|\n",
            "+------+-------+------+----------+\n",
            "only showing top 20 rows\n",
            "\n"
          ]
        }
      ]
    },
    {
      "cell_type": "code",
      "metadata": {
        "id": "hmVDrwsD5TYY",
        "colab": {
          "base_uri": "https://localhost:8080/"
        },
        "outputId": "4b3acc69-4bb8-4991-a3db-b5b3b39ff1f7"
      },
      "source": [
        "spark.sql('SELECT * ' +\\\n",
        "          'FROM movies ' +\\\n",
        "\t          'JOIN alldata ON movies.movieId = alldata.movieId').show()"
      ],
      "execution_count": null,
      "outputs": [
        {
          "output_type": "stream",
          "name": "stdout",
          "text": [
            "+-------+--------------------+--------------------+------+-------+------+----------+\n",
            "|movieId|               title|              genres|userId|movieId|rating|prediction|\n",
            "+-------+--------------------+--------------------+------+-------+------+----------+\n",
            "|    356| Forrest Gump (1994)|Comedy|Drama|Roma...|   148|    356|   4.0| 3.7889683|\n",
            "|   1197|Princess Bride, T...|Action|Adventure|...|   148|   1197|   3.0| 3.8854332|\n",
            "|   4308| Moulin Rouge (2001)|Drama|Musical|Rom...|   148|   4308|   4.0| 3.3522651|\n",
            "|   4886|Monsters, Inc. (2...|Adventure|Animati...|   148|   4886|   3.0| 3.6585326|\n",
            "|   4896|Harry Potter and ...|Adventure|Childre...|   148|   4896|   4.0|  3.691735|\n",
            "|   4993|Lord of the Rings...|   Adventure|Fantasy|   148|   4993|   3.0| 3.7054505|\n",
            "|   5618|Spirited Away (Se...|Adventure|Animati...|   148|   5618|   3.0|  3.756852|\n",
            "|   5816|Harry Potter and ...|   Adventure|Fantasy|   148|   5816|   4.0| 3.6569364|\n",
            "|   5952|Lord of the Rings...|   Adventure|Fantasy|   148|   5952|   3.0| 3.8005006|\n",
            "|   6377| Finding Nemo (2003)|Adventure|Animati...|   148|   6377|   3.0| 3.6474714|\n",
            "|   7153|Lord of the Rings...|Action|Adventure|...|   148|   7153|   3.0| 3.6068964|\n",
            "|   8368|Harry Potter and ...|Adventure|Fantasy...|   148|   8368|   4.0| 3.9115982|\n",
            "|  30816|Phantom of the Op...|Drama|Musical|Rom...|   148|  30816|   5.0|  3.608478|\n",
            "|  31658|Howl's Moving Cas...|Adventure|Animati...|   148|  31658|   4.0| 3.8089867|\n",
            "|  40629|Pride & Prejudice...|       Drama|Romance|   148|  40629|   5.0| 3.6019971|\n",
            "|  40815|Harry Potter and ...|Adventure|Fantasy...|   148|  40815|   4.0| 3.8008633|\n",
            "|  44191|V for Vendetta (2...|Action|Sci-Fi|Thr...|   148|  44191|   4.0| 3.4412355|\n",
            "|  50872|  Ratatouille (2007)|Animation|Childre...|   148|  50872|   3.0| 3.5455601|\n",
            "|  54001|Harry Potter and ...|Adventure|Drama|F...|   148|  54001|   4.0| 3.9598827|\n",
            "|  60069|       WALL·E (2008)|Adventure|Animati...|   148|  60069|   4.5| 3.7515519|\n",
            "+-------+--------------------+--------------------+------+-------+------+----------+\n",
            "only showing top 20 rows\n",
            "\n"
          ]
        }
      ]
    },
    {
      "cell_type": "markdown",
      "metadata": {
        "id": "UGITMi8k5uOx"
      },
      "source": [
        "## Recommend moive to users with id: 575, 232. \n"
      ]
    },
    {
      "cell_type": "code",
      "metadata": {
        "id": "QjBgEltJ5rYw",
        "colab": {
          "base_uri": "https://localhost:8080/",
          "height": 363
        },
        "outputId": "7d39d1c4-2b84-4747-b227-ee846b989337"
      },
      "source": [
        "# define a function to package the recommendation\n",
        "def topKRecommend(k,id,model):\n",
        "  '''\n",
        "  k: the number of movies to recommend\n",
        "  id: the id of the user to give recommendations\n",
        "  model: the trained model for recommendation\n",
        "  '''\n",
        "  # the table for all top10 recommendations\n",
        "  all_recommd=model.recommendForAllUsers(k)\n",
        "  user_recommd=all_recommd.where(all_recommd.userId==id).toPandas()\n",
        "  if user_recommd.shape[0]==0:\n",
        "    print('No user with id '+str(id)+' is found in the data.')\n",
        "    return None\n",
        "  user_recommd=user_recommd.iloc[0,1]\n",
        "  user_recommd=pd.DataFrame(user_recommd,columns=['movieId','predicted_ratings'])\n",
        "  temp=None\n",
        "  for i in user_recommd['movieId']:\n",
        "    if not temp:\n",
        "      temp=movies_df.where(movies_df.movieId==str(i))\n",
        "    else:\n",
        "      temp=temp.union(movies_df.where(movies_df.movieId==str(i)))\n",
        "  out=pd.concat([temp.toPandas(),user_recommd['predicted_ratings']],axis=1)\n",
        "  out.index=range(1,k+1)\n",
        "  return out\n",
        "\n",
        "\n",
        "\n",
        "# top 10 for user 575\n",
        "topKRecommend(10,575,bestModel)"
      ],
      "execution_count": null,
      "outputs": [
        {
          "output_type": "execute_result",
          "data": {
            "text/plain": [
              "   movieId                                              title  \\\n",
              "1     7842                                        Dune (2000)   \n",
              "2    60943                                Frozen River (2008)   \n",
              "3     7841                            Children of Dune (2003)   \n",
              "4     2843  Black Cat, White Cat (Crna macka, beli macor) ...   \n",
              "5    42418                              New World, The (2005)   \n",
              "6     7669                         Pride and Prejudice (1995)   \n",
              "7     3379                                On the Beach (1959)   \n",
              "8    82378                             All Good Things (2010)   \n",
              "9     5607     Son of the Bride (Hijo de la novia, El) (2001)   \n",
              "10      28                                  Persuasion (1995)   \n",
              "\n",
              "                     genres  predicted_ratings  \n",
              "1      Drama|Fantasy|Sci-Fi           5.899908  \n",
              "2                     Drama           5.516810  \n",
              "3            Fantasy|Sci-Fi           5.378223  \n",
              "4            Comedy|Romance           5.237245  \n",
              "5   Adventure|Drama|Romance           5.229980  \n",
              "6             Drama|Romance           5.214385  \n",
              "7                     Drama           5.197226  \n",
              "8    Drama|Mystery|Thriller           5.183567  \n",
              "9              Comedy|Drama           5.179176  \n",
              "10            Drama|Romance           5.142981  "
            ],
            "text/html": [
              "\n",
              "  <div id=\"df-6d78b995-e64b-43e8-82d2-e691d8ce2c36\">\n",
              "    <div class=\"colab-df-container\">\n",
              "      <div>\n",
              "<style scoped>\n",
              "    .dataframe tbody tr th:only-of-type {\n",
              "        vertical-align: middle;\n",
              "    }\n",
              "\n",
              "    .dataframe tbody tr th {\n",
              "        vertical-align: top;\n",
              "    }\n",
              "\n",
              "    .dataframe thead th {\n",
              "        text-align: right;\n",
              "    }\n",
              "</style>\n",
              "<table border=\"1\" class=\"dataframe\">\n",
              "  <thead>\n",
              "    <tr style=\"text-align: right;\">\n",
              "      <th></th>\n",
              "      <th>movieId</th>\n",
              "      <th>title</th>\n",
              "      <th>genres</th>\n",
              "      <th>predicted_ratings</th>\n",
              "    </tr>\n",
              "  </thead>\n",
              "  <tbody>\n",
              "    <tr>\n",
              "      <th>1</th>\n",
              "      <td>7842</td>\n",
              "      <td>Dune (2000)</td>\n",
              "      <td>Drama|Fantasy|Sci-Fi</td>\n",
              "      <td>5.899908</td>\n",
              "    </tr>\n",
              "    <tr>\n",
              "      <th>2</th>\n",
              "      <td>60943</td>\n",
              "      <td>Frozen River (2008)</td>\n",
              "      <td>Drama</td>\n",
              "      <td>5.516810</td>\n",
              "    </tr>\n",
              "    <tr>\n",
              "      <th>3</th>\n",
              "      <td>7841</td>\n",
              "      <td>Children of Dune (2003)</td>\n",
              "      <td>Fantasy|Sci-Fi</td>\n",
              "      <td>5.378223</td>\n",
              "    </tr>\n",
              "    <tr>\n",
              "      <th>4</th>\n",
              "      <td>2843</td>\n",
              "      <td>Black Cat, White Cat (Crna macka, beli macor) ...</td>\n",
              "      <td>Comedy|Romance</td>\n",
              "      <td>5.237245</td>\n",
              "    </tr>\n",
              "    <tr>\n",
              "      <th>5</th>\n",
              "      <td>42418</td>\n",
              "      <td>New World, The (2005)</td>\n",
              "      <td>Adventure|Drama|Romance</td>\n",
              "      <td>5.229980</td>\n",
              "    </tr>\n",
              "    <tr>\n",
              "      <th>6</th>\n",
              "      <td>7669</td>\n",
              "      <td>Pride and Prejudice (1995)</td>\n",
              "      <td>Drama|Romance</td>\n",
              "      <td>5.214385</td>\n",
              "    </tr>\n",
              "    <tr>\n",
              "      <th>7</th>\n",
              "      <td>3379</td>\n",
              "      <td>On the Beach (1959)</td>\n",
              "      <td>Drama</td>\n",
              "      <td>5.197226</td>\n",
              "    </tr>\n",
              "    <tr>\n",
              "      <th>8</th>\n",
              "      <td>82378</td>\n",
              "      <td>All Good Things (2010)</td>\n",
              "      <td>Drama|Mystery|Thriller</td>\n",
              "      <td>5.183567</td>\n",
              "    </tr>\n",
              "    <tr>\n",
              "      <th>9</th>\n",
              "      <td>5607</td>\n",
              "      <td>Son of the Bride (Hijo de la novia, El) (2001)</td>\n",
              "      <td>Comedy|Drama</td>\n",
              "      <td>5.179176</td>\n",
              "    </tr>\n",
              "    <tr>\n",
              "      <th>10</th>\n",
              "      <td>28</td>\n",
              "      <td>Persuasion (1995)</td>\n",
              "      <td>Drama|Romance</td>\n",
              "      <td>5.142981</td>\n",
              "    </tr>\n",
              "  </tbody>\n",
              "</table>\n",
              "</div>\n",
              "      <button class=\"colab-df-convert\" onclick=\"convertToInteractive('df-6d78b995-e64b-43e8-82d2-e691d8ce2c36')\"\n",
              "              title=\"Convert this dataframe to an interactive table.\"\n",
              "              style=\"display:none;\">\n",
              "        \n",
              "  <svg xmlns=\"http://www.w3.org/2000/svg\" height=\"24px\"viewBox=\"0 0 24 24\"\n",
              "       width=\"24px\">\n",
              "    <path d=\"M0 0h24v24H0V0z\" fill=\"none\"/>\n",
              "    <path d=\"M18.56 5.44l.94 2.06.94-2.06 2.06-.94-2.06-.94-.94-2.06-.94 2.06-2.06.94zm-11 1L8.5 8.5l.94-2.06 2.06-.94-2.06-.94L8.5 2.5l-.94 2.06-2.06.94zm10 10l.94 2.06.94-2.06 2.06-.94-2.06-.94-.94-2.06-.94 2.06-2.06.94z\"/><path d=\"M17.41 7.96l-1.37-1.37c-.4-.4-.92-.59-1.43-.59-.52 0-1.04.2-1.43.59L10.3 9.45l-7.72 7.72c-.78.78-.78 2.05 0 2.83L4 21.41c.39.39.9.59 1.41.59.51 0 1.02-.2 1.41-.59l7.78-7.78 2.81-2.81c.8-.78.8-2.07 0-2.86zM5.41 20L4 18.59l7.72-7.72 1.47 1.35L5.41 20z\"/>\n",
              "  </svg>\n",
              "      </button>\n",
              "      \n",
              "  <style>\n",
              "    .colab-df-container {\n",
              "      display:flex;\n",
              "      flex-wrap:wrap;\n",
              "      gap: 12px;\n",
              "    }\n",
              "\n",
              "    .colab-df-convert {\n",
              "      background-color: #E8F0FE;\n",
              "      border: none;\n",
              "      border-radius: 50%;\n",
              "      cursor: pointer;\n",
              "      display: none;\n",
              "      fill: #1967D2;\n",
              "      height: 32px;\n",
              "      padding: 0 0 0 0;\n",
              "      width: 32px;\n",
              "    }\n",
              "\n",
              "    .colab-df-convert:hover {\n",
              "      background-color: #E2EBFA;\n",
              "      box-shadow: 0px 1px 2px rgba(60, 64, 67, 0.3), 0px 1px 3px 1px rgba(60, 64, 67, 0.15);\n",
              "      fill: #174EA6;\n",
              "    }\n",
              "\n",
              "    [theme=dark] .colab-df-convert {\n",
              "      background-color: #3B4455;\n",
              "      fill: #D2E3FC;\n",
              "    }\n",
              "\n",
              "    [theme=dark] .colab-df-convert:hover {\n",
              "      background-color: #434B5C;\n",
              "      box-shadow: 0px 1px 3px 1px rgba(0, 0, 0, 0.15);\n",
              "      filter: drop-shadow(0px 1px 2px rgba(0, 0, 0, 0.3));\n",
              "      fill: #FFFFFF;\n",
              "    }\n",
              "  </style>\n",
              "\n",
              "      <script>\n",
              "        const buttonEl =\n",
              "          document.querySelector('#df-6d78b995-e64b-43e8-82d2-e691d8ce2c36 button.colab-df-convert');\n",
              "        buttonEl.style.display =\n",
              "          google.colab.kernel.accessAllowed ? 'block' : 'none';\n",
              "\n",
              "        async function convertToInteractive(key) {\n",
              "          const element = document.querySelector('#df-6d78b995-e64b-43e8-82d2-e691d8ce2c36');\n",
              "          const dataTable =\n",
              "            await google.colab.kernel.invokeFunction('convertToInteractive',\n",
              "                                                     [key], {});\n",
              "          if (!dataTable) return;\n",
              "\n",
              "          const docLinkHtml = 'Like what you see? Visit the ' +\n",
              "            '<a target=\"_blank\" href=https://colab.research.google.com/notebooks/data_table.ipynb>data table notebook</a>'\n",
              "            + ' to learn more about interactive tables.';\n",
              "          element.innerHTML = '';\n",
              "          dataTable['output_type'] = 'display_data';\n",
              "          await google.colab.output.renderOutput(dataTable, element);\n",
              "          const docLink = document.createElement('div');\n",
              "          docLink.innerHTML = docLinkHtml;\n",
              "          element.appendChild(docLink);\n",
              "        }\n",
              "      </script>\n",
              "    </div>\n",
              "  </div>\n",
              "  "
            ]
          },
          "metadata": {},
          "execution_count": 44
        }
      ]
    },
    {
      "cell_type": "code",
      "source": [
        "# top 15 for user 232\n",
        "topKRecommend(15,232,bestModel)"
      ],
      "metadata": {
        "colab": {
          "base_uri": "https://localhost:8080/",
          "height": 520
        },
        "id": "B02U1F43uzBt",
        "outputId": "a74e36c5-1927-45bd-90dd-0465bd696e15"
      },
      "execution_count": null,
      "outputs": [
        {
          "output_type": "execute_result",
          "data": {
            "text/plain": [
              "   movieId                                              title  \\\n",
              "1     7842                                        Dune (2000)   \n",
              "2     3925                      Stranger Than Paradise (1984)   \n",
              "3    26928              Summer's Tale, A (Conte d'été) (1996)   \n",
              "4   134796                                 Bitter Lake (2015)   \n",
              "5    26073  Human Condition III, The (Ningen no joken III)...   \n",
              "6   138966                   Nasu: Summer in Andalusia (2003)   \n",
              "7    84273                   Zeitgeist: Moving Forward (2011)   \n",
              "8     7071                Woman Under the Influence, A (1974)   \n",
              "9   117531                                   Watermark (2014)   \n",
              "10   78836                              Enter the Void (2009)   \n",
              "11  184245                            De platte jungle (1978)   \n",
              "12    4708                                  Marat/Sade (1966)   \n",
              "13    4429                                   Moby Dick (1956)   \n",
              "14   25906                             Mr. Skeffington (1944)   \n",
              "15   93008                       Very Potter Sequel, A (2010)   \n",
              "\n",
              "                  genres  predicted_ratings  \n",
              "1   Drama|Fantasy|Sci-Fi           5.021873  \n",
              "2           Comedy|Drama           4.937679  \n",
              "3   Comedy|Drama|Romance           4.803516  \n",
              "4            Documentary           4.803516  \n",
              "5              Drama|War           4.803516  \n",
              "6              Animation           4.803516  \n",
              "7            Documentary           4.803516  \n",
              "8                  Drama           4.803516  \n",
              "9            Documentary           4.803516  \n",
              "10                 Drama           4.803516  \n",
              "11           Documentary           4.803516  \n",
              "12         Drama|Musical           4.803516  \n",
              "13                 Drama           4.742889  \n",
              "14         Drama|Romance           4.647062  \n",
              "15        Comedy|Musical           4.647062  "
            ],
            "text/html": [
              "\n",
              "  <div id=\"df-5e64d2ae-53bb-423e-a7b1-d16897225770\">\n",
              "    <div class=\"colab-df-container\">\n",
              "      <div>\n",
              "<style scoped>\n",
              "    .dataframe tbody tr th:only-of-type {\n",
              "        vertical-align: middle;\n",
              "    }\n",
              "\n",
              "    .dataframe tbody tr th {\n",
              "        vertical-align: top;\n",
              "    }\n",
              "\n",
              "    .dataframe thead th {\n",
              "        text-align: right;\n",
              "    }\n",
              "</style>\n",
              "<table border=\"1\" class=\"dataframe\">\n",
              "  <thead>\n",
              "    <tr style=\"text-align: right;\">\n",
              "      <th></th>\n",
              "      <th>movieId</th>\n",
              "      <th>title</th>\n",
              "      <th>genres</th>\n",
              "      <th>predicted_ratings</th>\n",
              "    </tr>\n",
              "  </thead>\n",
              "  <tbody>\n",
              "    <tr>\n",
              "      <th>1</th>\n",
              "      <td>7842</td>\n",
              "      <td>Dune (2000)</td>\n",
              "      <td>Drama|Fantasy|Sci-Fi</td>\n",
              "      <td>5.021873</td>\n",
              "    </tr>\n",
              "    <tr>\n",
              "      <th>2</th>\n",
              "      <td>3925</td>\n",
              "      <td>Stranger Than Paradise (1984)</td>\n",
              "      <td>Comedy|Drama</td>\n",
              "      <td>4.937679</td>\n",
              "    </tr>\n",
              "    <tr>\n",
              "      <th>3</th>\n",
              "      <td>26928</td>\n",
              "      <td>Summer's Tale, A (Conte d'été) (1996)</td>\n",
              "      <td>Comedy|Drama|Romance</td>\n",
              "      <td>4.803516</td>\n",
              "    </tr>\n",
              "    <tr>\n",
              "      <th>4</th>\n",
              "      <td>134796</td>\n",
              "      <td>Bitter Lake (2015)</td>\n",
              "      <td>Documentary</td>\n",
              "      <td>4.803516</td>\n",
              "    </tr>\n",
              "    <tr>\n",
              "      <th>5</th>\n",
              "      <td>26073</td>\n",
              "      <td>Human Condition III, The (Ningen no joken III)...</td>\n",
              "      <td>Drama|War</td>\n",
              "      <td>4.803516</td>\n",
              "    </tr>\n",
              "    <tr>\n",
              "      <th>6</th>\n",
              "      <td>138966</td>\n",
              "      <td>Nasu: Summer in Andalusia (2003)</td>\n",
              "      <td>Animation</td>\n",
              "      <td>4.803516</td>\n",
              "    </tr>\n",
              "    <tr>\n",
              "      <th>7</th>\n",
              "      <td>84273</td>\n",
              "      <td>Zeitgeist: Moving Forward (2011)</td>\n",
              "      <td>Documentary</td>\n",
              "      <td>4.803516</td>\n",
              "    </tr>\n",
              "    <tr>\n",
              "      <th>8</th>\n",
              "      <td>7071</td>\n",
              "      <td>Woman Under the Influence, A (1974)</td>\n",
              "      <td>Drama</td>\n",
              "      <td>4.803516</td>\n",
              "    </tr>\n",
              "    <tr>\n",
              "      <th>9</th>\n",
              "      <td>117531</td>\n",
              "      <td>Watermark (2014)</td>\n",
              "      <td>Documentary</td>\n",
              "      <td>4.803516</td>\n",
              "    </tr>\n",
              "    <tr>\n",
              "      <th>10</th>\n",
              "      <td>78836</td>\n",
              "      <td>Enter the Void (2009)</td>\n",
              "      <td>Drama</td>\n",
              "      <td>4.803516</td>\n",
              "    </tr>\n",
              "    <tr>\n",
              "      <th>11</th>\n",
              "      <td>184245</td>\n",
              "      <td>De platte jungle (1978)</td>\n",
              "      <td>Documentary</td>\n",
              "      <td>4.803516</td>\n",
              "    </tr>\n",
              "    <tr>\n",
              "      <th>12</th>\n",
              "      <td>4708</td>\n",
              "      <td>Marat/Sade (1966)</td>\n",
              "      <td>Drama|Musical</td>\n",
              "      <td>4.803516</td>\n",
              "    </tr>\n",
              "    <tr>\n",
              "      <th>13</th>\n",
              "      <td>4429</td>\n",
              "      <td>Moby Dick (1956)</td>\n",
              "      <td>Drama</td>\n",
              "      <td>4.742889</td>\n",
              "    </tr>\n",
              "    <tr>\n",
              "      <th>14</th>\n",
              "      <td>25906</td>\n",
              "      <td>Mr. Skeffington (1944)</td>\n",
              "      <td>Drama|Romance</td>\n",
              "      <td>4.647062</td>\n",
              "    </tr>\n",
              "    <tr>\n",
              "      <th>15</th>\n",
              "      <td>93008</td>\n",
              "      <td>Very Potter Sequel, A (2010)</td>\n",
              "      <td>Comedy|Musical</td>\n",
              "      <td>4.647062</td>\n",
              "    </tr>\n",
              "  </tbody>\n",
              "</table>\n",
              "</div>\n",
              "      <button class=\"colab-df-convert\" onclick=\"convertToInteractive('df-5e64d2ae-53bb-423e-a7b1-d16897225770')\"\n",
              "              title=\"Convert this dataframe to an interactive table.\"\n",
              "              style=\"display:none;\">\n",
              "        \n",
              "  <svg xmlns=\"http://www.w3.org/2000/svg\" height=\"24px\"viewBox=\"0 0 24 24\"\n",
              "       width=\"24px\">\n",
              "    <path d=\"M0 0h24v24H0V0z\" fill=\"none\"/>\n",
              "    <path d=\"M18.56 5.44l.94 2.06.94-2.06 2.06-.94-2.06-.94-.94-2.06-.94 2.06-2.06.94zm-11 1L8.5 8.5l.94-2.06 2.06-.94-2.06-.94L8.5 2.5l-.94 2.06-2.06.94zm10 10l.94 2.06.94-2.06 2.06-.94-2.06-.94-.94-2.06-.94 2.06-2.06.94z\"/><path d=\"M17.41 7.96l-1.37-1.37c-.4-.4-.92-.59-1.43-.59-.52 0-1.04.2-1.43.59L10.3 9.45l-7.72 7.72c-.78.78-.78 2.05 0 2.83L4 21.41c.39.39.9.59 1.41.59.51 0 1.02-.2 1.41-.59l7.78-7.78 2.81-2.81c.8-.78.8-2.07 0-2.86zM5.41 20L4 18.59l7.72-7.72 1.47 1.35L5.41 20z\"/>\n",
              "  </svg>\n",
              "      </button>\n",
              "      \n",
              "  <style>\n",
              "    .colab-df-container {\n",
              "      display:flex;\n",
              "      flex-wrap:wrap;\n",
              "      gap: 12px;\n",
              "    }\n",
              "\n",
              "    .colab-df-convert {\n",
              "      background-color: #E8F0FE;\n",
              "      border: none;\n",
              "      border-radius: 50%;\n",
              "      cursor: pointer;\n",
              "      display: none;\n",
              "      fill: #1967D2;\n",
              "      height: 32px;\n",
              "      padding: 0 0 0 0;\n",
              "      width: 32px;\n",
              "    }\n",
              "\n",
              "    .colab-df-convert:hover {\n",
              "      background-color: #E2EBFA;\n",
              "      box-shadow: 0px 1px 2px rgba(60, 64, 67, 0.3), 0px 1px 3px 1px rgba(60, 64, 67, 0.15);\n",
              "      fill: #174EA6;\n",
              "    }\n",
              "\n",
              "    [theme=dark] .colab-df-convert {\n",
              "      background-color: #3B4455;\n",
              "      fill: #D2E3FC;\n",
              "    }\n",
              "\n",
              "    [theme=dark] .colab-df-convert:hover {\n",
              "      background-color: #434B5C;\n",
              "      box-shadow: 0px 1px 3px 1px rgba(0, 0, 0, 0.15);\n",
              "      filter: drop-shadow(0px 1px 2px rgba(0, 0, 0, 0.3));\n",
              "      fill: #FFFFFF;\n",
              "    }\n",
              "  </style>\n",
              "\n",
              "      <script>\n",
              "        const buttonEl =\n",
              "          document.querySelector('#df-5e64d2ae-53bb-423e-a7b1-d16897225770 button.colab-df-convert');\n",
              "        buttonEl.style.display =\n",
              "          google.colab.kernel.accessAllowed ? 'block' : 'none';\n",
              "\n",
              "        async function convertToInteractive(key) {\n",
              "          const element = document.querySelector('#df-5e64d2ae-53bb-423e-a7b1-d16897225770');\n",
              "          const dataTable =\n",
              "            await google.colab.kernel.invokeFunction('convertToInteractive',\n",
              "                                                     [key], {});\n",
              "          if (!dataTable) return;\n",
              "\n",
              "          const docLinkHtml = 'Like what you see? Visit the ' +\n",
              "            '<a target=\"_blank\" href=https://colab.research.google.com/notebooks/data_table.ipynb>data table notebook</a>'\n",
              "            + ' to learn more about interactive tables.';\n",
              "          element.innerHTML = '';\n",
              "          dataTable['output_type'] = 'display_data';\n",
              "          await google.colab.output.renderOutput(dataTable, element);\n",
              "          const docLink = document.createElement('div');\n",
              "          docLink.innerHTML = docLinkHtml;\n",
              "          element.appendChild(docLink);\n",
              "        }\n",
              "      </script>\n",
              "    </div>\n",
              "  </div>\n",
              "  "
            ]
          },
          "metadata": {},
          "execution_count": 45
        }
      ]
    },
    {
      "cell_type": "markdown",
      "metadata": {
        "id": "61xZKXPt56iN"
      },
      "source": [
        "## Find the similar moives for moive with id: 463, 471\n",
        "\n"
      ]
    },
    {
      "cell_type": "code",
      "metadata": {
        "id": "NOjlGTU55ul3",
        "colab": {
          "base_uri": "https://localhost:8080/"
        },
        "outputId": "3a7455ce-3292-42df-ec1d-5eefa73b50e5"
      },
      "source": [
        "# access the movie factor matrix\n",
        "movie_factors=bestModel.itemFactors\n",
        "movie_factors.printSchema()\n",
        "comd=[\"movie_factors.selectExpr('id as movieId',\"]\n",
        "for i in range(bestModel.rank):\n",
        "  if i<bestModel.rank-1:\n",
        "    comd.append(\"'features[\"+str(i)+\"] as feature\"+str(i)+\"',\")\n",
        "  else:\n",
        "    comd.append(\"'features[\"+str(i)+\"] as feature\"+str(i)+\"'\")\n",
        "comd.append(')')\n",
        "movie_factors=eval(''.join(comd))\n",
        "movie_factors.createOrReplaceTempView('movie_factors')\n",
        "movie_factors.show()"
      ],
      "execution_count": null,
      "outputs": [
        {
          "output_type": "stream",
          "name": "stdout",
          "text": [
            "root\n",
            " |-- id: integer (nullable = false)\n",
            " |-- features: array (nullable = true)\n",
            " |    |-- element: float (containsNull = false)\n",
            "\n",
            "+-------+----------+----------+-----------+-----------+------------+\n",
            "|movieId|  feature0|  feature1|   feature2|   feature3|    feature4|\n",
            "+-------+----------+----------+-----------+-----------+------------+\n",
            "|     10| 0.9830576| 1.2989286|  0.9227657| 0.07930806|   0.7836628|\n",
            "|     20| 0.8563774|0.74697506|  0.6879901|  0.9261114|  0.65651286|\n",
            "|     30|0.28146073|  1.354153| 0.25811765|   0.748403|  -1.6549864|\n",
            "|     40| 0.6662102| 0.6550887|  1.4425664| -0.8155902|   0.7104093|\n",
            "|     50| 1.1695677| 1.5067875|  1.2185287| 0.83106345| 0.090566166|\n",
            "|     60|0.59099096| 0.7606096|  1.4238003|-0.29006973|  0.43365318|\n",
            "|     70|0.69382584|  1.624055|  0.8636497|  0.2090742|  0.37982672|\n",
            "|     80|0.76167923| 1.2915943|  1.2156625| 0.88879204|-0.020599447|\n",
            "|    100| 0.7760451|0.88624746| 0.96546364|  0.3124448|  0.71428996|\n",
            "|    110| 1.2381037| 1.1291724|  1.4209328|  0.4121743|  0.56896037|\n",
            "|    140| 0.9648682| 0.9651264|  1.1547637| 0.45514303|   0.5782755|\n",
            "|    150| 0.5058193| 1.3345942|  1.5337538| 0.41948107|  0.42295182|\n",
            "|    160| 0.9063437|0.54528606|   1.184265|-0.45690632|  0.69079816|\n",
            "|    170| 0.6876352|0.83762443|  1.3822902| 0.38895535|  0.51082164|\n",
            "|    180|0.97394615| 1.5082927|  0.9200484| 0.24669358| -0.40953478|\n",
            "|    190|  2.054781| 1.9261396|-0.31848165|  0.8552119| -0.14773571|\n",
            "|    210|0.84802914|0.78063494|  1.0292712| 0.29482645| -0.17527193|\n",
            "|    220| 0.5304244|0.90908146|  1.0157607|-0.30403736| -0.16308612|\n",
            "|    230| 0.4203204| 0.9320228|  1.5063244|  0.5475905|   0.5924789|\n",
            "|    240| 0.8094615|0.25377765|  1.0672685|-0.17964973| 0.123947665|\n",
            "+-------+----------+----------+-----------+-----------+------------+\n",
            "only showing top 20 rows\n",
            "\n"
          ]
        }
      ]
    },
    {
      "cell_type": "code",
      "source": [
        "# method 1: Euclidean distance based similarity\n",
        "# the smaller the euclidean distance between the factors, the similar the movies\n",
        "# this similarity considers the actual strength,\n",
        "# e.g. movie 1 with factor [1,2,3] and movie 2 with factor [2,4,6] are considered not similar enough\n",
        "def dist_similar(k,mid):\n",
        "  '''\n",
        "  k: number of similar movies to find\n",
        "  mid: id of the movie to find similarities\n",
        "  '''\n",
        "  movie_info=spark.sql('select * from movie_factors where movieId='+str(mid)).toPandas()\n",
        "  if movie_info.shape[0]<=0:\n",
        "    print('No movie with id '+str(mid)+' is found in the data.')\n",
        "    return None, None\n",
        "  temp=['select movieId,']\n",
        "  for i in range(bestModel.rank):\n",
        "    val=movie_info.iloc[0,i+1]\n",
        "    if val>0:\n",
        "      comd='feature'+str(i)+'-'+str(val)\n",
        "    else:\n",
        "      comd='feature'+str(i)+'+'+str(-val)\n",
        "    if i<bestModel.rank-1:\n",
        "      temp.append('('+comd+')*('+comd+') as sd'+str(i)+',')\n",
        "    else:\n",
        "      temp.append('('+comd+')*('+comd+') as sd'+str(i))\n",
        "  temp.append('from movie_factors where movieId!='+str(mid))  \n",
        "  ssd=spark.sql(' '.join(temp))\n",
        "  ssd=ssd.selectExpr('movieId','sd0+sd1+sd2+sd2+sd4 as ssd').orderBy('ssd').limit(k).toPandas()\n",
        "  out=None\n",
        "  for i in ssd['movieId']:\n",
        "    if not out:\n",
        "      out=movies_df.where(movies_df.movieId==str(i))\n",
        "    else:\n",
        "      out=out.union(movies_df.where(movies_df.movieId==str(i)))\n",
        "  out=out.toPandas()\n",
        "  out.index=range(1,k+1)\n",
        "  return out, ssd"
      ],
      "metadata": {
        "id": "Ylxmk4b6FrLI"
      },
      "execution_count": null,
      "outputs": []
    },
    {
      "cell_type": "code",
      "source": [
        "# method 2: cosine similarity\n",
        "# the larger the cosine value, the smaller the two feature vectors' angle, the similar the movies\n",
        "# this similarity considers the direction only,\n",
        "# e.g. movie 1 with factor [1,2,3] and movie 2 with factor [2,4,6] are considered the same\n",
        "def cos_similar(k,mid):\n",
        "  '''\n",
        "  k: number of similar movies to find\n",
        "  mid: id of the movie to find similarities\n",
        "  '''\n",
        "  movie_info=spark.sql('select * from movie_factors where movieId='+str(mid)).toPandas()\n",
        "  if movie_info.shape[0]<=0:\n",
        "    print('No movie with id '+str(mid)+' is found in the data.')\n",
        "    return None, None\n",
        "  norm_m=sum(movie_info.iloc[0,1:].values**2)**0.5\n",
        "  temp=['select movieId,']\n",
        "  norm_str=['sqrt(']\n",
        "  for i in range(bestModel.rank):\n",
        "    comd='feature'+str(i)+'*'+str(movie_info.iloc[0,i+1])\n",
        "    temp.append(comd+' as inner'+str(i)+',')\n",
        "    if i<bestModel.rank-1:      \n",
        "      norm_str.append('feature'+str(i)+'*feature'+str(i)+'+')\n",
        "    else:\n",
        "      norm_str.append('feature'+str(i)+'*feature'+str(i))\n",
        "  norm_str.append(') as norm')\n",
        "  temp.append(''.join(norm_str))\n",
        "  temp.append(' from movie_factors where movieId!='+str(mid))  \n",
        "  inner=spark.sql(' '.join(temp))\n",
        "  inner=inner.selectExpr('movieId',\\\n",
        "                         '(inner0+inner1+inner2+inner3+inner4)/norm/'+str(norm_m)+' as innerP').\\\n",
        "                         orderBy('innerP',ascending=False).limit(k).toPandas()\n",
        "  out=None\n",
        "  for i in inner['movieId']:\n",
        "    if not out:\n",
        "      out=movies_df.where(movies_df.movieId==str(i))\n",
        "    else:\n",
        "      out=out.union(movies_df.where(movies_df.movieId==str(i)))\n",
        "  out=out.toPandas()\n",
        "  out.index=range(1,k+1)\n",
        "  return out, inner"
      ],
      "metadata": {
        "id": "nHYFkZbNrHsd"
      },
      "execution_count": null,
      "outputs": []
    },
    {
      "cell_type": "code",
      "source": [
        "# movie id 463, method 1, top 10 similar\n",
        "out11,ssd1=dist_similar(10,463)"
      ],
      "metadata": {
        "id": "AvAbYL2IrHpm",
        "colab": {
          "base_uri": "https://localhost:8080/"
        },
        "outputId": "16fd1943-c484-4e43-f772-d1d2d8583275"
      },
      "execution_count": null,
      "outputs": [
        {
          "output_type": "stream",
          "name": "stdout",
          "text": [
            "No movie with id 463 is found in the data.\n"
          ]
        }
      ]
    },
    {
      "cell_type": "code",
      "source": [
        "# movie id 463, method 2, top 10 similar\n",
        "out12,inner1=cos_similar(10,463)"
      ],
      "metadata": {
        "id": "y-WLoCUxrHmv",
        "colab": {
          "base_uri": "https://localhost:8080/"
        },
        "outputId": "a1bcfa22-b770-4658-f2d8-beab36700607"
      },
      "execution_count": null,
      "outputs": [
        {
          "output_type": "stream",
          "name": "stdout",
          "text": [
            "No movie with id 463 is found in the data.\n"
          ]
        }
      ]
    },
    {
      "cell_type": "code",
      "source": [
        "# movie id 471, method 1, top 10 similar\n",
        "out21,ssd2=dist_similar(10,471)\n",
        "out21"
      ],
      "metadata": {
        "id": "MU1_ngYvrHjm",
        "colab": {
          "base_uri": "https://localhost:8080/"
        },
        "outputId": "49d194d7-6b2b-4fdf-dab8-beef3690914d"
      },
      "execution_count": null,
      "outputs": [
        {
          "output_type": "execute_result",
          "data": {
            "text/plain": [
              "   movieId                                  title  \\\n",
              "1       76                       Screamers (1995)   \n",
              "2    47629                       The Queen (2006)   \n",
              "3    80969                 Never Let Me Go (2010)   \n",
              "4     1354              Breaking the Waves (1996)   \n",
              "5    34530  Deuce Bigalow: European Gigolo (2005)   \n",
              "6    53519                     Death Proof (2007)   \n",
              "7    40148                        Revolver (2005)   \n",
              "8    34332                        Sky High (2005)   \n",
              "9    89904                      The Artist (2011)   \n",
              "10  127108                        Brooklyn (2015)   \n",
              "\n",
              "                                    genres  \n",
              "1                   Action|Sci-Fi|Thriller  \n",
              "2                                    Drama  \n",
              "3                     Drama|Romance|Sci-Fi  \n",
              "4                            Drama|Mystery  \n",
              "5                                   Comedy  \n",
              "6   Action|Adventure|Crime|Horror|Thriller  \n",
              "7                     Crime|Drama|Thriller  \n",
              "8         Action|Adventure|Children|Comedy  \n",
              "9                     Comedy|Drama|Romance  \n",
              "10                           Drama|Romance  "
            ],
            "text/html": [
              "\n",
              "  <div id=\"df-b0d76f07-73ed-4f40-869d-c57ffef78208\">\n",
              "    <div class=\"colab-df-container\">\n",
              "      <div>\n",
              "<style scoped>\n",
              "    .dataframe tbody tr th:only-of-type {\n",
              "        vertical-align: middle;\n",
              "    }\n",
              "\n",
              "    .dataframe tbody tr th {\n",
              "        vertical-align: top;\n",
              "    }\n",
              "\n",
              "    .dataframe thead th {\n",
              "        text-align: right;\n",
              "    }\n",
              "</style>\n",
              "<table border=\"1\" class=\"dataframe\">\n",
              "  <thead>\n",
              "    <tr style=\"text-align: right;\">\n",
              "      <th></th>\n",
              "      <th>movieId</th>\n",
              "      <th>title</th>\n",
              "      <th>genres</th>\n",
              "    </tr>\n",
              "  </thead>\n",
              "  <tbody>\n",
              "    <tr>\n",
              "      <th>1</th>\n",
              "      <td>76</td>\n",
              "      <td>Screamers (1995)</td>\n",
              "      <td>Action|Sci-Fi|Thriller</td>\n",
              "    </tr>\n",
              "    <tr>\n",
              "      <th>2</th>\n",
              "      <td>47629</td>\n",
              "      <td>The Queen (2006)</td>\n",
              "      <td>Drama</td>\n",
              "    </tr>\n",
              "    <tr>\n",
              "      <th>3</th>\n",
              "      <td>80969</td>\n",
              "      <td>Never Let Me Go (2010)</td>\n",
              "      <td>Drama|Romance|Sci-Fi</td>\n",
              "    </tr>\n",
              "    <tr>\n",
              "      <th>4</th>\n",
              "      <td>1354</td>\n",
              "      <td>Breaking the Waves (1996)</td>\n",
              "      <td>Drama|Mystery</td>\n",
              "    </tr>\n",
              "    <tr>\n",
              "      <th>5</th>\n",
              "      <td>34530</td>\n",
              "      <td>Deuce Bigalow: European Gigolo (2005)</td>\n",
              "      <td>Comedy</td>\n",
              "    </tr>\n",
              "    <tr>\n",
              "      <th>6</th>\n",
              "      <td>53519</td>\n",
              "      <td>Death Proof (2007)</td>\n",
              "      <td>Action|Adventure|Crime|Horror|Thriller</td>\n",
              "    </tr>\n",
              "    <tr>\n",
              "      <th>7</th>\n",
              "      <td>40148</td>\n",
              "      <td>Revolver (2005)</td>\n",
              "      <td>Crime|Drama|Thriller</td>\n",
              "    </tr>\n",
              "    <tr>\n",
              "      <th>8</th>\n",
              "      <td>34332</td>\n",
              "      <td>Sky High (2005)</td>\n",
              "      <td>Action|Adventure|Children|Comedy</td>\n",
              "    </tr>\n",
              "    <tr>\n",
              "      <th>9</th>\n",
              "      <td>89904</td>\n",
              "      <td>The Artist (2011)</td>\n",
              "      <td>Comedy|Drama|Romance</td>\n",
              "    </tr>\n",
              "    <tr>\n",
              "      <th>10</th>\n",
              "      <td>127108</td>\n",
              "      <td>Brooklyn (2015)</td>\n",
              "      <td>Drama|Romance</td>\n",
              "    </tr>\n",
              "  </tbody>\n",
              "</table>\n",
              "</div>\n",
              "      <button class=\"colab-df-convert\" onclick=\"convertToInteractive('df-b0d76f07-73ed-4f40-869d-c57ffef78208')\"\n",
              "              title=\"Convert this dataframe to an interactive table.\"\n",
              "              style=\"display:none;\">\n",
              "        \n",
              "  <svg xmlns=\"http://www.w3.org/2000/svg\" height=\"24px\"viewBox=\"0 0 24 24\"\n",
              "       width=\"24px\">\n",
              "    <path d=\"M0 0h24v24H0V0z\" fill=\"none\"/>\n",
              "    <path d=\"M18.56 5.44l.94 2.06.94-2.06 2.06-.94-2.06-.94-.94-2.06-.94 2.06-2.06.94zm-11 1L8.5 8.5l.94-2.06 2.06-.94-2.06-.94L8.5 2.5l-.94 2.06-2.06.94zm10 10l.94 2.06.94-2.06 2.06-.94-2.06-.94-.94-2.06-.94 2.06-2.06.94z\"/><path d=\"M17.41 7.96l-1.37-1.37c-.4-.4-.92-.59-1.43-.59-.52 0-1.04.2-1.43.59L10.3 9.45l-7.72 7.72c-.78.78-.78 2.05 0 2.83L4 21.41c.39.39.9.59 1.41.59.51 0 1.02-.2 1.41-.59l7.78-7.78 2.81-2.81c.8-.78.8-2.07 0-2.86zM5.41 20L4 18.59l7.72-7.72 1.47 1.35L5.41 20z\"/>\n",
              "  </svg>\n",
              "      </button>\n",
              "      \n",
              "  <style>\n",
              "    .colab-df-container {\n",
              "      display:flex;\n",
              "      flex-wrap:wrap;\n",
              "      gap: 12px;\n",
              "    }\n",
              "\n",
              "    .colab-df-convert {\n",
              "      background-color: #E8F0FE;\n",
              "      border: none;\n",
              "      border-radius: 50%;\n",
              "      cursor: pointer;\n",
              "      display: none;\n",
              "      fill: #1967D2;\n",
              "      height: 32px;\n",
              "      padding: 0 0 0 0;\n",
              "      width: 32px;\n",
              "    }\n",
              "\n",
              "    .colab-df-convert:hover {\n",
              "      background-color: #E2EBFA;\n",
              "      box-shadow: 0px 1px 2px rgba(60, 64, 67, 0.3), 0px 1px 3px 1px rgba(60, 64, 67, 0.15);\n",
              "      fill: #174EA6;\n",
              "    }\n",
              "\n",
              "    [theme=dark] .colab-df-convert {\n",
              "      background-color: #3B4455;\n",
              "      fill: #D2E3FC;\n",
              "    }\n",
              "\n",
              "    [theme=dark] .colab-df-convert:hover {\n",
              "      background-color: #434B5C;\n",
              "      box-shadow: 0px 1px 3px 1px rgba(0, 0, 0, 0.15);\n",
              "      filter: drop-shadow(0px 1px 2px rgba(0, 0, 0, 0.3));\n",
              "      fill: #FFFFFF;\n",
              "    }\n",
              "  </style>\n",
              "\n",
              "      <script>\n",
              "        const buttonEl =\n",
              "          document.querySelector('#df-b0d76f07-73ed-4f40-869d-c57ffef78208 button.colab-df-convert');\n",
              "        buttonEl.style.display =\n",
              "          google.colab.kernel.accessAllowed ? 'block' : 'none';\n",
              "\n",
              "        async function convertToInteractive(key) {\n",
              "          const element = document.querySelector('#df-b0d76f07-73ed-4f40-869d-c57ffef78208');\n",
              "          const dataTable =\n",
              "            await google.colab.kernel.invokeFunction('convertToInteractive',\n",
              "                                                     [key], {});\n",
              "          if (!dataTable) return;\n",
              "\n",
              "          const docLinkHtml = 'Like what you see? Visit the ' +\n",
              "            '<a target=\"_blank\" href=https://colab.research.google.com/notebooks/data_table.ipynb>data table notebook</a>'\n",
              "            + ' to learn more about interactive tables.';\n",
              "          element.innerHTML = '';\n",
              "          dataTable['output_type'] = 'display_data';\n",
              "          await google.colab.output.renderOutput(dataTable, element);\n",
              "          const docLink = document.createElement('div');\n",
              "          docLink.innerHTML = docLinkHtml;\n",
              "          element.appendChild(docLink);\n",
              "        }\n",
              "      </script>\n",
              "    </div>\n",
              "  </div>\n",
              "  "
            ]
          },
          "metadata": {},
          "execution_count": 51
        }
      ]
    },
    {
      "cell_type": "code",
      "source": [
        "# movie id 471, method 2, top 10 similar\n",
        "out22,inner2=cos_similar(10,471)\n",
        "out22"
      ],
      "metadata": {
        "id": "s6SvYz7-rHgt",
        "colab": {
          "base_uri": "https://localhost:8080/"
        },
        "outputId": "a23dea1a-6bb9-425c-de1f-95fdfdafc079"
      },
      "execution_count": null,
      "outputs": [
        {
          "output_type": "execute_result",
          "data": {
            "text/plain": [
              "   movieId                                      title  \\\n",
              "1    47629                           The Queen (2006)   \n",
              "2      453                   For Love or Money (1993)   \n",
              "3     2672               Thirteenth Floor, The (1999)   \n",
              "4    80969                     Never Let Me Go (2010)   \n",
              "5    34530      Deuce Bigalow: European Gigolo (2005)   \n",
              "6      612                     Pallbearer, The (1996)   \n",
              "7     8815             Exorcist: The Beginning (2004)   \n",
              "8   127108                            Brooklyn (2015)   \n",
              "9    96821    Perks of Being a Wallflower, The (2012)   \n",
              "10  136864  Batman v Superman: Dawn of Justice (2016)   \n",
              "\n",
              "                             genres  \n",
              "1                             Drama  \n",
              "2                    Comedy|Romance  \n",
              "3             Drama|Sci-Fi|Thriller  \n",
              "4              Drama|Romance|Sci-Fi  \n",
              "5                            Comedy  \n",
              "6                            Comedy  \n",
              "7                   Horror|Thriller  \n",
              "8                     Drama|Romance  \n",
              "9                     Drama|Romance  \n",
              "10  Action|Adventure|Fantasy|Sci-Fi  "
            ],
            "text/html": [
              "\n",
              "  <div id=\"df-48610038-9950-4ae2-a0db-c54313a47b77\">\n",
              "    <div class=\"colab-df-container\">\n",
              "      <div>\n",
              "<style scoped>\n",
              "    .dataframe tbody tr th:only-of-type {\n",
              "        vertical-align: middle;\n",
              "    }\n",
              "\n",
              "    .dataframe tbody tr th {\n",
              "        vertical-align: top;\n",
              "    }\n",
              "\n",
              "    .dataframe thead th {\n",
              "        text-align: right;\n",
              "    }\n",
              "</style>\n",
              "<table border=\"1\" class=\"dataframe\">\n",
              "  <thead>\n",
              "    <tr style=\"text-align: right;\">\n",
              "      <th></th>\n",
              "      <th>movieId</th>\n",
              "      <th>title</th>\n",
              "      <th>genres</th>\n",
              "    </tr>\n",
              "  </thead>\n",
              "  <tbody>\n",
              "    <tr>\n",
              "      <th>1</th>\n",
              "      <td>47629</td>\n",
              "      <td>The Queen (2006)</td>\n",
              "      <td>Drama</td>\n",
              "    </tr>\n",
              "    <tr>\n",
              "      <th>2</th>\n",
              "      <td>453</td>\n",
              "      <td>For Love or Money (1993)</td>\n",
              "      <td>Comedy|Romance</td>\n",
              "    </tr>\n",
              "    <tr>\n",
              "      <th>3</th>\n",
              "      <td>2672</td>\n",
              "      <td>Thirteenth Floor, The (1999)</td>\n",
              "      <td>Drama|Sci-Fi|Thriller</td>\n",
              "    </tr>\n",
              "    <tr>\n",
              "      <th>4</th>\n",
              "      <td>80969</td>\n",
              "      <td>Never Let Me Go (2010)</td>\n",
              "      <td>Drama|Romance|Sci-Fi</td>\n",
              "    </tr>\n",
              "    <tr>\n",
              "      <th>5</th>\n",
              "      <td>34530</td>\n",
              "      <td>Deuce Bigalow: European Gigolo (2005)</td>\n",
              "      <td>Comedy</td>\n",
              "    </tr>\n",
              "    <tr>\n",
              "      <th>6</th>\n",
              "      <td>612</td>\n",
              "      <td>Pallbearer, The (1996)</td>\n",
              "      <td>Comedy</td>\n",
              "    </tr>\n",
              "    <tr>\n",
              "      <th>7</th>\n",
              "      <td>8815</td>\n",
              "      <td>Exorcist: The Beginning (2004)</td>\n",
              "      <td>Horror|Thriller</td>\n",
              "    </tr>\n",
              "    <tr>\n",
              "      <th>8</th>\n",
              "      <td>127108</td>\n",
              "      <td>Brooklyn (2015)</td>\n",
              "      <td>Drama|Romance</td>\n",
              "    </tr>\n",
              "    <tr>\n",
              "      <th>9</th>\n",
              "      <td>96821</td>\n",
              "      <td>Perks of Being a Wallflower, The (2012)</td>\n",
              "      <td>Drama|Romance</td>\n",
              "    </tr>\n",
              "    <tr>\n",
              "      <th>10</th>\n",
              "      <td>136864</td>\n",
              "      <td>Batman v Superman: Dawn of Justice (2016)</td>\n",
              "      <td>Action|Adventure|Fantasy|Sci-Fi</td>\n",
              "    </tr>\n",
              "  </tbody>\n",
              "</table>\n",
              "</div>\n",
              "      <button class=\"colab-df-convert\" onclick=\"convertToInteractive('df-48610038-9950-4ae2-a0db-c54313a47b77')\"\n",
              "              title=\"Convert this dataframe to an interactive table.\"\n",
              "              style=\"display:none;\">\n",
              "        \n",
              "  <svg xmlns=\"http://www.w3.org/2000/svg\" height=\"24px\"viewBox=\"0 0 24 24\"\n",
              "       width=\"24px\">\n",
              "    <path d=\"M0 0h24v24H0V0z\" fill=\"none\"/>\n",
              "    <path d=\"M18.56 5.44l.94 2.06.94-2.06 2.06-.94-2.06-.94-.94-2.06-.94 2.06-2.06.94zm-11 1L8.5 8.5l.94-2.06 2.06-.94-2.06-.94L8.5 2.5l-.94 2.06-2.06.94zm10 10l.94 2.06.94-2.06 2.06-.94-2.06-.94-.94-2.06-.94 2.06-2.06.94z\"/><path d=\"M17.41 7.96l-1.37-1.37c-.4-.4-.92-.59-1.43-.59-.52 0-1.04.2-1.43.59L10.3 9.45l-7.72 7.72c-.78.78-.78 2.05 0 2.83L4 21.41c.39.39.9.59 1.41.59.51 0 1.02-.2 1.41-.59l7.78-7.78 2.81-2.81c.8-.78.8-2.07 0-2.86zM5.41 20L4 18.59l7.72-7.72 1.47 1.35L5.41 20z\"/>\n",
              "  </svg>\n",
              "      </button>\n",
              "      \n",
              "  <style>\n",
              "    .colab-df-container {\n",
              "      display:flex;\n",
              "      flex-wrap:wrap;\n",
              "      gap: 12px;\n",
              "    }\n",
              "\n",
              "    .colab-df-convert {\n",
              "      background-color: #E8F0FE;\n",
              "      border: none;\n",
              "      border-radius: 50%;\n",
              "      cursor: pointer;\n",
              "      display: none;\n",
              "      fill: #1967D2;\n",
              "      height: 32px;\n",
              "      padding: 0 0 0 0;\n",
              "      width: 32px;\n",
              "    }\n",
              "\n",
              "    .colab-df-convert:hover {\n",
              "      background-color: #E2EBFA;\n",
              "      box-shadow: 0px 1px 2px rgba(60, 64, 67, 0.3), 0px 1px 3px 1px rgba(60, 64, 67, 0.15);\n",
              "      fill: #174EA6;\n",
              "    }\n",
              "\n",
              "    [theme=dark] .colab-df-convert {\n",
              "      background-color: #3B4455;\n",
              "      fill: #D2E3FC;\n",
              "    }\n",
              "\n",
              "    [theme=dark] .colab-df-convert:hover {\n",
              "      background-color: #434B5C;\n",
              "      box-shadow: 0px 1px 3px 1px rgba(0, 0, 0, 0.15);\n",
              "      filter: drop-shadow(0px 1px 2px rgba(0, 0, 0, 0.3));\n",
              "      fill: #FFFFFF;\n",
              "    }\n",
              "  </style>\n",
              "\n",
              "      <script>\n",
              "        const buttonEl =\n",
              "          document.querySelector('#df-48610038-9950-4ae2-a0db-c54313a47b77 button.colab-df-convert');\n",
              "        buttonEl.style.display =\n",
              "          google.colab.kernel.accessAllowed ? 'block' : 'none';\n",
              "\n",
              "        async function convertToInteractive(key) {\n",
              "          const element = document.querySelector('#df-48610038-9950-4ae2-a0db-c54313a47b77');\n",
              "          const dataTable =\n",
              "            await google.colab.kernel.invokeFunction('convertToInteractive',\n",
              "                                                     [key], {});\n",
              "          if (!dataTable) return;\n",
              "\n",
              "          const docLinkHtml = 'Like what you see? Visit the ' +\n",
              "            '<a target=\"_blank\" href=https://colab.research.google.com/notebooks/data_table.ipynb>data table notebook</a>'\n",
              "            + ' to learn more about interactive tables.';\n",
              "          element.innerHTML = '';\n",
              "          dataTable['output_type'] = 'display_data';\n",
              "          await google.colab.output.renderOutput(dataTable, element);\n",
              "          const docLink = document.createElement('div');\n",
              "          docLink.innerHTML = docLinkHtml;\n",
              "          element.appendChild(docLink);\n",
              "        }\n",
              "      </script>\n",
              "    </div>\n",
              "  </div>\n",
              "  "
            ]
          },
          "metadata": {},
          "execution_count": 52
        }
      ]
    },
    {
      "cell_type": "code",
      "source": [
        "# movie id 10, method 1, top 5 similar\n",
        "out31,ssd3=dist_similar(5,10)\n",
        "out31"
      ],
      "metadata": {
        "id": "CV4w7ZuCrHd5",
        "colab": {
          "base_uri": "https://localhost:8080/"
        },
        "outputId": "f115fabb-4122-4c23-b0d4-f3809e8a0de8"
      },
      "execution_count": null,
      "outputs": [
        {
          "output_type": "execute_result",
          "data": {
            "text/plain": [
              "  movieId                            title  \\\n",
              "1    2763  Thomas Crown Affair, The (1999)   \n",
              "2   49530             Blood Diamond (2006)   \n",
              "3   51662                       300 (2007)   \n",
              "4   87222           Kung Fu Panda 2 (2011)   \n",
              "5    7325           Starsky & Hutch (2004)   \n",
              "\n",
              "                                            genres  \n",
              "1                                   Action|Mystery  \n",
              "2        Action|Adventure|Crime|Drama|Thriller|War  \n",
              "3                          Action|Fantasy|War|IMAX  \n",
              "4  Action|Adventure|Animation|Children|Comedy|IMAX  \n",
              "5                     Action|Comedy|Crime|Thriller  "
            ],
            "text/html": [
              "\n",
              "  <div id=\"df-68fe5778-8124-4110-abe2-1e2237ac1978\">\n",
              "    <div class=\"colab-df-container\">\n",
              "      <div>\n",
              "<style scoped>\n",
              "    .dataframe tbody tr th:only-of-type {\n",
              "        vertical-align: middle;\n",
              "    }\n",
              "\n",
              "    .dataframe tbody tr th {\n",
              "        vertical-align: top;\n",
              "    }\n",
              "\n",
              "    .dataframe thead th {\n",
              "        text-align: right;\n",
              "    }\n",
              "</style>\n",
              "<table border=\"1\" class=\"dataframe\">\n",
              "  <thead>\n",
              "    <tr style=\"text-align: right;\">\n",
              "      <th></th>\n",
              "      <th>movieId</th>\n",
              "      <th>title</th>\n",
              "      <th>genres</th>\n",
              "    </tr>\n",
              "  </thead>\n",
              "  <tbody>\n",
              "    <tr>\n",
              "      <th>1</th>\n",
              "      <td>2763</td>\n",
              "      <td>Thomas Crown Affair, The (1999)</td>\n",
              "      <td>Action|Mystery</td>\n",
              "    </tr>\n",
              "    <tr>\n",
              "      <th>2</th>\n",
              "      <td>49530</td>\n",
              "      <td>Blood Diamond (2006)</td>\n",
              "      <td>Action|Adventure|Crime|Drama|Thriller|War</td>\n",
              "    </tr>\n",
              "    <tr>\n",
              "      <th>3</th>\n",
              "      <td>51662</td>\n",
              "      <td>300 (2007)</td>\n",
              "      <td>Action|Fantasy|War|IMAX</td>\n",
              "    </tr>\n",
              "    <tr>\n",
              "      <th>4</th>\n",
              "      <td>87222</td>\n",
              "      <td>Kung Fu Panda 2 (2011)</td>\n",
              "      <td>Action|Adventure|Animation|Children|Comedy|IMAX</td>\n",
              "    </tr>\n",
              "    <tr>\n",
              "      <th>5</th>\n",
              "      <td>7325</td>\n",
              "      <td>Starsky &amp; Hutch (2004)</td>\n",
              "      <td>Action|Comedy|Crime|Thriller</td>\n",
              "    </tr>\n",
              "  </tbody>\n",
              "</table>\n",
              "</div>\n",
              "      <button class=\"colab-df-convert\" onclick=\"convertToInteractive('df-68fe5778-8124-4110-abe2-1e2237ac1978')\"\n",
              "              title=\"Convert this dataframe to an interactive table.\"\n",
              "              style=\"display:none;\">\n",
              "        \n",
              "  <svg xmlns=\"http://www.w3.org/2000/svg\" height=\"24px\"viewBox=\"0 0 24 24\"\n",
              "       width=\"24px\">\n",
              "    <path d=\"M0 0h24v24H0V0z\" fill=\"none\"/>\n",
              "    <path d=\"M18.56 5.44l.94 2.06.94-2.06 2.06-.94-2.06-.94-.94-2.06-.94 2.06-2.06.94zm-11 1L8.5 8.5l.94-2.06 2.06-.94-2.06-.94L8.5 2.5l-.94 2.06-2.06.94zm10 10l.94 2.06.94-2.06 2.06-.94-2.06-.94-.94-2.06-.94 2.06-2.06.94z\"/><path d=\"M17.41 7.96l-1.37-1.37c-.4-.4-.92-.59-1.43-.59-.52 0-1.04.2-1.43.59L10.3 9.45l-7.72 7.72c-.78.78-.78 2.05 0 2.83L4 21.41c.39.39.9.59 1.41.59.51 0 1.02-.2 1.41-.59l7.78-7.78 2.81-2.81c.8-.78.8-2.07 0-2.86zM5.41 20L4 18.59l7.72-7.72 1.47 1.35L5.41 20z\"/>\n",
              "  </svg>\n",
              "      </button>\n",
              "      \n",
              "  <style>\n",
              "    .colab-df-container {\n",
              "      display:flex;\n",
              "      flex-wrap:wrap;\n",
              "      gap: 12px;\n",
              "    }\n",
              "\n",
              "    .colab-df-convert {\n",
              "      background-color: #E8F0FE;\n",
              "      border: none;\n",
              "      border-radius: 50%;\n",
              "      cursor: pointer;\n",
              "      display: none;\n",
              "      fill: #1967D2;\n",
              "      height: 32px;\n",
              "      padding: 0 0 0 0;\n",
              "      width: 32px;\n",
              "    }\n",
              "\n",
              "    .colab-df-convert:hover {\n",
              "      background-color: #E2EBFA;\n",
              "      box-shadow: 0px 1px 2px rgba(60, 64, 67, 0.3), 0px 1px 3px 1px rgba(60, 64, 67, 0.15);\n",
              "      fill: #174EA6;\n",
              "    }\n",
              "\n",
              "    [theme=dark] .colab-df-convert {\n",
              "      background-color: #3B4455;\n",
              "      fill: #D2E3FC;\n",
              "    }\n",
              "\n",
              "    [theme=dark] .colab-df-convert:hover {\n",
              "      background-color: #434B5C;\n",
              "      box-shadow: 0px 1px 3px 1px rgba(0, 0, 0, 0.15);\n",
              "      filter: drop-shadow(0px 1px 2px rgba(0, 0, 0, 0.3));\n",
              "      fill: #FFFFFF;\n",
              "    }\n",
              "  </style>\n",
              "\n",
              "      <script>\n",
              "        const buttonEl =\n",
              "          document.querySelector('#df-68fe5778-8124-4110-abe2-1e2237ac1978 button.colab-df-convert');\n",
              "        buttonEl.style.display =\n",
              "          google.colab.kernel.accessAllowed ? 'block' : 'none';\n",
              "\n",
              "        async function convertToInteractive(key) {\n",
              "          const element = document.querySelector('#df-68fe5778-8124-4110-abe2-1e2237ac1978');\n",
              "          const dataTable =\n",
              "            await google.colab.kernel.invokeFunction('convertToInteractive',\n",
              "                                                     [key], {});\n",
              "          if (!dataTable) return;\n",
              "\n",
              "          const docLinkHtml = 'Like what you see? Visit the ' +\n",
              "            '<a target=\"_blank\" href=https://colab.research.google.com/notebooks/data_table.ipynb>data table notebook</a>'\n",
              "            + ' to learn more about interactive tables.';\n",
              "          element.innerHTML = '';\n",
              "          dataTable['output_type'] = 'display_data';\n",
              "          await google.colab.output.renderOutput(dataTable, element);\n",
              "          const docLink = document.createElement('div');\n",
              "          docLink.innerHTML = docLinkHtml;\n",
              "          element.appendChild(docLink);\n",
              "        }\n",
              "      </script>\n",
              "    </div>\n",
              "  </div>\n",
              "  "
            ]
          },
          "metadata": {},
          "execution_count": 53
        }
      ]
    },
    {
      "cell_type": "code",
      "source": [
        "# movie id 10, method 2, top 5 similar\n",
        "out42,inner3=cos_similar(5,10)\n",
        "out42"
      ],
      "metadata": {
        "id": "GIC4i2hBrHbA",
        "colab": {
          "base_uri": "https://localhost:8080/"
        },
        "outputId": "04db28d2-571b-4192-a661-4d817757e8e1"
      },
      "execution_count": null,
      "outputs": [
        {
          "output_type": "execute_result",
          "data": {
            "text/plain": [
              "  movieId                                              title  \\\n",
              "1    6333                            X2: X-Men United (2003)   \n",
              "2   56012  Evening with Kevin Smith 2: Evening Harder, An...   \n",
              "3    7294                        Welcome to Mooseport (2004)   \n",
              "4    7325                             Starsky & Hutch (2004)   \n",
              "5    5307                     Taking Care of Business (1990)   \n",
              "\n",
              "                             genres  \n",
              "1  Action|Adventure|Sci-Fi|Thriller  \n",
              "2                Comedy|Documentary  \n",
              "3                            Comedy  \n",
              "4      Action|Comedy|Crime|Thriller  \n",
              "5                            Comedy  "
            ],
            "text/html": [
              "\n",
              "  <div id=\"df-1fd99240-0138-4fad-b473-4fb91fdc0fe0\">\n",
              "    <div class=\"colab-df-container\">\n",
              "      <div>\n",
              "<style scoped>\n",
              "    .dataframe tbody tr th:only-of-type {\n",
              "        vertical-align: middle;\n",
              "    }\n",
              "\n",
              "    .dataframe tbody tr th {\n",
              "        vertical-align: top;\n",
              "    }\n",
              "\n",
              "    .dataframe thead th {\n",
              "        text-align: right;\n",
              "    }\n",
              "</style>\n",
              "<table border=\"1\" class=\"dataframe\">\n",
              "  <thead>\n",
              "    <tr style=\"text-align: right;\">\n",
              "      <th></th>\n",
              "      <th>movieId</th>\n",
              "      <th>title</th>\n",
              "      <th>genres</th>\n",
              "    </tr>\n",
              "  </thead>\n",
              "  <tbody>\n",
              "    <tr>\n",
              "      <th>1</th>\n",
              "      <td>6333</td>\n",
              "      <td>X2: X-Men United (2003)</td>\n",
              "      <td>Action|Adventure|Sci-Fi|Thriller</td>\n",
              "    </tr>\n",
              "    <tr>\n",
              "      <th>2</th>\n",
              "      <td>56012</td>\n",
              "      <td>Evening with Kevin Smith 2: Evening Harder, An...</td>\n",
              "      <td>Comedy|Documentary</td>\n",
              "    </tr>\n",
              "    <tr>\n",
              "      <th>3</th>\n",
              "      <td>7294</td>\n",
              "      <td>Welcome to Mooseport (2004)</td>\n",
              "      <td>Comedy</td>\n",
              "    </tr>\n",
              "    <tr>\n",
              "      <th>4</th>\n",
              "      <td>7325</td>\n",
              "      <td>Starsky &amp; Hutch (2004)</td>\n",
              "      <td>Action|Comedy|Crime|Thriller</td>\n",
              "    </tr>\n",
              "    <tr>\n",
              "      <th>5</th>\n",
              "      <td>5307</td>\n",
              "      <td>Taking Care of Business (1990)</td>\n",
              "      <td>Comedy</td>\n",
              "    </tr>\n",
              "  </tbody>\n",
              "</table>\n",
              "</div>\n",
              "      <button class=\"colab-df-convert\" onclick=\"convertToInteractive('df-1fd99240-0138-4fad-b473-4fb91fdc0fe0')\"\n",
              "              title=\"Convert this dataframe to an interactive table.\"\n",
              "              style=\"display:none;\">\n",
              "        \n",
              "  <svg xmlns=\"http://www.w3.org/2000/svg\" height=\"24px\"viewBox=\"0 0 24 24\"\n",
              "       width=\"24px\">\n",
              "    <path d=\"M0 0h24v24H0V0z\" fill=\"none\"/>\n",
              "    <path d=\"M18.56 5.44l.94 2.06.94-2.06 2.06-.94-2.06-.94-.94-2.06-.94 2.06-2.06.94zm-11 1L8.5 8.5l.94-2.06 2.06-.94-2.06-.94L8.5 2.5l-.94 2.06-2.06.94zm10 10l.94 2.06.94-2.06 2.06-.94-2.06-.94-.94-2.06-.94 2.06-2.06.94z\"/><path d=\"M17.41 7.96l-1.37-1.37c-.4-.4-.92-.59-1.43-.59-.52 0-1.04.2-1.43.59L10.3 9.45l-7.72 7.72c-.78.78-.78 2.05 0 2.83L4 21.41c.39.39.9.59 1.41.59.51 0 1.02-.2 1.41-.59l7.78-7.78 2.81-2.81c.8-.78.8-2.07 0-2.86zM5.41 20L4 18.59l7.72-7.72 1.47 1.35L5.41 20z\"/>\n",
              "  </svg>\n",
              "      </button>\n",
              "      \n",
              "  <style>\n",
              "    .colab-df-container {\n",
              "      display:flex;\n",
              "      flex-wrap:wrap;\n",
              "      gap: 12px;\n",
              "    }\n",
              "\n",
              "    .colab-df-convert {\n",
              "      background-color: #E8F0FE;\n",
              "      border: none;\n",
              "      border-radius: 50%;\n",
              "      cursor: pointer;\n",
              "      display: none;\n",
              "      fill: #1967D2;\n",
              "      height: 32px;\n",
              "      padding: 0 0 0 0;\n",
              "      width: 32px;\n",
              "    }\n",
              "\n",
              "    .colab-df-convert:hover {\n",
              "      background-color: #E2EBFA;\n",
              "      box-shadow: 0px 1px 2px rgba(60, 64, 67, 0.3), 0px 1px 3px 1px rgba(60, 64, 67, 0.15);\n",
              "      fill: #174EA6;\n",
              "    }\n",
              "\n",
              "    [theme=dark] .colab-df-convert {\n",
              "      background-color: #3B4455;\n",
              "      fill: #D2E3FC;\n",
              "    }\n",
              "\n",
              "    [theme=dark] .colab-df-convert:hover {\n",
              "      background-color: #434B5C;\n",
              "      box-shadow: 0px 1px 3px 1px rgba(0, 0, 0, 0.15);\n",
              "      filter: drop-shadow(0px 1px 2px rgba(0, 0, 0, 0.3));\n",
              "      fill: #FFFFFF;\n",
              "    }\n",
              "  </style>\n",
              "\n",
              "      <script>\n",
              "        const buttonEl =\n",
              "          document.querySelector('#df-1fd99240-0138-4fad-b473-4fb91fdc0fe0 button.colab-df-convert');\n",
              "        buttonEl.style.display =\n",
              "          google.colab.kernel.accessAllowed ? 'block' : 'none';\n",
              "\n",
              "        async function convertToInteractive(key) {\n",
              "          const element = document.querySelector('#df-1fd99240-0138-4fad-b473-4fb91fdc0fe0');\n",
              "          const dataTable =\n",
              "            await google.colab.kernel.invokeFunction('convertToInteractive',\n",
              "                                                     [key], {});\n",
              "          if (!dataTable) return;\n",
              "\n",
              "          const docLinkHtml = 'Like what you see? Visit the ' +\n",
              "            '<a target=\"_blank\" href=https://colab.research.google.com/notebooks/data_table.ipynb>data table notebook</a>'\n",
              "            + ' to learn more about interactive tables.';\n",
              "          element.innerHTML = '';\n",
              "          dataTable['output_type'] = 'display_data';\n",
              "          await google.colab.output.renderOutput(dataTable, element);\n",
              "          const docLink = document.createElement('div');\n",
              "          docLink.innerHTML = docLinkHtml;\n",
              "          element.appendChild(docLink);\n",
              "        }\n",
              "      </script>\n",
              "    </div>\n",
              "  </div>\n",
              "  "
            ]
          },
          "metadata": {},
          "execution_count": 54
        }
      ]
    }
  ]
}